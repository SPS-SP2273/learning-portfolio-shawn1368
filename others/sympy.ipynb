{
 "cells": [
  {
   "cell_type": "markdown",
   "metadata": {
    "collapsed": false
   },
   "source": [
    "# Sympy"
   ]
  },
  {
   "cell_type": "code",
   "execution_count": 1,
   "metadata": {
    "collapsed": false
   },
   "outputs": [],
   "source": [
    "import numpy as np\n",
    "import matplotlib as mpl\n",
    "import matplotlib.pyplot as plt\n",
    "import sympy"
   ]
  },
  {
   "cell_type": "code",
   "execution_count": 2,
   "metadata": {
    "collapsed": false
   },
   "outputs": [
    {
     "data": {
      "text/plain": "-24*pi*h/(l**4*(exp(c*h/(T*k*l)) - 1)) + 8*pi*c*h**2*exp(c*h/(T*k*l))/(T*k*l**5*(exp(c*h/(T*k*l)) - 1)**2)",
      "text/latex": "$\\displaystyle - \\frac{24 \\pi h}{l^{4} \\left(e^{\\frac{c h}{T k l}} - 1\\right)} + \\frac{8 \\pi c h^{2} e^{\\frac{c h}{T k l}}}{T k l^{5} \\left(e^{\\frac{c h}{T k l}} - 1\\right)^{2}}$"
     },
     "execution_count": 2,
     "metadata": {},
     "output_type": "execute_result"
    }
   ],
   "source": [
    "h, c, l, k, T = sympy.symbols(\"h c l k T\")\n",
    "sympy.diff(((8 * sympy.pi * h)/(l**3)) * (1/(sympy.exp((h * c)/(l * k * T)) - 1)), l)"
   ]
  }
 ],
 "metadata": {
  "kernelspec": {
   "display_name": "Python 3",
   "language": "python",
   "name": "python3"
  },
  "language_info": {
   "codemirror_mode": {
    "name": "ipython",
    "version": 3
   },
   "file_extension": ".py",
   "mimetype": "text/x-python",
   "name": "python",
   "nbconvert_exporter": "python",
   "pygments_lexer": "ipython3",
   "version": "3.11.1"
  },
  "vscode": {
   "interpreter": {
    "hash": "f57b9cf5c82010a366e20b38341283e7bd9bcac020b4e008777539e03a0a3fc8"
   }
  }
 },
 "nbformat": 4,
 "nbformat_minor": 0
}
