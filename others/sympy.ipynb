{
 "cells": [
  {
   "cell_type": "markdown",
   "metadata": {},
   "source": [
    "# Sympy"
   ]
  },
  {
   "cell_type": "code",
   "execution_count": 30,
   "metadata": {
    "collapsed": false,
    "jupyter": {
     "outputs_hidden": false
    }
   },
   "outputs": [],
   "source": [
    "import numpy as np\n",
    "import matplotlib as mpl\n",
    "import matplotlib.pyplot as plt\n",
    "import sympy\n",
    "from sympy import *"
   ]
  },
  {
   "cell_type": "code",
   "execution_count": 2,
   "metadata": {
    "collapsed": false,
    "jupyter": {
     "outputs_hidden": false
    },
    "tags": []
   },
   "outputs": [],
   "source": [
    "h, c, l, k, T, x, y, z, a, b = symbols(\"h c l k T x y z a b\")"
   ]
  },
  {
   "cell_type": "code",
   "execution_count": 3,
   "metadata": {
    "tags": []
   },
   "outputs": [],
   "source": [
    "diff_result = diff(((8 * pi * h * c)/(l**5)) * (1/(exp((h * c)/(l * k * T)) - 1)), l)"
   ]
  },
  {
   "cell_type": "code",
   "execution_count": 4,
   "metadata": {
    "tags": []
   },
   "outputs": [
    {
     "data": {
      "text/latex": [
       "$\\displaystyle - \\frac{40 \\pi c h}{l^{6} \\left(e^{\\frac{c h}{T k l}} - 1\\right)} + \\frac{8 \\pi c^{2} h^{2} e^{\\frac{c h}{T k l}}}{T k l^{7} \\left(e^{\\frac{c h}{T k l}} - 1\\right)^{2}}$"
      ],
      "text/plain": [
       "-40*pi*c*h/(l**6*(exp(c*h/(T*k*l)) - 1)) + 8*pi*c**2*h**2*exp(c*h/(T*k*l))/(T*k*l**7*(exp(c*h/(T*k*l)) - 1)**2)"
      ]
     },
     "execution_count": 4,
     "metadata": {},
     "output_type": "execute_result"
    }
   ],
   "source": [
    "diff_result"
   ]
  },
  {
   "cell_type": "code",
   "execution_count": 5,
   "metadata": {
    "tags": []
   },
   "outputs": [],
   "source": [
    "stationary_st = Eq(diff_result, 0)"
   ]
  },
  {
   "cell_type": "code",
   "execution_count": 6,
   "metadata": {
    "tags": []
   },
   "outputs": [
    {
     "data": {
      "text/latex": [
       "$\\displaystyle - \\frac{40 \\pi c h}{l^{6} \\left(e^{\\frac{c h}{T k l}} - 1\\right)} + \\frac{8 \\pi c^{2} h^{2} e^{\\frac{c h}{T k l}}}{T k l^{7} \\left(e^{\\frac{c h}{T k l}} - 1\\right)^{2}} = 0$"
      ],
      "text/plain": [
       "Eq(-40*pi*c*h/(l**6*(exp(c*h/(T*k*l)) - 1)) + 8*pi*c**2*h**2*exp(c*h/(T*k*l))/(T*k*l**7*(exp(c*h/(T*k*l)) - 1)**2), 0)"
      ]
     },
     "execution_count": 6,
     "metadata": {},
     "output_type": "execute_result"
    }
   ],
   "source": [
    "stationary_st"
   ]
  },
  {
   "cell_type": "code",
   "execution_count": 7,
   "metadata": {
    "tags": []
   },
   "outputs": [
    {
     "data": {
      "text/latex": [
       "$\\displaystyle \\frac{8 \\pi a \\left(5 T k l \\left(1 - e^{\\frac{a}{T l}}\\right) + c h e^{\\frac{a}{T l}}\\right)}{T l^{7} \\left(1 - e^{\\frac{a}{T l}}\\right)^{2}} = 0$"
      ],
      "text/plain": [
       "Eq(8*pi*a*(5*T*k*l*(1 - exp(a/(T*l))) + c*h*exp(a/(T*l)))/(T*l**7*(1 - exp(a/(T*l)))**2), 0)"
      ]
     },
     "execution_count": 7,
     "metadata": {},
     "output_type": "execute_result"
    }
   ],
   "source": [
    "simpler_stat = simplify(stationary_st).subs((h * c) / k, a)\n",
    "simpler_stat"
   ]
  },
  {
   "cell_type": "code",
   "execution_count": 8,
   "metadata": {
    "tags": []
   },
   "outputs": [
    {
     "data": {
      "text/latex": [
       "$\\displaystyle \\left\\{l\\; \\middle|\\; l \\in \\mathbb{C} \\wedge - 5 T k l e^{\\frac{a}{T l}} + 5 T k l + c h e^{\\frac{a}{T l}} = 0 \\right\\} \\setminus \\left(\\left\\{0\\right\\} \\cup \\left\\{l\\; \\middle|\\; l \\in \\mathbb{C} \\wedge \\left(e^{\\frac{a}{T l}} - 1\\right)^{2} = 0 \\right\\}\\right)$"
      ],
      "text/plain": [
       "Complement(ConditionSet(l, Eq(-5*T*k*l*exp(a/(T*l)) + 5*T*k*l + c*h*exp(a/(T*l)), 0), Complexes), Union(ConditionSet(l, Eq((exp(a/(T*l)) - 1)**2, 0), Complexes), {0}))"
      ]
     },
     "execution_count": 8,
     "metadata": {},
     "output_type": "execute_result"
    }
   ],
   "source": [
    "solveset(simpler_stat, l)"
   ]
  },
  {
   "cell_type": "code",
   "execution_count": 9,
   "metadata": {
    "tags": []
   },
   "outputs": [
    {
     "data": {
      "text/latex": [
       "$\\displaystyle \\left\\{l\\; \\middle|\\; l \\in \\left(-\\infty, 0\\right) \\cup \\left(0, \\infty\\right) \\wedge - 5 T k l e^{\\frac{c h}{T k l}} + 5 T k l + c h e^{\\frac{c h}{T k l}} = 0 \\right\\}$"
      ],
      "text/plain": [
       "ConditionSet(l, Eq(-5*T*k*l*exp(c*h/(T*k*l)) + 5*T*k*l + c*h*exp(c*h/(T*k*l)), 0), Union(Interval.open(-oo, 0), Interval.open(0, oo)))"
      ]
     },
     "execution_count": 9,
     "metadata": {},
     "output_type": "execute_result"
    }
   ],
   "source": [
    "stationary_points(((8 * pi * h * c)/(l**5)) * (1/(exp((h * c)/(l * k * T)) - 1)), l)"
   ]
  },
  {
   "cell_type": "code",
   "execution_count": 10,
   "metadata": {},
   "outputs": [
    {
     "data": {
      "text/latex": [
       "$\\displaystyle \\left\\{2 n \\pi + \\frac{\\pi}{2}\\; \\middle|\\; n \\in \\mathbb{Z}\\right\\} \\cup \\left\\{2 n \\pi + \\frac{3 \\pi}{2}\\; \\middle|\\; n \\in \\mathbb{Z}\\right\\}$"
      ],
      "text/plain": [
       "Union(ImageSet(Lambda(_n, 2*_n*pi + pi/2), Integers), ImageSet(Lambda(_n, 2*_n*pi + 3*pi/2), Integers))"
      ]
     },
     "execution_count": 10,
     "metadata": {},
     "output_type": "execute_result"
    }
   ],
   "source": [
    "stationary_points(sin(x), x)"
   ]
  },
  {
   "cell_type": "code",
   "execution_count": 11,
   "metadata": {
    "tags": []
   },
   "outputs": [
    {
     "data": {
      "text/latex": [
       "$\\displaystyle 1$"
      ],
      "text/plain": [
       "1"
      ]
     },
     "execution_count": 11,
     "metadata": {},
     "output_type": "execute_result"
    }
   ],
   "source": [
    "simplify(sin(x)**2 + cos(x)**2)"
   ]
  },
  {
   "cell_type": "code",
   "execution_count": 12,
   "metadata": {
    "tags": []
   },
   "outputs": [
    {
     "data": {
      "text/latex": [
       "$\\displaystyle x - 1$"
      ],
      "text/plain": [
       "x - 1"
      ]
     },
     "execution_count": 12,
     "metadata": {},
     "output_type": "execute_result"
    }
   ],
   "source": [
    "simplify((x**3 + x**2 - x - 1)/(x**2 + 2*x + 1))"
   ]
  },
  {
   "cell_type": "code",
   "execution_count": 13,
   "metadata": {
    "tags": []
   },
   "outputs": [
    {
     "data": {
      "text/latex": [
       "$\\displaystyle \\sin{\\left(x \\right)} \\cos{\\left(y \\right)} + \\sin{\\left(y \\right)} \\cos{\\left(x \\right)}$"
      ],
      "text/plain": [
       "sin(x)*cos(y) + sin(y)*cos(x)"
      ]
     },
     "execution_count": 13,
     "metadata": {},
     "output_type": "execute_result"
    }
   ],
   "source": [
    "expand_trig(sin(x + y))"
   ]
  },
  {
   "cell_type": "code",
   "execution_count": 14,
   "metadata": {
    "tags": []
   },
   "outputs": [
    {
     "data": {
      "text/latex": [
       "$\\displaystyle x^{a + b}$"
      ],
      "text/plain": [
       "x**(a + b)"
      ]
     },
     "execution_count": 14,
     "metadata": {},
     "output_type": "execute_result"
    }
   ],
   "source": [
    "powsimp(x**a*x**b)"
   ]
  },
  {
   "cell_type": "code",
   "execution_count": 15,
   "metadata": {
    "tags": []
   },
   "outputs": [
    {
     "data": {
      "text/latex": [
       "$\\displaystyle -2$"
      ],
      "text/plain": [
       "-2"
      ]
     },
     "execution_count": 15,
     "metadata": {},
     "output_type": "execute_result"
    }
   ],
   "source": [
    "expand((x + 1)*(x - 2) - (x - 1)*x)"
   ]
  },
  {
   "cell_type": "code",
   "execution_count": 16,
   "metadata": {
    "tags": []
   },
   "outputs": [
    {
     "data": {
      "text/latex": [
       "$\\displaystyle x^{3} z^{2} \\left(x^{3} y^{3} z^{3} + 14 x^{2} y^{2} z^{2} + 52 x y z + 48\\right) e^{x y z}$"
      ],
      "text/plain": [
       "x**3*z**2*(x**3*y**3*z**3 + 14*x**2*y**2*z**2 + 52*x*y*z + 48)*exp(x*y*z)"
      ]
     },
     "execution_count": 16,
     "metadata": {},
     "output_type": "execute_result"
    }
   ],
   "source": [
    "expr = diff(exp(x*y*z), x, y, y, y, z, z, y)\n",
    "expr"
   ]
  },
  {
   "cell_type": "code",
   "execution_count": 17,
   "metadata": {
    "tags": []
   },
   "outputs": [
    {
     "data": {
      "text/latex": [
       "$\\displaystyle \\left\\{0, 1\\right\\}$"
      ],
      "text/plain": [
       "{0, 1}"
      ]
     },
     "execution_count": 17,
     "metadata": {},
     "output_type": "execute_result"
    }
   ],
   "source": [
    "solveset(x**2 - x, x)"
   ]
  },
  {
   "cell_type": "code",
   "execution_count": 13,
   "metadata": {
    "execution": {
     "iopub.execute_input": "2023-01-17T14:51:05.558682Z",
     "iopub.status.busy": "2023-01-17T14:51:05.558413Z",
     "iopub.status.idle": "2023-01-17T14:51:05.908811Z",
     "shell.execute_reply": "2023-01-17T14:51:05.908105Z",
     "shell.execute_reply.started": "2023-01-17T14:51:05.558662Z"
    },
    "tags": []
   },
   "outputs": [
    {
     "data": {
      "image/png": "[encoded data removed]",
      "text/plain": [
       "<Figure size 640x480 with 1 Axes>"
      ]
     },
     "metadata": {},
     "output_type": "display_data"
    },
    {
     "data": {
      "text/plain": [
       "<sympy.plotting.plot.Plot at 0x115dd29d0>"
      ]
     },
     "execution_count": 13,
     "metadata": {},
     "output_type": "execute_result"
    }
   ],
   "source": [
    "plot(x**2, (x, -5, 5))"
   ]
  },
  {
   "cell_type": "code",
   "execution_count": 19,
   "metadata": {},
   "outputs": [],
   "source": [
    "θ = symbols(\"θ\")"
   ]
  },
  {
   "cell_type": "code",
   "execution_count": 21,
   "metadata": {},
   "outputs": [],
   "source": [
    "Rot = Matrix([[cos(θ), -sin(θ), 0], [sin(θ), cos(θ), 0], [0, 0, 1]])"
   ]
  },
  {
   "cell_type": "code",
   "execution_count": 25,
   "metadata": {},
   "outputs": [
    {
     "data": {
      "text/latex": [
       "$\\displaystyle \\left[\\begin{matrix}1 & 0 & 0\\\\0 & 1 & 0\\\\0 & 0 & 1\\end{matrix}\\right]$"
      ],
      "text/plain": [
       "Matrix([\n",
       "[1, 0, 0],\n",
       "[0, 1, 0],\n",
       "[0, 0, 1]])"
      ]
     },
     "execution_count": 25,
     "metadata": {},
     "output_type": "execute_result"
    }
   ],
   "source": [
    "simplify(Rot * Rot.T)"
   ]
  },
  {
   "cell_type": "code",
   "execution_count": 26,
   "metadata": {},
   "outputs": [],
   "source": [
    "Ax, Ay, Az, Bx, By, Bz = symbols(\"Ax Ay Az Bx By Bz\")"
   ]
  },
  {
   "cell_type": "code",
   "execution_count": 27,
   "metadata": {},
   "outputs": [],
   "source": [
    "A = Matrix([Ax, Ay, Az])\n",
    "B = Matrix([Bx, By, Bz])"
   ]
  },
  {
   "cell_type": "code",
   "execution_count": 34,
   "metadata": {},
   "outputs": [
    {
     "data": {
      "text/latex": [
       "$\\displaystyle Ax Bx + Ay By + Az Bz$"
      ],
      "text/plain": [
       "Ax*Bx + Ay*By + Az*Bz"
      ]
     },
     "execution_count": 34,
     "metadata": {},
     "output_type": "execute_result"
    }
   ],
   "source": [
    "A.dot(B)"
   ]
  },
  {
   "cell_type": "code",
   "execution_count": 36,
   "metadata": {},
   "outputs": [
    {
     "data": {
      "text/latex": [
       "$\\displaystyle Az Bz + \\left(Ax \\sin{\\left(θ \\right)} + Ay \\cos{\\left(θ \\right)}\\right) \\left(Bx \\sin{\\left(θ \\right)} + By \\cos{\\left(θ \\right)}\\right) + \\left(Ax \\cos{\\left(θ \\right)} - Ay \\sin{\\left(θ \\right)}\\right) \\left(Bx \\cos{\\left(θ \\right)} - By \\sin{\\left(θ \\right)}\\right)$"
      ],
      "text/plain": [
       "Az*Bz + (Ax*sin(θ) + Ay*cos(θ))*(Bx*sin(θ) + By*cos(θ)) + (Ax*cos(θ) - Ay*sin(θ))*(Bx*cos(θ) - By*sin(θ))"
      ]
     },
     "execution_count": 36,
     "metadata": {},
     "output_type": "execute_result"
    }
   ],
   "source": [
    "interm = (Rot * A).dot(Rot * B)\n",
    "interm"
   ]
  },
  {
   "cell_type": "code",
   "execution_count": 37,
   "metadata": {},
   "outputs": [
    {
     "data": {
      "text/latex": [
       "$\\displaystyle Ax Bx + Ay By + Az Bz$"
      ],
      "text/plain": [
       "Ax*Bx + Ay*By + Az*Bz"
      ]
     },
     "execution_count": 37,
     "metadata": {},
     "output_type": "execute_result"
    }
   ],
   "source": [
    "simplify(interm)"
   ]
  }
 ],
 "metadata": {
  "kernelspec": {
   "display_name": "Python 3 (ipykernel)",
   "language": "python",
   "name": "python3"
  },
  "language_info": {
   "codemirror_mode": {
    "name": "ipython",
    "version": 3
   },
   "file_extension": ".py",
   "mimetype": "text/x-python",
   "name": "python",
   "nbconvert_exporter": "python",
   "pygments_lexer": "ipython3",
   "version": "3.11.1"
  },
  "vscode": {
   "interpreter": {
    "hash": "f57b9cf5c82010a366e20b38341283e7bd9bcac020b4e008777539e03a0a3fc8"
   }
  }
 },
 "nbformat": 4,
 "nbformat_minor": 4
}
