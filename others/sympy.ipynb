{
 "cells": [
  {
   "cell_type": "markdown",
   "metadata": {},
   "source": [
    "# Sympy"
   ]
  },
  {
   "cell_type": "code",
   "execution_count": 1,
   "metadata": {
    "collapsed": false,
    "execution": {
     "iopub.execute_input": "2023-01-17T09:05:55.417515Z",
     "iopub.status.busy": "2023-01-17T09:05:55.417185Z",
     "iopub.status.idle": "2023-01-17T09:05:56.723838Z",
     "shell.execute_reply": "2023-01-17T09:05:56.723222Z",
     "shell.execute_reply.started": "2023-01-17T09:05:55.417489Z"
    },
    "jupyter": {
     "outputs_hidden": false
    }
   },
   "outputs": [],
   "source": [
    "import numpy as np\n",
    "import matplotlib as mpl\n",
    "import matplotlib.pyplot as plt\n",
    "from sympy import *"
   ]
  },
  {
   "cell_type": "code",
   "execution_count": 17,
   "metadata": {
    "collapsed": false,
    "execution": {
     "iopub.execute_input": "2023-01-17T09:16:29.401112Z",
     "iopub.status.busy": "2023-01-17T09:16:29.400767Z",
     "iopub.status.idle": "2023-01-17T09:16:29.406107Z",
     "shell.execute_reply": "2023-01-17T09:16:29.404847Z",
     "shell.execute_reply.started": "2023-01-17T09:16:29.401084Z"
    },
    "jupyter": {
     "outputs_hidden": false
    },
    "tags": []
   },
   "outputs": [],
   "source": [
    "h, c, l, k, T, x, y, z, a, b = symbols(\"h c l k T x y z a b\")"
   ]
  },
  {
   "cell_type": "code",
   "execution_count": 10,
   "metadata": {
    "execution": {
     "iopub.execute_input": "2023-01-17T09:11:45.325504Z",
     "iopub.status.busy": "2023-01-17T09:11:45.325148Z",
     "iopub.status.idle": "2023-01-17T09:11:45.338243Z",
     "shell.execute_reply": "2023-01-17T09:11:45.337491Z",
     "shell.execute_reply.started": "2023-01-17T09:11:45.325474Z"
    },
    "tags": []
   },
   "outputs": [
    {
     "data": {
      "text/latex": [
       "$\\displaystyle - \\frac{40 \\pi c h}{l^{6} \\left(e^{\\frac{c h}{T k l}} - 1\\right)} + \\frac{8 \\pi c^{2} h^{2} e^{\\frac{c h}{T k l}}}{T k l^{7} \\left(e^{\\frac{c h}{T k l}} - 1\\right)^{2}}$"
      ],
      "text/plain": [
       "-40*pi*c*h/(l**6*(exp(c*h/(T*k*l)) - 1)) + 8*pi*c**2*h**2*exp(c*h/(T*k*l))/(T*k*l**7*(exp(c*h/(T*k*l)) - 1)**2)"
      ]
     },
     "execution_count": 10,
     "metadata": {},
     "output_type": "execute_result"
    }
   ],
   "source": [
    "diff(((8 * pi * h * c)/(l**5)) * (1/(exp((h * c)/(l * k * T)) - 1)), l)"
   ]
  },
  {
   "cell_type": "code",
   "execution_count": 3,
   "metadata": {
    "execution": {
     "iopub.execute_input": "2023-01-17T09:05:57.015450Z",
     "iopub.status.busy": "2023-01-17T09:05:57.015137Z",
     "iopub.status.idle": "2023-01-17T09:05:57.550949Z",
     "shell.execute_reply": "2023-01-17T09:05:57.550155Z",
     "shell.execute_reply.started": "2023-01-17T09:05:57.015429Z"
    }
   },
   "outputs": [
    {
     "data": {
      "text/latex": [
       "$\\displaystyle \\left\\{l\\; \\middle|\\; l \\in \\left(-\\infty, 0\\right) \\cup \\left(0, \\infty\\right) \\wedge - 5 T k l e^{\\frac{c h}{T k l}} + 5 T k l + c h e^{\\frac{c h}{T k l}} = 0 \\right\\}$"
      ],
      "text/plain": [
       "ConditionSet(l, Eq(-5*T*k*l*exp(c*h/(T*k*l)) + 5*T*k*l + c*h*exp(c*h/(T*k*l)), 0), Union(Interval.open(-oo, 0), Interval.open(0, oo)))"
      ]
     },
     "execution_count": 3,
     "metadata": {},
     "output_type": "execute_result"
    }
   ],
   "source": [
    "stationary_points(((8 * pi * h * c)/(l**5)) * (1/(exp((h * c)/(l * k * T)) - 1)), l)"
   ]
  },
  {
   "cell_type": "code",
   "execution_count": 4,
   "metadata": {
    "execution": {
     "iopub.execute_input": "2023-01-17T09:05:57.553356Z",
     "iopub.status.busy": "2023-01-17T09:05:57.553071Z",
     "iopub.status.idle": "2023-01-17T09:05:57.646467Z",
     "shell.execute_reply": "2023-01-17T09:05:57.645505Z",
     "shell.execute_reply.started": "2023-01-17T09:05:57.553331Z"
    }
   },
   "outputs": [
    {
     "data": {
      "text/latex": [
       "$\\displaystyle \\left\\{2 n \\pi + \\frac{\\pi}{2}\\; \\middle|\\; n \\in \\mathbb{Z}\\right\\} \\cup \\left\\{2 n \\pi + \\frac{3 \\pi}{2}\\; \\middle|\\; n \\in \\mathbb{Z}\\right\\}$"
      ],
      "text/plain": [
       "Union(ImageSet(Lambda(_n, 2*_n*pi + pi/2), Integers), ImageSet(Lambda(_n, 2*_n*pi + 3*pi/2), Integers))"
      ]
     },
     "execution_count": 4,
     "metadata": {},
     "output_type": "execute_result"
    }
   ],
   "source": [
    "stationary_points(sin(x), x)"
   ]
  },
  {
   "cell_type": "code",
   "execution_count": 5,
   "metadata": {
    "execution": {
     "iopub.execute_input": "2023-01-17T09:06:00.545652Z",
     "iopub.status.busy": "2023-01-17T09:06:00.545278Z",
     "iopub.status.idle": "2023-01-17T09:06:00.604008Z",
     "shell.execute_reply": "2023-01-17T09:06:00.603426Z",
     "shell.execute_reply.started": "2023-01-17T09:06:00.545622Z"
    },
    "tags": []
   },
   "outputs": [
    {
     "data": {
      "text/latex": [
       "$\\displaystyle 1$"
      ],
      "text/plain": [
       "1"
      ]
     },
     "execution_count": 5,
     "metadata": {},
     "output_type": "execute_result"
    }
   ],
   "source": [
    "simplify(sin(x)**2 + cos(x)**2)"
   ]
  },
  {
   "cell_type": "code",
   "execution_count": 6,
   "metadata": {
    "execution": {
     "iopub.execute_input": "2023-01-17T09:07:16.870823Z",
     "iopub.status.busy": "2023-01-17T09:07:16.870474Z",
     "iopub.status.idle": "2023-01-17T09:07:16.915270Z",
     "shell.execute_reply": "2023-01-17T09:07:16.914348Z",
     "shell.execute_reply.started": "2023-01-17T09:07:16.870795Z"
    },
    "tags": []
   },
   "outputs": [
    {
     "data": {
      "text/latex": [
       "$\\displaystyle x - 1$"
      ],
      "text/plain": [
       "x - 1"
      ]
     },
     "execution_count": 6,
     "metadata": {},
     "output_type": "execute_result"
    }
   ],
   "source": [
    "simplify((x**3 + x**2 - x - 1)/(x**2 + 2*x + 1))"
   ]
  },
  {
   "cell_type": "code",
   "execution_count": 13,
   "metadata": {
    "execution": {
     "iopub.execute_input": "2023-01-17T09:12:26.036006Z",
     "iopub.status.busy": "2023-01-17T09:12:26.035673Z",
     "iopub.status.idle": "2023-01-17T09:12:26.044665Z",
     "shell.execute_reply": "2023-01-17T09:12:26.043135Z",
     "shell.execute_reply.started": "2023-01-17T09:12:26.035982Z"
    },
    "tags": []
   },
   "outputs": [
    {
     "data": {
      "text/latex": [
       "$\\displaystyle \\sin{\\left(x \\right)} \\cos{\\left(y \\right)} + \\sin{\\left(y \\right)} \\cos{\\left(x \\right)}$"
      ],
      "text/plain": [
       "sin(x)*cos(y) + sin(y)*cos(x)"
      ]
     },
     "execution_count": 13,
     "metadata": {},
     "output_type": "execute_result"
    }
   ],
   "source": [
    "expand_trig(sin(x + y))"
   ]
  },
  {
   "cell_type": "code",
   "execution_count": 14,
   "metadata": {
    "execution": {
     "iopub.execute_input": "2023-01-17T09:12:53.015635Z",
     "iopub.status.busy": "2023-01-17T09:12:53.015272Z",
     "iopub.status.idle": "2023-01-17T09:12:53.064032Z",
     "shell.execute_reply": "2023-01-17T09:12:53.063367Z",
     "shell.execute_reply.started": "2023-01-17T09:12:53.015609Z"
    },
    "tags": []
   },
   "outputs": [
    {
     "data": {
      "text/latex": [
       "$\\displaystyle x^{a + b}$"
      ],
      "text/plain": [
       "x**(a + b)"
      ]
     },
     "execution_count": 14,
     "metadata": {},
     "output_type": "execute_result"
    }
   ],
   "source": [
    "powsimp(x**a*x**b)"
   ]
  },
  {
   "cell_type": "code",
   "execution_count": 15,
   "metadata": {
    "execution": {
     "iopub.execute_input": "2023-01-17T09:13:52.437293Z",
     "iopub.status.busy": "2023-01-17T09:13:52.436765Z",
     "iopub.status.idle": "2023-01-17T09:13:52.447311Z",
     "shell.execute_reply": "2023-01-17T09:13:52.445984Z",
     "shell.execute_reply.started": "2023-01-17T09:13:52.437245Z"
    },
    "tags": []
   },
   "outputs": [
    {
     "data": {
      "text/latex": [
       "$\\displaystyle -2$"
      ],
      "text/plain": [
       "-2"
      ]
     },
     "execution_count": 15,
     "metadata": {},
     "output_type": "execute_result"
    }
   ],
   "source": [
    "expand((x + 1)*(x - 2) - (x - 1)*x)"
   ]
  },
  {
   "cell_type": "code",
   "execution_count": 24,
   "metadata": {
    "execution": {
     "iopub.execute_input": "2023-01-17T09:20:47.220578Z",
     "iopub.status.busy": "2023-01-17T09:20:47.220257Z",
     "iopub.status.idle": "2023-01-17T09:20:47.235569Z",
     "shell.execute_reply": "2023-01-17T09:20:47.234605Z",
     "shell.execute_reply.started": "2023-01-17T09:20:47.220554Z"
    },
    "tags": []
   },
   "outputs": [
    {
     "data": {
      "text/latex": [
       "$\\displaystyle x^{3} z^{2} \\left(x^{3} y^{3} z^{3} + 14 x^{2} y^{2} z^{2} + 52 x y z + 48\\right) e^{x y z}$"
      ],
      "text/plain": [
       "x**3*z**2*(x**3*y**3*z**3 + 14*x**2*y**2*z**2 + 52*x*y*z + 48)*exp(x*y*z)"
      ]
     },
     "execution_count": 24,
     "metadata": {},
     "output_type": "execute_result"
    }
   ],
   "source": [
    "expr = diff(exp(x*y*z), x, y, y, y, z, z, y)\n",
    "expr"
   ]
  },
  {
   "cell_type": "code",
   "execution_count": 19,
   "metadata": {
    "execution": {
     "iopub.execute_input": "2023-01-17T09:19:16.729826Z",
     "iopub.status.busy": "2023-01-17T09:19:16.729509Z",
     "iopub.status.idle": "2023-01-17T09:19:16.744973Z",
     "shell.execute_reply": "2023-01-17T09:19:16.744142Z",
     "shell.execute_reply.started": "2023-01-17T09:19:16.729804Z"
    },
    "tags": []
   },
   "outputs": [
    {
     "data": {
      "text/latex": [
       "$\\displaystyle \\left\\{0, 1\\right\\}$"
      ],
      "text/plain": [
       "{0, 1}"
      ]
     },
     "execution_count": 19,
     "metadata": {},
     "output_type": "execute_result"
    }
   ],
   "source": [
    "solveset(x**2 - x, x)"
   ]
  },
  {
   "cell_type": "code",
   "execution_count": 27,
   "metadata": {
    "execution": {
     "iopub.execute_input": "2023-01-17T09:25:18.517403Z",
     "iopub.status.busy": "2023-01-17T09:25:18.517036Z",
     "iopub.status.idle": "2023-01-17T09:25:18.905672Z",
     "shell.execute_reply": "2023-01-17T09:25:18.904975Z",
     "shell.execute_reply.started": "2023-01-17T09:25:18.517375Z"
    },
    "tags": []
   },
   "outputs": [
    {
     "data": {
      "image/png": "[encoded data removed]",
      "text/plain": [
       "<Figure size 640x480 with 1 Axes>"
      ]
     },
     "metadata": {},
     "output_type": "display_data"
    },
    {
     "data": {
      "text/plain": [
       "<sympy.plotting.plot.Plot at 0x1174fef90>"
      ]
     },
     "execution_count": 27,
     "metadata": {},
     "output_type": "execute_result"
    }
   ],
   "source": [
    "plot(x**2, (x, -5, 5))"
   ]
  }
 ],
 "metadata": {
  "kernelspec": {
   "display_name": "Python 3 (ipykernel)",
   "language": "python",
   "name": "python3"
  },
  "language_info": {
   "codemirror_mode": {
    "name": "ipython",
    "version": 3
   },
   "file_extension": ".py",
   "mimetype": "text/x-python",
   "name": "python",
   "nbconvert_exporter": "python",
   "pygments_lexer": "ipython3",
   "version": "3.11.1"
  },
  "vscode": {
   "interpreter": {
    "hash": "f57b9cf5c82010a366e20b38341283e7bd9bcac020b4e008777539e03a0a3fc8"
   }
  }
 },
 "nbformat": 4,
 "nbformat_minor": 4
}
