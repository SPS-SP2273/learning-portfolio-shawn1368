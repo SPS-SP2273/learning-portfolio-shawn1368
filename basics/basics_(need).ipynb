{
 "cells": [
  {
   "cell_type": "markdown",
   "id": "123456",
   "metadata": {},
   "attachments": {},
   "source": [
    "<div style=\"text-align:left;font-size:2em\"><span style=\"font-weight:bolder;font-size:1.25em\">SP2273 | Learning Portfolio</span><br><br><span style=\"font-weight:bold;color:darkred\">Basics (Need)</span></div>"
   ]
  },
  {
   "cell_type": "markdown",
   "id": "123456",
   "metadata": {},
   "attachments": {},
   "source": [
    "## 1 Some Python Basics"
   ]
  },
  {
   "cell_type": "markdown",
   "id": "123456",
   "metadata": {},
   "attachments": {},
   "source": [
    "### 1.1 Functions"
   ]
  },
  {
   "cell_type": "code",
   "id": "123456",
   "metadata": {},
   "execution_count": 1,
   "outputs": [
    {
     "name": "stdout",
     "output_type": "stream",
     "text": [
      "Hello World!\n"
     ]
    }
   ],
   "source": [
    "# Your code here\n",
    "print(\"Hello World!\")"
   ]
  },
  {
   "cell_type": "markdown",
   "id": "123456",
   "metadata": {},
   "attachments": {},
   "source": [
    "### 1.2 Python is interpreted"
   ]
  },
  {
   "cell_type": "code",
   "id": "123456",
   "metadata": {},
   "execution_count": 2,
   "outputs": [
    {
     "name": "stdout",
     "output_type": "stream",
     "text": [
      "Hello World\n",
      "Hello World again\n"
     ]
    }
   ],
   "source": [
    "\n",
    "# Your code here\n",
    "print('Hello World')\n",
    "print('Hello World again')"
   ]
  },
  {
   "cell_type": "markdown",
   "id": "123456",
   "metadata": {},
   "attachments": {},
   "source": [
    "### 1.3 Python is sensitive."
   ]
  },
  {
   "cell_type": "code",
   "id": "123456",
   "metadata": {},
   "execution_count": 4,
   "outputs": [
    {
     "name": "stdout",
     "output_type": "stream",
     "text": [
      "Hello World\n"
     ]
    },
    {
     "ename": "NameError",
     "evalue": "name 'Print' is not defined",
     "output_type": "error",
     "traceback": [
      "\u001B[0;31m---------------------------------------------------------------------------\u001B[0m",
      "\u001B[0;31mNameError\u001B[0m                                 Traceback (most recent call last)",
      "Cell \u001B[0;32mIn[4], line 3\u001B[0m\n\u001B[1;32m      1\u001B[0m \u001B[38;5;66;03m# Your code here\u001B[39;00m\n\u001B[1;32m      2\u001B[0m \u001B[38;5;28mprint\u001B[39m(\u001B[38;5;124m'\u001B[39m\u001B[38;5;124mHello World\u001B[39m\u001B[38;5;124m'\u001B[39m)      \u001B[38;5;66;03m# This WILL work\u001B[39;00m\n\u001B[0;32m----> 3\u001B[0m \u001B[43mPrint\u001B[49m(\u001B[38;5;124m'\u001B[39m\u001B[38;5;124mHello World\u001B[39m\u001B[38;5;124m'\u001B[39m)      \u001B[38;5;66;03m# This will NOT work\u001B[39;00m\n",
      "\u001B[0;31mNameError\u001B[0m: name 'Print' is not defined"
     ]
    }
   ],
   "source": [
    "\n",
    "# Your code here\n",
    "print('Hello World')      # This WILL work\n",
    "Print('Hello World')      # This will NOT work"
   ]
  },
  {
   "cell_type": "markdown",
   "id": "123456",
   "metadata": {},
   "attachments": {},
   "source": [
    "### 1.4 Comments"
   ]
  },
  {
   "cell_type": "code",
   "id": "123456",
   "metadata": {},
   "execution_count": 5,
   "outputs": [
    {
     "name": "stdout",
     "output_type": "stream",
     "text": [
      "One\n",
      "Three\n"
     ]
    }
   ],
   "source": [
    "\n",
    "# Your code here\n",
    "# This is a comment\n",
    "print('One')              # This is a comment.\n",
    "# print('Two')            # The interpreter ignores this line.\n",
    "print('Three')            # This is\n",
    "                          # also a way to\n",
    "                          # write comments\n",
    "\n",
    "# this is a\n",
    "# multiline\n",
    "# comment\n",
    "\n",
    "# Python doesn't have multiline comments :("
   ]
  },
  {
   "cell_type": "markdown",
   "id": "123456",
   "metadata": {},
   "attachments": {},
   "source": [
    "### 1.5 = is not the same as =="
   ]
  },
  {
   "cell_type": "code",
   "id": "123456",
   "metadata": {},
   "execution_count": 12,
   "outputs": [
    {
     "data": {
      "text/plain": "True"
     },
     "execution_count": 12,
     "metadata": {},
     "output_type": "execute_result"
    }
   ],
   "source": [
    "\n",
    "# Your code here\n",
    "name = 'batman'\n",
    "name == 'batman'"
   ]
  },
  {
   "cell_type": "markdown",
   "id": "123456",
   "metadata": {},
   "attachments": {},
   "source": [
    "### 1.6 Use if to make decisions"
   ]
  },
  {
   "cell_type": "code",
   "id": "123456",
   "metadata": {},
   "execution_count": 15,
   "outputs": [
    {
     "name": "stdout",
     "output_type": "stream",
     "text": [
      "Hello Hero | Batman!\n"
     ]
    }
   ],
   "source": [
    "\n",
    "# Your code here\n",
    "if name == 'batman':\n",
    "    print('Hello Hero | Batman!')\n",
    "else:\n",
    "    print(\"sad\")"
   ]
  },
  {
   "cell_type": "markdown",
   "id": "123456",
   "metadata": {},
   "attachments": {},
   "source": [
    "### 1.7 Indentations (spaces) are sooo IMPORTANT!"
   ]
  },
  {
   "cell_type": "code",
   "id": "123456",
   "metadata": {},
   "execution_count": 14,
   "outputs": [
    {
     "ename": "IndentationError",
     "evalue": "unexpected indent (3042670508.py, line 3)",
     "output_type": "error",
     "traceback": [
      "\u001B[0;36m  Cell \u001B[0;32mIn[14], line 3\u001B[0;36m\u001B[0m\n\u001B[0;31m    print(x)\u001B[0m\n\u001B[0m    ^\u001B[0m\n\u001B[0;31mIndentationError\u001B[0m\u001B[0;31m:\u001B[0m unexpected indent\n"
     ]
    }
   ],
   "source": [
    "\n",
    "# Your code here\n",
    "x = 10\n",
    " print(x)"
   ]
  },
  {
   "cell_type": "markdown",
   "id": "123456",
   "metadata": {},
   "attachments": {},
   "source": [
    "### 1.8 ‘age’ is English, age is a variable."
   ]
  },
  {
   "cell_type": "code",
   "id": "123456",
   "metadata": {},
   "execution_count": 17,
   "outputs": [
    {
     "name": "stdout",
     "output_type": "stream",
     "text": [
      "10\n",
      "age\n"
     ]
    }
   ],
   "source": [
    "\n",
    "# Your code here\n",
    "age = 10\n",
    "print(age)       # Print the value of the variable age\n",
    "print(\"age\")     # Print the English word 'age'"
   ]
  },
  {
   "cell_type": "markdown",
   "id": "123456",
   "metadata": {},
   "attachments": {},
   "source": [
    "### 1.9 Escape sequences"
   ]
  },
  {
   "cell_type": "code",
   "id": "123456",
   "metadata": {},
   "execution_count": 20,
   "outputs": [
    {
     "name": "stdout",
     "output_type": "stream",
     "text": [
      "This is a \n",
      "multiline string!\n"
     ]
    }
   ],
   "source": [
    "\n",
    "# Your code here\n",
    "print(\"This is a \\nmultiline string!\")"
   ]
  },
  {
   "cell_type": "markdown",
   "id": "123456",
   "metadata": {},
   "attachments": {},
   "source": [
    "### 1.10 Brackets"
   ]
  },
  {
   "cell_type": "code",
   "id": "123456",
   "metadata": {},
   "execution_count": 26,
   "outputs": [
    {
     "name": "stdout",
     "output_type": "stream",
     "text": [
      "Hello World\n",
      "1\n",
      "2\n",
      "3\n",
      "4\n",
      "5\n",
      "6\n",
      "shell command\r\n"
     ]
    }
   ],
   "source": [
    "\n",
    "# Your code here\n",
    "print(\"Hello World\")\n",
    "(1 + 2) + 3\n",
    "\n",
    "arr = [1,2,3,4,5,6]\n",
    "\n",
    "for elem in arr:\n",
    "    print(elem)\n",
    "\n",
    "personal_info = {\n",
    "    'Names': 'Batman',\n",
    "    'Real Name': 'Bruce Wayne',\n",
    "    'Age': 55,\n",
    "    'Affiliation': 'Justice League',\n",
    "    'Universe': 'DC'\n",
    "}\n",
    "\n",
    "!echo shell command"
   ]
  },
  {
   "cell_type": "markdown",
   "id": "123456",
   "metadata": {},
   "attachments": {},
   "source": [
    "## 2 Giving Python superpowers"
   ]
  },
  {
   "cell_type": "markdown",
   "id": "123456",
   "metadata": {},
   "attachments": {},
   "source": [
    "### 2.1 Packages"
   ]
  },
  {
   "cell_type": "code",
   "id": "123456",
   "metadata": {},
   "execution_count": 32,
   "outputs": [
    {
     "data": {
      "text/plain": "2.8284271247461903"
     },
     "execution_count": 32,
     "metadata": {},
     "output_type": "execute_result"
    }
   ],
   "source": [
    "from math import sqrt\n",
    "\n",
    "# Your code here\n",
    "1 * ((2 - 3) + 4) ** 5 / 6\n",
    "\n",
    "sqrt(4)\n",
    "\n",
    "import numpy as np\n",
    "np.sqrt(8)"
   ]
  },
  {
   "cell_type": "markdown",
   "id": "123456",
   "metadata": {},
   "attachments": {},
   "source": [
    "### 2.2 The dot (.)"
   ]
  },
  {
   "cell_type": "code",
   "id": "123456",
   "metadata": {},
   "execution_count": 33,
   "outputs": [
    {
     "data": {
      "text/plain": "['This', 'is', 'a', 'sentence']"
     },
     "execution_count": 33,
     "metadata": {},
     "output_type": "execute_result"
    }
   ],
   "source": [
    "\n",
    "# Your code here\n",
    "\"This is a sentence\".split()"
   ]
  },
  {
   "cell_type": "markdown",
   "id": "123456",
   "metadata": {},
   "attachments": {},
   "source": [
    "## Exercise 1 :  Total recall?"
   ]
  },
  {
   "cell_type": "markdown",
   "source": [
    "### Recalled Items\n",
    "\n",
    "- Functions\n",
    "- Brackets\n",
    "- Attribute References (dots)\n",
    "- Comments\n",
    "- Importing packages\n",
    "- Conditionals (if/else)\n",
    "- Strings, quotations vs variables\n",
    "- Equals vs `==`\n",
    "\n",
    "### Forgotten items\n",
    "\n",
    "- *Python is interpreted*\n",
    "- *Python is sensitive*\n",
    "- *Indentations*\n",
    "- *Escape Sequences*"
   ],
   "metadata": {
    "collapsed": false
   }
  },
  {
   "cell_type": "markdown",
   "id": "123456",
   "metadata": {},
   "attachments": {},
   "source": [
    "## Exercise 2 :  Debug me"
   ]
  },
  {
   "cell_type": "code",
   "id": "123456",
   "metadata": {},
   "execution_count": 35,
   "outputs": [
    {
     "name": "stdout",
     "output_type": "stream",
     "text": [
      "3 4 4.69041575982343\n"
     ]
    }
   ],
   "source": [
    "\n",
    "\n",
    "\n",
    "# Your solution here\n",
    "\n",
    "x, y = 3, 4\n",
    "z = sqrt(x*2 + y**2)\n",
    "print(x, y, z)\n"
   ]
  },
  {
   "cell_type": "markdown",
   "id": "123456",
   "metadata": {},
   "attachments": {},
   "source": [
    "## Exercise 3 :  In your own words"
   ]
  },
  {
   "cell_type": "markdown",
   "source": [
    "| # | **Term**     | **Description**                                                                                                                                                                                                                                                                     |\n",
    "|---|--------------|-------------------------------------------------------------------------------------------------------------------------------------------------------------------------------------------------------------------------------------------------------------------------------------|\n",
    "| 1 | Function     | A function is essentially a block of code that can be called to perform certain functionality.                                                                                                                                                                                      |\n",
    "| 2 | Arguments    | Arguments can be provided to a function to be used inside a function. Alternatively, command line arguments can be supplied to a python file.                                                                                                                                       |\n",
    "| 3 | Comments     | Comments are text in a script file that is not read by the interpreter. They can be used to document the code in the script file.                                                                                                                                                   |\n",
    "| 4 | Indentations | Indentations are crucial for a python script file to read the script properly, as the python language is designed with indentation in mind.                                                                                                                                         |\n",
    "| 5 | Packages     | Packages are essentially other python script files that can be loaded into a script file for additional functionality. For example, the numpy package provides a multidimensional array object as well as functions that can be used on them.                                       |\n",
    "| 6 | .            | The dot is used for attribute references and calling functions on an object. Essentially, it calls what's in the namespace of the object it is behind. For example, `\"I am a string\".split()` calls the `split()` function in the namespace of the string object `\"I am a string\"`. |\n",
    "\n",
    "\n"
   ],
   "metadata": {
    "collapsed": false
   }
  },
  {
   "cell_type": "markdown",
   "id": "123456",
   "metadata": {},
   "attachments": {},
   "source": [
    "## Exercise 4 :  More than one way to divide"
   ]
  },
  {
   "cell_type": "code",
   "id": "123456",
   "metadata": {},
   "execution_count": 46,
   "outputs": [
    {
     "data": {
      "text/plain": "['I', 'am', 'a', 'string']"
     },
     "execution_count": 46,
     "metadata": {},
     "output_type": "execute_result"
    }
   ],
   "source": [
    "5/2           #Float Division"
   ]
  },
  {
   "cell_type": "code",
   "execution_count": 40,
   "outputs": [
    {
     "data": {
      "text/plain": "2"
     },
     "execution_count": 40,
     "metadata": {},
     "output_type": "execute_result"
    }
   ],
   "source": [
    "5//2          # Integer Divison"
   ],
   "metadata": {
    "collapsed": false
   }
  },
  {
   "cell_type": "code",
   "execution_count": 42,
   "outputs": [
    {
     "data": {
      "text/plain": "1"
     },
     "execution_count": 42,
     "metadata": {},
     "output_type": "execute_result"
    }
   ],
   "source": [
    "5%2 # Remainder Divison"
   ],
   "metadata": {
    "collapsed": false
   }
  }
 ],
 "metadata": {
  "kernelspec": {
   "display_name": "Python 3",
   "language": "python",
   "name": "python3"
  },
  "language_info": {
   "codemirror_mode": {
    "name": "ipython",
    "version": 3
   },
   "file_extension": ".py",
   "mimetype": "text/x-python",
   "name": "python",
   "nbconvert_exporter": "python",
   "pygments_lexer": "ipython3",
   "version": "3.10.6 (main, Nov 14 2022, 16:10:14) [GCC 11.3.0]"
  },
  "toc": {
   "base_numbering": 1,
   "nav_menu": {},
   "number_sections": true,
   "sideBar": true,
   "skip_h1_title": false,
   "title_cell": "Table of Contents",
   "title_sidebar": "Contents",
   "toc_cell": false,
   "toc_position": {},
   "toc_section_display": true,
   "toc_window_display": false
  },
  "vscode": {
   "interpreter": {
    "hash": "31f2aee4e71d21fbe5cf8b01ff0e069b9275f58929596ceb00d14d90e3e16cd6"
   }
  }
 },
 "nbformat": 4,
 "nbformat_minor": 5
}
