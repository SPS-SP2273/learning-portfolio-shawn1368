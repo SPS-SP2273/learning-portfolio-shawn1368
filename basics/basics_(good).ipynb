{
 "cells": [
  {
   "attachments": {},
   "cell_type": "markdown",
   "id": "123456",
   "metadata": {},
   "source": [
    "<div style=\"text-align:left;font-size:2em\"><span style=\"font-weight:bolder;font-size:1.25em\">SP2273 | Learning Portfolio</span><br><br><span style=\"font-weight:bold;color:darkred\">Basics (Good)</span></div>"
   ]
  },
  {
   "cell_type": "code",
   "execution_count": 1,
   "id": "4a0bd2f6",
   "metadata": {},
   "outputs": [],
   "source": [
    "import string"
   ]
  },
  {
   "attachments": {},
   "cell_type": "markdown",
   "id": "123456",
   "metadata": {},
   "source": [
    "## 1 More Python Basics"
   ]
  },
  {
   "attachments": {},
   "cell_type": "markdown",
   "id": "123456",
   "metadata": {},
   "source": [
    "### 1.1 Computers read = from Right to Left!"
   ]
  },
  {
   "cell_type": "code",
   "execution_count": 2,
   "id": "123456",
   "metadata": {},
   "outputs": [],
   "source": [
    "\n",
    "# Your code here\n"
   ]
  },
  {
   "attachments": {},
   "cell_type": "markdown",
   "id": "123456",
   "metadata": {},
   "source": [
    "### 1.2 Shorter and cleaner"
   ]
  },
  {
   "cell_type": "code",
   "execution_count": 3,
   "id": "123456",
   "metadata": {},
   "outputs": [],
   "source": [
    "\n",
    "# Your code here\n"
   ]
  },
  {
   "attachments": {},
   "cell_type": "markdown",
   "id": "123456",
   "metadata": {},
   "source": [
    "### 1.3 Asking questions"
   ]
  },
  {
   "cell_type": "code",
   "execution_count": 4,
   "id": "123456",
   "metadata": {},
   "outputs": [],
   "source": [
    "\n",
    "# Your code here\n"
   ]
  },
  {
   "attachments": {},
   "cell_type": "markdown",
   "id": "123456",
   "metadata": {},
   "source": [
    "### 1.4 There is more to if"
   ]
  },
  {
   "cell_type": "code",
   "execution_count": 5,
   "id": "123456",
   "metadata": {},
   "outputs": [],
   "source": [
    "\n",
    "# Your code here\n"
   ]
  },
  {
   "attachments": {},
   "cell_type": "markdown",
   "id": "123456",
   "metadata": {},
   "source": [
    "### 1.5 Python stores information in different formats or types."
   ]
  },
  {
   "cell_type": "code",
   "execution_count": 6,
   "id": "123456",
   "metadata": {},
   "outputs": [],
   "source": [
    "\n",
    "# Your code here\n"
   ]
  },
  {
   "attachments": {},
   "cell_type": "markdown",
   "id": "123456",
   "metadata": {},
   "source": [
    "### 1.6 Combining English and variables"
   ]
  },
  {
   "cell_type": "code",
   "execution_count": 7,
   "id": "123456",
   "metadata": {},
   "outputs": [],
   "source": [
    "\n",
    "# Your code here\n"
   ]
  },
  {
   "attachments": {},
   "cell_type": "markdown",
   "id": "123456",
   "metadata": {},
   "source": [
    "### 1.7 Python can be a prima-donna."
   ]
  },
  {
   "cell_type": "code",
   "execution_count": 8,
   "id": "123456",
   "metadata": {},
   "outputs": [],
   "source": [
    "\n",
    "# Your code here\n"
   ]
  },
  {
   "attachments": {},
   "cell_type": "markdown",
   "id": "123456",
   "metadata": {},
   "source": [
    "## 2 Best Practices for Scientific Computing"
   ]
  },
  {
   "attachments": {},
   "cell_type": "markdown",
   "id": "123456",
   "metadata": {},
   "source": [
    "### 2.1 Some tips"
   ]
  },
  {
   "cell_type": "code",
   "execution_count": 9,
   "id": "123456",
   "metadata": {},
   "outputs": [],
   "source": [
    "\n",
    "# Your code here\n"
   ]
  },
  {
   "attachments": {},
   "cell_type": "markdown",
   "id": "123456",
   "metadata": {},
   "source": [
    "### 2.2 Getting help."
   ]
  },
  {
   "cell_type": "code",
   "execution_count": 10,
   "id": "123456",
   "metadata": {},
   "outputs": [
    {
     "name": "stdout",
     "output_type": "stream",
     "text": [
      "Help on _Helper in module _sitebuiltins object:\n",
      "\n",
      "class _Helper(builtins.object)\n",
      " |  Define the builtin 'help'.\n",
      " |  \n",
      " |  This is a wrapper around pydoc.help that provides a helpful message\n",
      " |  when 'help' is typed at the Python interactive prompt.\n",
      " |  \n",
      " |  Calling help() at the Python prompt starts an interactive help session.\n",
      " |  Calling help(thing) prints help for the python object 'thing'.\n",
      " |  \n",
      " |  Methods defined here:\n",
      " |  \n",
      " |  __call__(self, *args, **kwds)\n",
      " |      Call self as a function.\n",
      " |  \n",
      " |  __repr__(self)\n",
      " |      Return repr(self).\n",
      " |  \n",
      " |  ----------------------------------------------------------------------\n",
      " |  Data descriptors defined here:\n",
      " |  \n",
      " |  __dict__\n",
      " |      dictionary for instance variables (if defined)\n",
      " |  \n",
      " |  __weakref__\n",
      " |      list of weak references to the object (if defined)\n",
      "\n"
     ]
    }
   ],
   "source": [
    "\n",
    "# Your code here\n",
    "help(help)"
   ]
  },
  {
   "attachments": {},
   "cell_type": "markdown",
   "id": "123456",
   "metadata": {},
   "source": [
    "## Exercise 1 :  Bias for some heroes"
   ]
  },
  {
   "cell_type": "code",
   "execution_count": 11,
   "id": "123456",
   "metadata": {},
   "outputs": [
    {
     "name": "stdout",
     "output_type": "stream",
     "text": [
      "Hello Black Widow!\n"
     ]
    }
   ],
   "source": [
    "\n",
    "def hello(name):\n",
    "    match lower_name := name.lower():\n",
    "        case \"batman\" | \"black widow\":\n",
    "            print(f\"Hello {string.capwords(lower_name)}!\")\n",
    "        case _:\n",
    "            print(f\"hello {lower_name}!\")\n",
    "\n",
    "hello(\"Black Widow\")"
   ]
  },
  {
   "cell_type": "code",
   "execution_count": 12,
   "id": "a0ad8ce3",
   "metadata": {},
   "outputs": [
    {
     "name": "stdout",
     "output_type": "stream",
     "text": [
      "Hello Black Widow!\n",
      "hello aquaman!\n"
     ]
    }
   ],
   "source": [
    "# The same thing but done with or\n",
    "def hello_or(name):\n",
    "    lower_name = name.lower()\n",
    "    if lower_name == \"batman\" or lower_name == \"black widow\":\n",
    "        print(f\"Hello {string.capwords(lower_name)}!\")\n",
    "    else:\n",
    "        print(f\"hello {lower_name}!\")\n",
    "\n",
    "hello_or(\"Black Widow\")\n",
    "hello_or(\"Aquaman\")"
   ]
  },
  {
   "cell_type": "code",
   "execution_count": 13,
   "id": "aa822124",
   "metadata": {},
   "outputs": [
    {
     "name": "stdout",
     "output_type": "stream",
     "text": [
      "Hello Black Widow!\n",
      "hello aquaman!\n"
     ]
    }
   ],
   "source": [
    "# The same thing but done with elif\n",
    "def hello_elif(name):\n",
    "    lower_name = name.lower()\n",
    "    if lower_name == \"batman\":\n",
    "        print(\"Hello Batman!\")\n",
    "    elif lower_name == \"black widow\":\n",
    "        print(\"Hello Black Widow!\")\n",
    "    else:\n",
    "        print(f\"hello {lower_name}!\")\n",
    "\n",
    "hello_elif(\"Black Widow\")\n",
    "hello_elif(\"Aquaman\")"
   ]
  },
  {
   "attachments": {},
   "cell_type": "markdown",
   "id": "123456",
   "metadata": {},
   "source": [
    "## Exercise 2 :  Bias for some heroes, continues"
   ]
  },
  {
   "cell_type": "code",
   "execution_count": 14,
   "id": "123456",
   "metadata": {},
   "outputs": [
    {
     "name": "stdout",
     "output_type": "stream",
     "text": [
      "Hello Batman!\n"
     ]
    }
   ],
   "source": [
    "\n",
    "def hello(name):\n",
    "    match lower_name := name.lower():\n",
    "        case \"batman\" | \"black widow\":\n",
    "            print(f\"Hello {string.capwords(lower_name)}!\")\n",
    "        case _:\n",
    "            print(f\"hello {lower_name}!\")\n",
    "\n",
    "hello(\"bAtMaN\")"
   ]
  },
  {
   "cell_type": "code",
   "execution_count": 15,
   "id": "a0ad8ce3",
   "metadata": {},
   "outputs": [
    {
     "name": "stdout",
     "output_type": "stream",
     "text": [
      "Hello Black Widow!\n",
      "hello aquaman!\n"
     ]
    }
   ],
   "source": [
    "# The same thing but done with or\n",
    "def hello_or(name):\n",
    "    lower_name = name.lower()\n",
    "    if lower_name == \"batman\" or lower_name == \"black widow\":\n",
    "        print(f\"Hello {string.capwords(lower_name)}!\")\n",
    "    else:\n",
    "        print(f\"hello {lower_name}!\")\n",
    "\n",
    "hello_or(\"bLaCk wIdOW\")\n",
    "hello_or(\"aQUaMaN\")"
   ]
  },
  {
   "cell_type": "code",
   "execution_count": 16,
   "id": "aa822124",
   "metadata": {},
   "outputs": [
    {
     "name": "stdout",
     "output_type": "stream",
     "text": [
      "Hello Black Widow!\n",
      "hello aquaman!\n"
     ]
    }
   ],
   "source": [
    "# The same thing but done with elif\n",
    "def hello_elif(name):\n",
    "    lower_name = name.lower()\n",
    "    if lower_name == \"batman\":\n",
    "        print(\"Hello Batman!\")\n",
    "    elif lower_name == \"black widow\":\n",
    "        print(\"Hello Black Widow!\")\n",
    "    else:\n",
    "        print(f\"hello {lower_name}!\")\n",
    "\n",
    "hello_or(\"bLaCk wIdOW\")\n",
    "hello_or(\"aQUaMaN\")"
   ]
  },
  {
   "attachments": {},
   "cell_type": "markdown",
   "id": "123456",
   "metadata": {},
   "source": [
    "## Exercise 3 :  Look for help to replace"
   ]
  },
  {
   "cell_type": "code",
   "execution_count": 17,
   "id": "123456",
   "metadata": {},
   "outputs": [
    {
     "data": {
      "text/plain": [
       "'The Batman lives in Gotham City.'"
      ]
     },
     "execution_count": 17,
     "metadata": {},
     "output_type": "execute_result"
    }
   ],
   "source": [
    "\n",
    "\n",
    "\n",
    "# Your solution here\n",
    "'The Joker lives in Gotham City.'.replace(\"Joker\", \"Batman\")\n",
    "\n"
   ]
  }
 ],
 "metadata": {
  "kernelspec": {
   "display_name": "Python 3",
   "language": "python",
   "name": "python3"
  },
  "language_info": {
   "codemirror_mode": {
    "name": "ipython",
    "version": 3
   },
   "file_extension": ".py",
   "mimetype": "text/x-python",
   "name": "python",
   "nbconvert_exporter": "python",
   "pygments_lexer": "ipython3",
   "version": "3.11.1"
  },
  "toc": {
   "base_numbering": 1,
   "nav_menu": {},
   "number_sections": true,
   "sideBar": true,
   "skip_h1_title": false,
   "title_cell": "Table of Contents",
   "title_sidebar": "Contents",
   "toc_cell": false,
   "toc_position": {},
   "toc_section_display": true,
   "toc_window_display": false
  },
  "vscode": {
   "interpreter": {
    "hash": "e41934ef35aa3d51f530a811487c6538b78e1f0bce7b6691116f7f0a2c9e850b"
   }
  }
 },
 "nbformat": 4,
 "nbformat_minor": 5
}
