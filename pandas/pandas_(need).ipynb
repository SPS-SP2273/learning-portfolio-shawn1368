{
 "cells": [
  {
   "attachments": {},
   "cell_type": "markdown",
   "id": "123456",
   "metadata": {},
   "source": [
    "<div style=\"text-align:left;font-size:2em\"><span style=\"font-weight:bolder;font-size:1.25em\">SP2273 | Learning Portfolio</span><br><br><span style=\"font-weight:bold;color:darkred\">Pandas (Need)</span></div>"
   ]
  },
  {
   "cell_type": "code",
   "execution_count": 98,
   "id": "3834d868",
   "metadata": {},
   "outputs": [
    {
     "data": {
      "text/plain": "<contextlib.ExitStack at 0x7fa0f96d7450>"
     },
     "execution_count": 98,
     "metadata": {},
     "output_type": "execute_result"
    }
   ],
   "source": [
    "import numpy as np\n",
    "import pandas as pd\n",
    "import matplotlib as mpl\n",
    "import matplotlib.pyplot as plt\n",
    "import seaborn as sns\n",
    "plt.xkcd()"
   ]
  },
  {
   "attachments": {},
   "cell_type": "markdown",
   "id": "123456",
   "metadata": {},
   "source": [
    "## 1 What is a dataframe"
   ]
  },
  {
   "attachments": {},
   "cell_type": "markdown",
   "id": "123456",
   "metadata": {},
   "source": [
    "### 1.1 Reading data from csv or excel files."
   ]
  },
  {
   "cell_type": "code",
   "execution_count": 99,
   "id": "123456",
   "metadata": {},
   "outputs": [],
   "source": [
    "\n",
    "# Your code here\n",
    "df_class = pd.read_excel(\"dummy-class-1-of-2.xlsx\", skiprows = 1)"
   ]
  },
  {
   "cell_type": "code",
   "execution_count": 100,
   "outputs": [
    {
     "data": {
      "text/plain": "    Unnamed: 0                Name Student No Major Gender Test 2 (20%)  \\\n0            0      Braiden Henson  A3028967J   PHY      M      '18.96'   \n1            1        Gustavo Vang  A1282849W   CHM      F      '17.44'   \n2            2     Ronin Christian  A5408925A   PHY      M      '15.56'   \n3            3       Owen Anderson  A6973859L    LS      F      '16.36'   \n4            4          Kyla Young  A5410124H   PHY      M          NaN   \n5            5        Wyatt Oliver  A9568373Q   PHY      M     '14.088'   \n6            6       Essence Bauer  A6824244G    LS      M      '16.72'   \n7            7   Maryjane Sandoval  A9194090U    LS      F       '16.4'   \n8            8       Carl Trujillo  A4828364M    LS     NB      '13.68'   \n9            9         Halle Fritz  A4607700C    LS      F       '9.04'   \n10          10       Marie Hoffman  A7067766E    LS      F      '16.88'   \n11          11    Lilianna Kaufman  A5569996J    LS      M       '17.0'   \n12          12         Jaxon Chung  A3202548I   PHY      M      '16.68'   \n13          13       Zoey Oconnell  A6131593U    LS      F     '14.128'   \n14          14        Quentin Kemp  A7653832E   CHM      F      '15.72'   \n15          15            Leo Mayo  A9462811I   PHY      F      '14.68'   \n16          16     Camden Williams  A1218599T   CHM      F     '17.648'   \n17          17      Sidney Wiggins  A7210476B   PHY     NB      '14.68'   \n18          18    Solomon Fletcher  A1512479K   CHM      F       '15.0'   \n19          19   Riley Christensen  A7986368Y   CHM      F     '16.016'   \n20          20        Malik Becker  A2727061A   PHY      M          NaN   \n21          21      Skylar Hensley  A2999472W   CHM      M     '17.648'   \n22          22       Braydon Duran  A7116486E    LS      F      '14.36'   \n23          23        Jalen Harmon  A6931452S    LS      F      '16.88'   \n24          24            Ean Haas  A9649096H    LS      F      '14.36'   \n25          25    Carolina Mcmahon  A1643380L   PHY      M      '18.08'   \n26          26        Elian Potter  A6787293E   PHY      M      '14.36'   \n27          27         Litzy White  A5975988J   PHY     NB      '15.92'   \n28          28         Norah Miles  A3699958T   CHM      M          NaN   \n29          29    Mariela Sheppard  A1956366U    LS     NB       '11.0'   \n30          30      Isabela Stokes  A1468689D   CHM      M       '16.8'   \n31          31  Kathleen Rodriguez  A3217320C   PHY      M      '17.76'   \n32          32         Katie Ayers  A6867791C  CBIO      F      '10.28'   \n33          33        Tucker Sloan  A4080490P    LS      M      '15.04'   \n34          34        Carter Crane  A7667457P    LS      M     '13.816'   \n\n    Test 1 (30%)  \n0         20.205  \n1         13.470  \n2         18.366  \n3         18.366  \n4         15.306  \n5         12.246  \n6         16.530  \n7         18.981  \n8         15.306  \n9         17.754  \n10        19.593  \n11        26.328  \n12        14.082  \n13        22.041  \n14           NaN  \n15        20.817  \n16        22.653  \n17        19.593  \n18        18.981  \n19        15.306  \n20        12.858  \n21        23.877  \n22        15.918  \n23        22.041  \n24        19.593  \n25        12.858  \n26        23.265  \n27        20.817  \n28           NaN  \n29        18.366  \n30        18.366  \n31        22.653  \n32        16.530  \n33        17.754  \n34        20.817  ",
      "text/html": "<div>\n<style scoped>\n    .dataframe tbody tr th:only-of-type {\n        vertical-align: middle;\n    }\n\n    .dataframe tbody tr th {\n        vertical-align: top;\n    }\n\n    .dataframe thead th {\n        text-align: right;\n    }\n</style>\n<table border=\"1\" class=\"dataframe\">\n  <thead>\n    <tr style=\"text-align: right;\">\n      <th></th>\n      <th>Unnamed: 0</th>\n      <th>Name</th>\n      <th>Student No</th>\n      <th>Major</th>\n      <th>Gender</th>\n      <th>Test 2 (20%)</th>\n      <th>Test 1 (30%)</th>\n    </tr>\n  </thead>\n  <tbody>\n    <tr>\n      <th>0</th>\n      <td>0</td>\n      <td>Braiden Henson</td>\n      <td>A3028967J</td>\n      <td>PHY</td>\n      <td>M</td>\n      <td>'18.96'</td>\n      <td>20.205</td>\n    </tr>\n    <tr>\n      <th>1</th>\n      <td>1</td>\n      <td>Gustavo Vang</td>\n      <td>A1282849W</td>\n      <td>CHM</td>\n      <td>F</td>\n      <td>'17.44'</td>\n      <td>13.470</td>\n    </tr>\n    <tr>\n      <th>2</th>\n      <td>2</td>\n      <td>Ronin Christian</td>\n      <td>A5408925A</td>\n      <td>PHY</td>\n      <td>M</td>\n      <td>'15.56'</td>\n      <td>18.366</td>\n    </tr>\n    <tr>\n      <th>3</th>\n      <td>3</td>\n      <td>Owen Anderson</td>\n      <td>A6973859L</td>\n      <td>LS</td>\n      <td>F</td>\n      <td>'16.36'</td>\n      <td>18.366</td>\n    </tr>\n    <tr>\n      <th>4</th>\n      <td>4</td>\n      <td>Kyla Young</td>\n      <td>A5410124H</td>\n      <td>PHY</td>\n      <td>M</td>\n      <td>NaN</td>\n      <td>15.306</td>\n    </tr>\n    <tr>\n      <th>5</th>\n      <td>5</td>\n      <td>Wyatt Oliver</td>\n      <td>A9568373Q</td>\n      <td>PHY</td>\n      <td>M</td>\n      <td>'14.088'</td>\n      <td>12.246</td>\n    </tr>\n    <tr>\n      <th>6</th>\n      <td>6</td>\n      <td>Essence Bauer</td>\n      <td>A6824244G</td>\n      <td>LS</td>\n      <td>M</td>\n      <td>'16.72'</td>\n      <td>16.530</td>\n    </tr>\n    <tr>\n      <th>7</th>\n      <td>7</td>\n      <td>Maryjane Sandoval</td>\n      <td>A9194090U</td>\n      <td>LS</td>\n      <td>F</td>\n      <td>'16.4'</td>\n      <td>18.981</td>\n    </tr>\n    <tr>\n      <th>8</th>\n      <td>8</td>\n      <td>Carl Trujillo</td>\n      <td>A4828364M</td>\n      <td>LS</td>\n      <td>NB</td>\n      <td>'13.68'</td>\n      <td>15.306</td>\n    </tr>\n    <tr>\n      <th>9</th>\n      <td>9</td>\n      <td>Halle Fritz</td>\n      <td>A4607700C</td>\n      <td>LS</td>\n      <td>F</td>\n      <td>'9.04'</td>\n      <td>17.754</td>\n    </tr>\n    <tr>\n      <th>10</th>\n      <td>10</td>\n      <td>Marie Hoffman</td>\n      <td>A7067766E</td>\n      <td>LS</td>\n      <td>F</td>\n      <td>'16.88'</td>\n      <td>19.593</td>\n    </tr>\n    <tr>\n      <th>11</th>\n      <td>11</td>\n      <td>Lilianna Kaufman</td>\n      <td>A5569996J</td>\n      <td>LS</td>\n      <td>M</td>\n      <td>'17.0'</td>\n      <td>26.328</td>\n    </tr>\n    <tr>\n      <th>12</th>\n      <td>12</td>\n      <td>Jaxon Chung</td>\n      <td>A3202548I</td>\n      <td>PHY</td>\n      <td>M</td>\n      <td>'16.68'</td>\n      <td>14.082</td>\n    </tr>\n    <tr>\n      <th>13</th>\n      <td>13</td>\n      <td>Zoey Oconnell</td>\n      <td>A6131593U</td>\n      <td>LS</td>\n      <td>F</td>\n      <td>'14.128'</td>\n      <td>22.041</td>\n    </tr>\n    <tr>\n      <th>14</th>\n      <td>14</td>\n      <td>Quentin Kemp</td>\n      <td>A7653832E</td>\n      <td>CHM</td>\n      <td>F</td>\n      <td>'15.72'</td>\n      <td>NaN</td>\n    </tr>\n    <tr>\n      <th>15</th>\n      <td>15</td>\n      <td>Leo Mayo</td>\n      <td>A9462811I</td>\n      <td>PHY</td>\n      <td>F</td>\n      <td>'14.68'</td>\n      <td>20.817</td>\n    </tr>\n    <tr>\n      <th>16</th>\n      <td>16</td>\n      <td>Camden Williams</td>\n      <td>A1218599T</td>\n      <td>CHM</td>\n      <td>F</td>\n      <td>'17.648'</td>\n      <td>22.653</td>\n    </tr>\n    <tr>\n      <th>17</th>\n      <td>17</td>\n      <td>Sidney Wiggins</td>\n      <td>A7210476B</td>\n      <td>PHY</td>\n      <td>NB</td>\n      <td>'14.68'</td>\n      <td>19.593</td>\n    </tr>\n    <tr>\n      <th>18</th>\n      <td>18</td>\n      <td>Solomon Fletcher</td>\n      <td>A1512479K</td>\n      <td>CHM</td>\n      <td>F</td>\n      <td>'15.0'</td>\n      <td>18.981</td>\n    </tr>\n    <tr>\n      <th>19</th>\n      <td>19</td>\n      <td>Riley Christensen</td>\n      <td>A7986368Y</td>\n      <td>CHM</td>\n      <td>F</td>\n      <td>'16.016'</td>\n      <td>15.306</td>\n    </tr>\n    <tr>\n      <th>20</th>\n      <td>20</td>\n      <td>Malik Becker</td>\n      <td>A2727061A</td>\n      <td>PHY</td>\n      <td>M</td>\n      <td>NaN</td>\n      <td>12.858</td>\n    </tr>\n    <tr>\n      <th>21</th>\n      <td>21</td>\n      <td>Skylar Hensley</td>\n      <td>A2999472W</td>\n      <td>CHM</td>\n      <td>M</td>\n      <td>'17.648'</td>\n      <td>23.877</td>\n    </tr>\n    <tr>\n      <th>22</th>\n      <td>22</td>\n      <td>Braydon Duran</td>\n      <td>A7116486E</td>\n      <td>LS</td>\n      <td>F</td>\n      <td>'14.36'</td>\n      <td>15.918</td>\n    </tr>\n    <tr>\n      <th>23</th>\n      <td>23</td>\n      <td>Jalen Harmon</td>\n      <td>A6931452S</td>\n      <td>LS</td>\n      <td>F</td>\n      <td>'16.88'</td>\n      <td>22.041</td>\n    </tr>\n    <tr>\n      <th>24</th>\n      <td>24</td>\n      <td>Ean Haas</td>\n      <td>A9649096H</td>\n      <td>LS</td>\n      <td>F</td>\n      <td>'14.36'</td>\n      <td>19.593</td>\n    </tr>\n    <tr>\n      <th>25</th>\n      <td>25</td>\n      <td>Carolina Mcmahon</td>\n      <td>A1643380L</td>\n      <td>PHY</td>\n      <td>M</td>\n      <td>'18.08'</td>\n      <td>12.858</td>\n    </tr>\n    <tr>\n      <th>26</th>\n      <td>26</td>\n      <td>Elian Potter</td>\n      <td>A6787293E</td>\n      <td>PHY</td>\n      <td>M</td>\n      <td>'14.36'</td>\n      <td>23.265</td>\n    </tr>\n    <tr>\n      <th>27</th>\n      <td>27</td>\n      <td>Litzy White</td>\n      <td>A5975988J</td>\n      <td>PHY</td>\n      <td>NB</td>\n      <td>'15.92'</td>\n      <td>20.817</td>\n    </tr>\n    <tr>\n      <th>28</th>\n      <td>28</td>\n      <td>Norah Miles</td>\n      <td>A3699958T</td>\n      <td>CHM</td>\n      <td>M</td>\n      <td>NaN</td>\n      <td>NaN</td>\n    </tr>\n    <tr>\n      <th>29</th>\n      <td>29</td>\n      <td>Mariela Sheppard</td>\n      <td>A1956366U</td>\n      <td>LS</td>\n      <td>NB</td>\n      <td>'11.0'</td>\n      <td>18.366</td>\n    </tr>\n    <tr>\n      <th>30</th>\n      <td>30</td>\n      <td>Isabela Stokes</td>\n      <td>A1468689D</td>\n      <td>CHM</td>\n      <td>M</td>\n      <td>'16.8'</td>\n      <td>18.366</td>\n    </tr>\n    <tr>\n      <th>31</th>\n      <td>31</td>\n      <td>Kathleen Rodriguez</td>\n      <td>A3217320C</td>\n      <td>PHY</td>\n      <td>M</td>\n      <td>'17.76'</td>\n      <td>22.653</td>\n    </tr>\n    <tr>\n      <th>32</th>\n      <td>32</td>\n      <td>Katie Ayers</td>\n      <td>A6867791C</td>\n      <td>CBIO</td>\n      <td>F</td>\n      <td>'10.28'</td>\n      <td>16.530</td>\n    </tr>\n    <tr>\n      <th>33</th>\n      <td>33</td>\n      <td>Tucker Sloan</td>\n      <td>A4080490P</td>\n      <td>LS</td>\n      <td>M</td>\n      <td>'15.04'</td>\n      <td>17.754</td>\n    </tr>\n    <tr>\n      <th>34</th>\n      <td>34</td>\n      <td>Carter Crane</td>\n      <td>A7667457P</td>\n      <td>LS</td>\n      <td>M</td>\n      <td>'13.816'</td>\n      <td>20.817</td>\n    </tr>\n  </tbody>\n</table>\n</div>"
     },
     "execution_count": 100,
     "metadata": {},
     "output_type": "execute_result"
    }
   ],
   "source": [
    "df_class"
   ],
   "metadata": {
    "collapsed": false
   }
  },
  {
   "attachments": {},
   "cell_type": "markdown",
   "id": "123456",
   "metadata": {},
   "source": [
    "### 1.2 Characteristics to notice"
   ]
  },
  {
   "cell_type": "code",
   "execution_count": 101,
   "id": "123456",
   "metadata": {},
   "outputs": [],
   "source": [
    "\n",
    "# Your code here\n"
   ]
  },
  {
   "attachments": {},
   "cell_type": "markdown",
   "id": "123456",
   "metadata": {},
   "source": [
    "## 2 Quick Peeks"
   ]
  },
  {
   "attachments": {},
   "cell_type": "markdown",
   "id": "123456",
   "metadata": {},
   "source": [
    "### 2.1 Head and Tail"
   ]
  },
  {
   "cell_type": "code",
   "execution_count": 102,
   "id": "123456",
   "metadata": {},
   "outputs": [
    {
     "data": {
      "text/plain": "   Unnamed: 0             Name Student No Major Gender Test 2 (20%)  \\\n0           0   Braiden Henson  A3028967J   PHY      M      '18.96'   \n1           1     Gustavo Vang  A1282849W   CHM      F      '17.44'   \n2           2  Ronin Christian  A5408925A   PHY      M      '15.56'   \n\n   Test 1 (30%)  \n0        20.205  \n1        13.470  \n2        18.366  ",
      "text/html": "<div>\n<style scoped>\n    .dataframe tbody tr th:only-of-type {\n        vertical-align: middle;\n    }\n\n    .dataframe tbody tr th {\n        vertical-align: top;\n    }\n\n    .dataframe thead th {\n        text-align: right;\n    }\n</style>\n<table border=\"1\" class=\"dataframe\">\n  <thead>\n    <tr style=\"text-align: right;\">\n      <th></th>\n      <th>Unnamed: 0</th>\n      <th>Name</th>\n      <th>Student No</th>\n      <th>Major</th>\n      <th>Gender</th>\n      <th>Test 2 (20%)</th>\n      <th>Test 1 (30%)</th>\n    </tr>\n  </thead>\n  <tbody>\n    <tr>\n      <th>0</th>\n      <td>0</td>\n      <td>Braiden Henson</td>\n      <td>A3028967J</td>\n      <td>PHY</td>\n      <td>M</td>\n      <td>'18.96'</td>\n      <td>20.205</td>\n    </tr>\n    <tr>\n      <th>1</th>\n      <td>1</td>\n      <td>Gustavo Vang</td>\n      <td>A1282849W</td>\n      <td>CHM</td>\n      <td>F</td>\n      <td>'17.44'</td>\n      <td>13.470</td>\n    </tr>\n    <tr>\n      <th>2</th>\n      <td>2</td>\n      <td>Ronin Christian</td>\n      <td>A5408925A</td>\n      <td>PHY</td>\n      <td>M</td>\n      <td>'15.56'</td>\n      <td>18.366</td>\n    </tr>\n  </tbody>\n</table>\n</div>"
     },
     "execution_count": 102,
     "metadata": {},
     "output_type": "execute_result"
    }
   ],
   "source": [
    "\n",
    "# Your code here\n",
    "df_class.head(3)"
   ]
  },
  {
   "cell_type": "code",
   "execution_count": 103,
   "outputs": [
    {
     "data": {
      "text/plain": "    Unnamed: 0          Name Student No Major Gender Test 2 (20%)  \\\n32          32   Katie Ayers  A6867791C  CBIO      F      '10.28'   \n33          33  Tucker Sloan  A4080490P    LS      M      '15.04'   \n34          34  Carter Crane  A7667457P    LS      M     '13.816'   \n\n    Test 1 (30%)  \n32        16.530  \n33        17.754  \n34        20.817  ",
      "text/html": "<div>\n<style scoped>\n    .dataframe tbody tr th:only-of-type {\n        vertical-align: middle;\n    }\n\n    .dataframe tbody tr th {\n        vertical-align: top;\n    }\n\n    .dataframe thead th {\n        text-align: right;\n    }\n</style>\n<table border=\"1\" class=\"dataframe\">\n  <thead>\n    <tr style=\"text-align: right;\">\n      <th></th>\n      <th>Unnamed: 0</th>\n      <th>Name</th>\n      <th>Student No</th>\n      <th>Major</th>\n      <th>Gender</th>\n      <th>Test 2 (20%)</th>\n      <th>Test 1 (30%)</th>\n    </tr>\n  </thead>\n  <tbody>\n    <tr>\n      <th>32</th>\n      <td>32</td>\n      <td>Katie Ayers</td>\n      <td>A6867791C</td>\n      <td>CBIO</td>\n      <td>F</td>\n      <td>'10.28'</td>\n      <td>16.530</td>\n    </tr>\n    <tr>\n      <th>33</th>\n      <td>33</td>\n      <td>Tucker Sloan</td>\n      <td>A4080490P</td>\n      <td>LS</td>\n      <td>M</td>\n      <td>'15.04'</td>\n      <td>17.754</td>\n    </tr>\n    <tr>\n      <th>34</th>\n      <td>34</td>\n      <td>Carter Crane</td>\n      <td>A7667457P</td>\n      <td>LS</td>\n      <td>M</td>\n      <td>'13.816'</td>\n      <td>20.817</td>\n    </tr>\n  </tbody>\n</table>\n</div>"
     },
     "execution_count": 103,
     "metadata": {},
     "output_type": "execute_result"
    }
   ],
   "source": [
    "df_class.tail(3)"
   ],
   "metadata": {
    "collapsed": false
   }
  },
  {
   "attachments": {},
   "cell_type": "markdown",
   "id": "123456",
   "metadata": {},
   "source": [
    "### 2.2 Size and Shape"
   ]
  },
  {
   "cell_type": "code",
   "execution_count": 104,
   "id": "123456",
   "metadata": {},
   "outputs": [
    {
     "data": {
      "text/plain": "(35, 7)"
     },
     "execution_count": 104,
     "metadata": {},
     "output_type": "execute_result"
    }
   ],
   "source": [
    "\n",
    "# Your code here\n",
    "df_class.shape"
   ]
  },
  {
   "cell_type": "code",
   "execution_count": 105,
   "outputs": [
    {
     "data": {
      "text/plain": "35"
     },
     "execution_count": 105,
     "metadata": {},
     "output_type": "execute_result"
    }
   ],
   "source": [
    "len(df_class)"
   ],
   "metadata": {
    "collapsed": false
   }
  },
  {
   "cell_type": "code",
   "execution_count": 106,
   "outputs": [
    {
     "data": {
      "text/plain": "Index(['Unnamed: 0', 'Name', 'Student No', 'Major', 'Gender', 'Test 2 (20%)',\n       'Test 1 (30%)'],\n      dtype='object')"
     },
     "execution_count": 106,
     "metadata": {},
     "output_type": "execute_result"
    }
   ],
   "source": [
    "df_class.columns"
   ],
   "metadata": {
    "collapsed": false
   }
  },
  {
   "attachments": {},
   "cell_type": "markdown",
   "id": "123456",
   "metadata": {},
   "source": [
    "### 2.3 Summaries (I)"
   ]
  },
  {
   "cell_type": "code",
   "execution_count": 107,
   "id": "123456",
   "metadata": {},
   "outputs": [
    {
     "name": "stdout",
     "output_type": "stream",
     "text": [
      "<class 'pandas.core.frame.DataFrame'>\n",
      "RangeIndex: 35 entries, 0 to 34\n",
      "Data columns (total 7 columns):\n",
      " #   Column        Non-Null Count  Dtype  \n",
      "---  ------        --------------  -----  \n",
      " 0   Unnamed: 0    35 non-null     int64  \n",
      " 1   Name          35 non-null     object \n",
      " 2   Student No    35 non-null     object \n",
      " 3   Major         35 non-null     object \n",
      " 4   Gender        35 non-null     object \n",
      " 5   Test 2 (20%)  32 non-null     object \n",
      " 6   Test 1 (30%)  33 non-null     float64\n",
      "dtypes: float64(1), int64(1), object(5)\n",
      "memory usage: 2.0+ KB\n"
     ]
    }
   ],
   "source": [
    "\n",
    "# Your code here\n",
    "df_class.info()"
   ]
  },
  {
   "cell_type": "code",
   "execution_count": 108,
   "outputs": [
    {
     "data": {
      "text/plain": "       Unnamed: 0  Test 1 (30%)\ncount   35.000000     33.000000\nmean    17.000000     18.534455\nstd     10.246951      3.487934\nmin      0.000000     12.246000\n25%      8.500000     15.918000\n50%     17.000000     18.366000\n75%     25.500000     20.817000\nmax     34.000000     26.328000",
      "text/html": "<div>\n<style scoped>\n    .dataframe tbody tr th:only-of-type {\n        vertical-align: middle;\n    }\n\n    .dataframe tbody tr th {\n        vertical-align: top;\n    }\n\n    .dataframe thead th {\n        text-align: right;\n    }\n</style>\n<table border=\"1\" class=\"dataframe\">\n  <thead>\n    <tr style=\"text-align: right;\">\n      <th></th>\n      <th>Unnamed: 0</th>\n      <th>Test 1 (30%)</th>\n    </tr>\n  </thead>\n  <tbody>\n    <tr>\n      <th>count</th>\n      <td>35.000000</td>\n      <td>33.000000</td>\n    </tr>\n    <tr>\n      <th>mean</th>\n      <td>17.000000</td>\n      <td>18.534455</td>\n    </tr>\n    <tr>\n      <th>std</th>\n      <td>10.246951</td>\n      <td>3.487934</td>\n    </tr>\n    <tr>\n      <th>min</th>\n      <td>0.000000</td>\n      <td>12.246000</td>\n    </tr>\n    <tr>\n      <th>25%</th>\n      <td>8.500000</td>\n      <td>15.918000</td>\n    </tr>\n    <tr>\n      <th>50%</th>\n      <td>17.000000</td>\n      <td>18.366000</td>\n    </tr>\n    <tr>\n      <th>75%</th>\n      <td>25.500000</td>\n      <td>20.817000</td>\n    </tr>\n    <tr>\n      <th>max</th>\n      <td>34.000000</td>\n      <td>26.328000</td>\n    </tr>\n  </tbody>\n</table>\n</div>"
     },
     "execution_count": 108,
     "metadata": {},
     "output_type": "execute_result"
    }
   ],
   "source": [
    "df_class.describe()"
   ],
   "metadata": {
    "collapsed": false
   }
  },
  {
   "cell_type": "code",
   "execution_count": 109,
   "outputs": [
    {
     "data": {
      "text/plain": "        Unnamed: 0            Name Student No Major Gender Test 2 (20%)  \\\ncount    35.000000              35         35    35     35           32   \nunique         NaN              35         35     4      3           27   \ntop            NaN  Braiden Henson  A3028967J    LS      M      '14.36'   \nfreq           NaN               1          1    14     16            3   \nmean     17.000000             NaN        NaN   NaN    NaN          NaN   \nstd      10.246951             NaN        NaN   NaN    NaN          NaN   \nmin       0.000000             NaN        NaN   NaN    NaN          NaN   \n25%       8.500000             NaN        NaN   NaN    NaN          NaN   \n50%      17.000000             NaN        NaN   NaN    NaN          NaN   \n75%      25.500000             NaN        NaN   NaN    NaN          NaN   \nmax      34.000000             NaN        NaN   NaN    NaN          NaN   \n\n        Test 1 (30%)  \ncount      33.000000  \nunique           NaN  \ntop              NaN  \nfreq             NaN  \nmean       18.534455  \nstd         3.487934  \nmin        12.246000  \n25%        15.918000  \n50%        18.366000  \n75%        20.817000  \nmax        26.328000  ",
      "text/html": "<div>\n<style scoped>\n    .dataframe tbody tr th:only-of-type {\n        vertical-align: middle;\n    }\n\n    .dataframe tbody tr th {\n        vertical-align: top;\n    }\n\n    .dataframe thead th {\n        text-align: right;\n    }\n</style>\n<table border=\"1\" class=\"dataframe\">\n  <thead>\n    <tr style=\"text-align: right;\">\n      <th></th>\n      <th>Unnamed: 0</th>\n      <th>Name</th>\n      <th>Student No</th>\n      <th>Major</th>\n      <th>Gender</th>\n      <th>Test 2 (20%)</th>\n      <th>Test 1 (30%)</th>\n    </tr>\n  </thead>\n  <tbody>\n    <tr>\n      <th>count</th>\n      <td>35.000000</td>\n      <td>35</td>\n      <td>35</td>\n      <td>35</td>\n      <td>35</td>\n      <td>32</td>\n      <td>33.000000</td>\n    </tr>\n    <tr>\n      <th>unique</th>\n      <td>NaN</td>\n      <td>35</td>\n      <td>35</td>\n      <td>4</td>\n      <td>3</td>\n      <td>27</td>\n      <td>NaN</td>\n    </tr>\n    <tr>\n      <th>top</th>\n      <td>NaN</td>\n      <td>Braiden Henson</td>\n      <td>A3028967J</td>\n      <td>LS</td>\n      <td>M</td>\n      <td>'14.36'</td>\n      <td>NaN</td>\n    </tr>\n    <tr>\n      <th>freq</th>\n      <td>NaN</td>\n      <td>1</td>\n      <td>1</td>\n      <td>14</td>\n      <td>16</td>\n      <td>3</td>\n      <td>NaN</td>\n    </tr>\n    <tr>\n      <th>mean</th>\n      <td>17.000000</td>\n      <td>NaN</td>\n      <td>NaN</td>\n      <td>NaN</td>\n      <td>NaN</td>\n      <td>NaN</td>\n      <td>18.534455</td>\n    </tr>\n    <tr>\n      <th>std</th>\n      <td>10.246951</td>\n      <td>NaN</td>\n      <td>NaN</td>\n      <td>NaN</td>\n      <td>NaN</td>\n      <td>NaN</td>\n      <td>3.487934</td>\n    </tr>\n    <tr>\n      <th>min</th>\n      <td>0.000000</td>\n      <td>NaN</td>\n      <td>NaN</td>\n      <td>NaN</td>\n      <td>NaN</td>\n      <td>NaN</td>\n      <td>12.246000</td>\n    </tr>\n    <tr>\n      <th>25%</th>\n      <td>8.500000</td>\n      <td>NaN</td>\n      <td>NaN</td>\n      <td>NaN</td>\n      <td>NaN</td>\n      <td>NaN</td>\n      <td>15.918000</td>\n    </tr>\n    <tr>\n      <th>50%</th>\n      <td>17.000000</td>\n      <td>NaN</td>\n      <td>NaN</td>\n      <td>NaN</td>\n      <td>NaN</td>\n      <td>NaN</td>\n      <td>18.366000</td>\n    </tr>\n    <tr>\n      <th>75%</th>\n      <td>25.500000</td>\n      <td>NaN</td>\n      <td>NaN</td>\n      <td>NaN</td>\n      <td>NaN</td>\n      <td>NaN</td>\n      <td>20.817000</td>\n    </tr>\n    <tr>\n      <th>max</th>\n      <td>34.000000</td>\n      <td>NaN</td>\n      <td>NaN</td>\n      <td>NaN</td>\n      <td>NaN</td>\n      <td>NaN</td>\n      <td>26.328000</td>\n    </tr>\n  </tbody>\n</table>\n</div>"
     },
     "execution_count": 109,
     "metadata": {},
     "output_type": "execute_result"
    }
   ],
   "source": [
    "df_class.describe(include=\"all\")"
   ],
   "metadata": {
    "collapsed": false
   }
  },
  {
   "attachments": {},
   "cell_type": "markdown",
   "id": "123456",
   "metadata": {},
   "source": [
    "### 2.4 Summaries (II)"
   ]
  },
  {
   "cell_type": "code",
   "execution_count": 110,
   "id": "123456",
   "metadata": {},
   "outputs": [
    {
     "data": {
      "text/plain": "18.534454545454548"
     },
     "execution_count": 110,
     "metadata": {},
     "output_type": "execute_result"
    }
   ],
   "source": [
    "\n",
    "# Your code here\n",
    "df_class['Test 1 (30%)'].mean()"
   ]
  },
  {
   "cell_type": "code",
   "execution_count": 111,
   "outputs": [
    {
     "name": "stderr",
     "output_type": "stream",
     "text": [
      "/tmp/ipykernel_32974/2148427653.py:1: FutureWarning: The default value of numeric_only in DataFrame.mean is deprecated. In a future version, it will default to False. In addition, specifying 'numeric_only=None' is deprecated. Select only valid columns or specify the value of numeric_only to silence this warning.\n",
      "  df_class[['Test 1 (30%)', 'Test 2 (20%)']].mean()\n"
     ]
    },
    {
     "data": {
      "text/plain": "Test 1 (30%)    18.534455\ndtype: float64"
     },
     "execution_count": 111,
     "metadata": {},
     "output_type": "execute_result"
    }
   ],
   "source": [
    "df_class[['Test 1 (30%)', 'Test 2 (20%)']].mean()"
   ],
   "metadata": {
    "collapsed": false
   }
  },
  {
   "cell_type": "code",
   "execution_count": 112,
   "outputs": [
    {
     "data": {
      "text/plain": "array(['PHY', 'CHM', 'PHY', 'LS', 'PHY', 'PHY', 'LS', 'LS', 'LS', 'LS',\n       'LS', 'LS', 'PHY', 'LS', 'CHM', 'PHY', 'CHM', 'PHY', 'CHM', 'CHM',\n       'PHY', 'CHM', 'LS', 'LS', 'LS', 'PHY', 'PHY', 'PHY', 'CHM', 'LS',\n       'CHM', 'PHY', 'CBIO', 'LS', 'LS'], dtype=object)"
     },
     "execution_count": 112,
     "metadata": {},
     "output_type": "execute_result"
    }
   ],
   "source": [
    "df_class['Major'].values"
   ],
   "metadata": {
    "collapsed": false
   }
  },
  {
   "cell_type": "code",
   "execution_count": 113,
   "outputs": [
    {
     "data": {
      "text/plain": "array(['PHY', 'CHM', 'LS', 'CBIO'], dtype=object)"
     },
     "execution_count": 113,
     "metadata": {},
     "output_type": "execute_result"
    }
   ],
   "source": [
    "df_class['Major'].unique()"
   ],
   "metadata": {
    "collapsed": false
   }
  },
  {
   "cell_type": "code",
   "execution_count": 114,
   "outputs": [
    {
     "data": {
      "text/plain": "LS      14\nPHY     12\nCHM      8\nCBIO     1\nName: Major, dtype: int64"
     },
     "execution_count": 114,
     "metadata": {},
     "output_type": "execute_result"
    }
   ],
   "source": [
    "df_class['Major'].value_counts()"
   ],
   "metadata": {
    "collapsed": false
   }
  },
  {
   "cell_type": "code",
   "execution_count": 115,
   "outputs": [
    {
     "data": {
      "text/plain": "{'LS': 14, 'PHY': 12, 'CHM': 8, 'CBIO': 1}"
     },
     "execution_count": 115,
     "metadata": {},
     "output_type": "execute_result"
    }
   ],
   "source": [
    "df_class['Major'].value_counts().to_dict()"
   ],
   "metadata": {
    "collapsed": false
   }
  },
  {
   "cell_type": "code",
   "execution_count": 116,
   "outputs": [
    {
     "data": {
      "text/plain": "[14, 12, 8, 1]"
     },
     "execution_count": 116,
     "metadata": {},
     "output_type": "execute_result"
    }
   ],
   "source": [
    "df_class['Major'].value_counts().to_list()"
   ],
   "metadata": {
    "collapsed": false
   }
  },
  {
   "cell_type": "code",
   "execution_count": 117,
   "outputs": [
    {
     "data": {
      "text/plain": "['LS', 'PHY', 'CHM', 'CBIO']"
     },
     "execution_count": 117,
     "metadata": {},
     "output_type": "execute_result"
    }
   ],
   "source": [
    "df_class['Major'].value_counts().index.to_list()"
   ],
   "metadata": {
    "collapsed": false
   }
  },
  {
   "attachments": {},
   "cell_type": "markdown",
   "id": "123456",
   "metadata": {},
   "source": [
    "## 3 Housekeeping"
   ]
  },
  {
   "attachments": {},
   "cell_type": "markdown",
   "id": "123456",
   "metadata": {},
   "source": [
    "### 3.1 Dropping unnecessary columns"
   ]
  },
  {
   "cell_type": "code",
   "execution_count": 118,
   "id": "123456",
   "metadata": {},
   "outputs": [
    {
     "data": {
      "text/plain": "                  Name Student No Major Gender Test 2 (20%)  Test 1 (30%)\n0       Braiden Henson  A3028967J   PHY      M      '18.96'        20.205\n1         Gustavo Vang  A1282849W   CHM      F      '17.44'        13.470\n2      Ronin Christian  A5408925A   PHY      M      '15.56'        18.366\n3        Owen Anderson  A6973859L    LS      F      '16.36'        18.366\n4           Kyla Young  A5410124H   PHY      M          NaN        15.306\n5         Wyatt Oliver  A9568373Q   PHY      M     '14.088'        12.246\n6        Essence Bauer  A6824244G    LS      M      '16.72'        16.530\n7    Maryjane Sandoval  A9194090U    LS      F       '16.4'        18.981\n8        Carl Trujillo  A4828364M    LS     NB      '13.68'        15.306\n9          Halle Fritz  A4607700C    LS      F       '9.04'        17.754\n10       Marie Hoffman  A7067766E    LS      F      '16.88'        19.593\n11    Lilianna Kaufman  A5569996J    LS      M       '17.0'        26.328\n12         Jaxon Chung  A3202548I   PHY      M      '16.68'        14.082\n13       Zoey Oconnell  A6131593U    LS      F     '14.128'        22.041\n14        Quentin Kemp  A7653832E   CHM      F      '15.72'           NaN\n15            Leo Mayo  A9462811I   PHY      F      '14.68'        20.817\n16     Camden Williams  A1218599T   CHM      F     '17.648'        22.653\n17      Sidney Wiggins  A7210476B   PHY     NB      '14.68'        19.593\n18    Solomon Fletcher  A1512479K   CHM      F       '15.0'        18.981\n19   Riley Christensen  A7986368Y   CHM      F     '16.016'        15.306\n20        Malik Becker  A2727061A   PHY      M          NaN        12.858\n21      Skylar Hensley  A2999472W   CHM      M     '17.648'        23.877\n22       Braydon Duran  A7116486E    LS      F      '14.36'        15.918\n23        Jalen Harmon  A6931452S    LS      F      '16.88'        22.041\n24            Ean Haas  A9649096H    LS      F      '14.36'        19.593\n25    Carolina Mcmahon  A1643380L   PHY      M      '18.08'        12.858\n26        Elian Potter  A6787293E   PHY      M      '14.36'        23.265\n27         Litzy White  A5975988J   PHY     NB      '15.92'        20.817\n28         Norah Miles  A3699958T   CHM      M          NaN           NaN\n29    Mariela Sheppard  A1956366U    LS     NB       '11.0'        18.366\n30      Isabela Stokes  A1468689D   CHM      M       '16.8'        18.366\n31  Kathleen Rodriguez  A3217320C   PHY      M      '17.76'        22.653\n32         Katie Ayers  A6867791C  CBIO      F      '10.28'        16.530\n33        Tucker Sloan  A4080490P    LS      M      '15.04'        17.754\n34        Carter Crane  A7667457P    LS      M     '13.816'        20.817",
      "text/html": "<div>\n<style scoped>\n    .dataframe tbody tr th:only-of-type {\n        vertical-align: middle;\n    }\n\n    .dataframe tbody tr th {\n        vertical-align: top;\n    }\n\n    .dataframe thead th {\n        text-align: right;\n    }\n</style>\n<table border=\"1\" class=\"dataframe\">\n  <thead>\n    <tr style=\"text-align: right;\">\n      <th></th>\n      <th>Name</th>\n      <th>Student No</th>\n      <th>Major</th>\n      <th>Gender</th>\n      <th>Test 2 (20%)</th>\n      <th>Test 1 (30%)</th>\n    </tr>\n  </thead>\n  <tbody>\n    <tr>\n      <th>0</th>\n      <td>Braiden Henson</td>\n      <td>A3028967J</td>\n      <td>PHY</td>\n      <td>M</td>\n      <td>'18.96'</td>\n      <td>20.205</td>\n    </tr>\n    <tr>\n      <th>1</th>\n      <td>Gustavo Vang</td>\n      <td>A1282849W</td>\n      <td>CHM</td>\n      <td>F</td>\n      <td>'17.44'</td>\n      <td>13.470</td>\n    </tr>\n    <tr>\n      <th>2</th>\n      <td>Ronin Christian</td>\n      <td>A5408925A</td>\n      <td>PHY</td>\n      <td>M</td>\n      <td>'15.56'</td>\n      <td>18.366</td>\n    </tr>\n    <tr>\n      <th>3</th>\n      <td>Owen Anderson</td>\n      <td>A6973859L</td>\n      <td>LS</td>\n      <td>F</td>\n      <td>'16.36'</td>\n      <td>18.366</td>\n    </tr>\n    <tr>\n      <th>4</th>\n      <td>Kyla Young</td>\n      <td>A5410124H</td>\n      <td>PHY</td>\n      <td>M</td>\n      <td>NaN</td>\n      <td>15.306</td>\n    </tr>\n    <tr>\n      <th>5</th>\n      <td>Wyatt Oliver</td>\n      <td>A9568373Q</td>\n      <td>PHY</td>\n      <td>M</td>\n      <td>'14.088'</td>\n      <td>12.246</td>\n    </tr>\n    <tr>\n      <th>6</th>\n      <td>Essence Bauer</td>\n      <td>A6824244G</td>\n      <td>LS</td>\n      <td>M</td>\n      <td>'16.72'</td>\n      <td>16.530</td>\n    </tr>\n    <tr>\n      <th>7</th>\n      <td>Maryjane Sandoval</td>\n      <td>A9194090U</td>\n      <td>LS</td>\n      <td>F</td>\n      <td>'16.4'</td>\n      <td>18.981</td>\n    </tr>\n    <tr>\n      <th>8</th>\n      <td>Carl Trujillo</td>\n      <td>A4828364M</td>\n      <td>LS</td>\n      <td>NB</td>\n      <td>'13.68'</td>\n      <td>15.306</td>\n    </tr>\n    <tr>\n      <th>9</th>\n      <td>Halle Fritz</td>\n      <td>A4607700C</td>\n      <td>LS</td>\n      <td>F</td>\n      <td>'9.04'</td>\n      <td>17.754</td>\n    </tr>\n    <tr>\n      <th>10</th>\n      <td>Marie Hoffman</td>\n      <td>A7067766E</td>\n      <td>LS</td>\n      <td>F</td>\n      <td>'16.88'</td>\n      <td>19.593</td>\n    </tr>\n    <tr>\n      <th>11</th>\n      <td>Lilianna Kaufman</td>\n      <td>A5569996J</td>\n      <td>LS</td>\n      <td>M</td>\n      <td>'17.0'</td>\n      <td>26.328</td>\n    </tr>\n    <tr>\n      <th>12</th>\n      <td>Jaxon Chung</td>\n      <td>A3202548I</td>\n      <td>PHY</td>\n      <td>M</td>\n      <td>'16.68'</td>\n      <td>14.082</td>\n    </tr>\n    <tr>\n      <th>13</th>\n      <td>Zoey Oconnell</td>\n      <td>A6131593U</td>\n      <td>LS</td>\n      <td>F</td>\n      <td>'14.128'</td>\n      <td>22.041</td>\n    </tr>\n    <tr>\n      <th>14</th>\n      <td>Quentin Kemp</td>\n      <td>A7653832E</td>\n      <td>CHM</td>\n      <td>F</td>\n      <td>'15.72'</td>\n      <td>NaN</td>\n    </tr>\n    <tr>\n      <th>15</th>\n      <td>Leo Mayo</td>\n      <td>A9462811I</td>\n      <td>PHY</td>\n      <td>F</td>\n      <td>'14.68'</td>\n      <td>20.817</td>\n    </tr>\n    <tr>\n      <th>16</th>\n      <td>Camden Williams</td>\n      <td>A1218599T</td>\n      <td>CHM</td>\n      <td>F</td>\n      <td>'17.648'</td>\n      <td>22.653</td>\n    </tr>\n    <tr>\n      <th>17</th>\n      <td>Sidney Wiggins</td>\n      <td>A7210476B</td>\n      <td>PHY</td>\n      <td>NB</td>\n      <td>'14.68'</td>\n      <td>19.593</td>\n    </tr>\n    <tr>\n      <th>18</th>\n      <td>Solomon Fletcher</td>\n      <td>A1512479K</td>\n      <td>CHM</td>\n      <td>F</td>\n      <td>'15.0'</td>\n      <td>18.981</td>\n    </tr>\n    <tr>\n      <th>19</th>\n      <td>Riley Christensen</td>\n      <td>A7986368Y</td>\n      <td>CHM</td>\n      <td>F</td>\n      <td>'16.016'</td>\n      <td>15.306</td>\n    </tr>\n    <tr>\n      <th>20</th>\n      <td>Malik Becker</td>\n      <td>A2727061A</td>\n      <td>PHY</td>\n      <td>M</td>\n      <td>NaN</td>\n      <td>12.858</td>\n    </tr>\n    <tr>\n      <th>21</th>\n      <td>Skylar Hensley</td>\n      <td>A2999472W</td>\n      <td>CHM</td>\n      <td>M</td>\n      <td>'17.648'</td>\n      <td>23.877</td>\n    </tr>\n    <tr>\n      <th>22</th>\n      <td>Braydon Duran</td>\n      <td>A7116486E</td>\n      <td>LS</td>\n      <td>F</td>\n      <td>'14.36'</td>\n      <td>15.918</td>\n    </tr>\n    <tr>\n      <th>23</th>\n      <td>Jalen Harmon</td>\n      <td>A6931452S</td>\n      <td>LS</td>\n      <td>F</td>\n      <td>'16.88'</td>\n      <td>22.041</td>\n    </tr>\n    <tr>\n      <th>24</th>\n      <td>Ean Haas</td>\n      <td>A9649096H</td>\n      <td>LS</td>\n      <td>F</td>\n      <td>'14.36'</td>\n      <td>19.593</td>\n    </tr>\n    <tr>\n      <th>25</th>\n      <td>Carolina Mcmahon</td>\n      <td>A1643380L</td>\n      <td>PHY</td>\n      <td>M</td>\n      <td>'18.08'</td>\n      <td>12.858</td>\n    </tr>\n    <tr>\n      <th>26</th>\n      <td>Elian Potter</td>\n      <td>A6787293E</td>\n      <td>PHY</td>\n      <td>M</td>\n      <td>'14.36'</td>\n      <td>23.265</td>\n    </tr>\n    <tr>\n      <th>27</th>\n      <td>Litzy White</td>\n      <td>A5975988J</td>\n      <td>PHY</td>\n      <td>NB</td>\n      <td>'15.92'</td>\n      <td>20.817</td>\n    </tr>\n    <tr>\n      <th>28</th>\n      <td>Norah Miles</td>\n      <td>A3699958T</td>\n      <td>CHM</td>\n      <td>M</td>\n      <td>NaN</td>\n      <td>NaN</td>\n    </tr>\n    <tr>\n      <th>29</th>\n      <td>Mariela Sheppard</td>\n      <td>A1956366U</td>\n      <td>LS</td>\n      <td>NB</td>\n      <td>'11.0'</td>\n      <td>18.366</td>\n    </tr>\n    <tr>\n      <th>30</th>\n      <td>Isabela Stokes</td>\n      <td>A1468689D</td>\n      <td>CHM</td>\n      <td>M</td>\n      <td>'16.8'</td>\n      <td>18.366</td>\n    </tr>\n    <tr>\n      <th>31</th>\n      <td>Kathleen Rodriguez</td>\n      <td>A3217320C</td>\n      <td>PHY</td>\n      <td>M</td>\n      <td>'17.76'</td>\n      <td>22.653</td>\n    </tr>\n    <tr>\n      <th>32</th>\n      <td>Katie Ayers</td>\n      <td>A6867791C</td>\n      <td>CBIO</td>\n      <td>F</td>\n      <td>'10.28'</td>\n      <td>16.530</td>\n    </tr>\n    <tr>\n      <th>33</th>\n      <td>Tucker Sloan</td>\n      <td>A4080490P</td>\n      <td>LS</td>\n      <td>M</td>\n      <td>'15.04'</td>\n      <td>17.754</td>\n    </tr>\n    <tr>\n      <th>34</th>\n      <td>Carter Crane</td>\n      <td>A7667457P</td>\n      <td>LS</td>\n      <td>M</td>\n      <td>'13.816'</td>\n      <td>20.817</td>\n    </tr>\n  </tbody>\n</table>\n</div>"
     },
     "execution_count": 118,
     "metadata": {},
     "output_type": "execute_result"
    }
   ],
   "source": [
    "\n",
    "# Your code here\n",
    "df_class.drop(columns=['Unnamed: 0'])"
   ]
  },
  {
   "cell_type": "code",
   "execution_count": 119,
   "outputs": [
    {
     "data": {
      "text/plain": "   Unnamed: 0             Name Student No Major Gender Test 2 (20%)  \\\n0           0   Braiden Henson  A3028967J   PHY      M      '18.96'   \n1           1     Gustavo Vang  A1282849W   CHM      F      '17.44'   \n2           2  Ronin Christian  A5408925A   PHY      M      '15.56'   \n3           3    Owen Anderson  A6973859L    LS      F      '16.36'   \n4           4       Kyla Young  A5410124H   PHY      M          NaN   \n\n   Test 1 (30%)  \n0        20.205  \n1        13.470  \n2        18.366  \n3        18.366  \n4        15.306  ",
      "text/html": "<div>\n<style scoped>\n    .dataframe tbody tr th:only-of-type {\n        vertical-align: middle;\n    }\n\n    .dataframe tbody tr th {\n        vertical-align: top;\n    }\n\n    .dataframe thead th {\n        text-align: right;\n    }\n</style>\n<table border=\"1\" class=\"dataframe\">\n  <thead>\n    <tr style=\"text-align: right;\">\n      <th></th>\n      <th>Unnamed: 0</th>\n      <th>Name</th>\n      <th>Student No</th>\n      <th>Major</th>\n      <th>Gender</th>\n      <th>Test 2 (20%)</th>\n      <th>Test 1 (30%)</th>\n    </tr>\n  </thead>\n  <tbody>\n    <tr>\n      <th>0</th>\n      <td>0</td>\n      <td>Braiden Henson</td>\n      <td>A3028967J</td>\n      <td>PHY</td>\n      <td>M</td>\n      <td>'18.96'</td>\n      <td>20.205</td>\n    </tr>\n    <tr>\n      <th>1</th>\n      <td>1</td>\n      <td>Gustavo Vang</td>\n      <td>A1282849W</td>\n      <td>CHM</td>\n      <td>F</td>\n      <td>'17.44'</td>\n      <td>13.470</td>\n    </tr>\n    <tr>\n      <th>2</th>\n      <td>2</td>\n      <td>Ronin Christian</td>\n      <td>A5408925A</td>\n      <td>PHY</td>\n      <td>M</td>\n      <td>'15.56'</td>\n      <td>18.366</td>\n    </tr>\n    <tr>\n      <th>3</th>\n      <td>3</td>\n      <td>Owen Anderson</td>\n      <td>A6973859L</td>\n      <td>LS</td>\n      <td>F</td>\n      <td>'16.36'</td>\n      <td>18.366</td>\n    </tr>\n    <tr>\n      <th>4</th>\n      <td>4</td>\n      <td>Kyla Young</td>\n      <td>A5410124H</td>\n      <td>PHY</td>\n      <td>M</td>\n      <td>NaN</td>\n      <td>15.306</td>\n    </tr>\n  </tbody>\n</table>\n</div>"
     },
     "execution_count": 119,
     "metadata": {},
     "output_type": "execute_result"
    }
   ],
   "source": [
    "# Pandas methods modify the dataframe in place\n",
    "df_class.head()"
   ],
   "metadata": {
    "collapsed": false
   }
  },
  {
   "cell_type": "code",
   "execution_count": 120,
   "outputs": [],
   "source": [
    "df_class = df_class.drop(columns=['Unnamed: 0'])"
   ],
   "metadata": {
    "collapsed": false
   }
  },
  {
   "attachments": {},
   "cell_type": "markdown",
   "id": "123456",
   "metadata": {},
   "source": [
    "### 3.2 Reorganising columns"
   ]
  },
  {
   "cell_type": "code",
   "execution_count": 121,
   "id": "123456",
   "metadata": {},
   "outputs": [],
   "source": [
    "\n",
    "# Your code here\n",
    "columns_to_keep = ['Student No', 'Name', 'Major', 'Gender',\n",
    "                   'Test 1 (30%)', 'Test 2 (20%)']\n",
    "\n",
    "df_class = df_class[columns_to_keep]"
   ]
  },
  {
   "attachments": {},
   "cell_type": "markdown",
   "id": "123456",
   "metadata": {},
   "source": [
    "### 3.3 Renaming columns"
   ]
  },
  {
   "cell_type": "code",
   "execution_count": 122,
   "id": "123456",
   "metadata": {},
   "outputs": [],
   "source": [
    "\n",
    "# Your code here\n",
    "new_column_info = {'Student No': 'MATRIC_NO',\n",
    "                   'Test 1 (30%)': 'Test 1',\n",
    "                   'Test 2 (20%)': 'Test 2'}\n",
    "\n",
    "df_class.rename(columns=new_column_info, inplace=True)"
   ]
  },
  {
   "cell_type": "code",
   "execution_count": 123,
   "outputs": [
    {
     "data": {
      "text/plain": "   MATRIC_NO             Name Major Gender  Test 1   Test 2\n0  A3028967J   Braiden Henson   PHY      M  20.205  '18.96'\n1  A1282849W     Gustavo Vang   CHM      F  13.470  '17.44'\n2  A5408925A  Ronin Christian   PHY      M  18.366  '15.56'\n3  A6973859L    Owen Anderson    LS      F  18.366  '16.36'\n4  A5410124H       Kyla Young   PHY      M  15.306      NaN",
      "text/html": "<div>\n<style scoped>\n    .dataframe tbody tr th:only-of-type {\n        vertical-align: middle;\n    }\n\n    .dataframe tbody tr th {\n        vertical-align: top;\n    }\n\n    .dataframe thead th {\n        text-align: right;\n    }\n</style>\n<table border=\"1\" class=\"dataframe\">\n  <thead>\n    <tr style=\"text-align: right;\">\n      <th></th>\n      <th>MATRIC_NO</th>\n      <th>Name</th>\n      <th>Major</th>\n      <th>Gender</th>\n      <th>Test 1</th>\n      <th>Test 2</th>\n    </tr>\n  </thead>\n  <tbody>\n    <tr>\n      <th>0</th>\n      <td>A3028967J</td>\n      <td>Braiden Henson</td>\n      <td>PHY</td>\n      <td>M</td>\n      <td>20.205</td>\n      <td>'18.96'</td>\n    </tr>\n    <tr>\n      <th>1</th>\n      <td>A1282849W</td>\n      <td>Gustavo Vang</td>\n      <td>CHM</td>\n      <td>F</td>\n      <td>13.470</td>\n      <td>'17.44'</td>\n    </tr>\n    <tr>\n      <th>2</th>\n      <td>A5408925A</td>\n      <td>Ronin Christian</td>\n      <td>PHY</td>\n      <td>M</td>\n      <td>18.366</td>\n      <td>'15.56'</td>\n    </tr>\n    <tr>\n      <th>3</th>\n      <td>A6973859L</td>\n      <td>Owen Anderson</td>\n      <td>LS</td>\n      <td>F</td>\n      <td>18.366</td>\n      <td>'16.36'</td>\n    </tr>\n    <tr>\n      <th>4</th>\n      <td>A5410124H</td>\n      <td>Kyla Young</td>\n      <td>PHY</td>\n      <td>M</td>\n      <td>15.306</td>\n      <td>NaN</td>\n    </tr>\n  </tbody>\n</table>\n</div>"
     },
     "execution_count": 123,
     "metadata": {},
     "output_type": "execute_result"
    }
   ],
   "source": [
    "df_class.head()"
   ],
   "metadata": {
    "collapsed": false
   }
  },
  {
   "attachments": {},
   "cell_type": "markdown",
   "id": "123456",
   "metadata": {},
   "source": [
    "### 3.4 Setting the index"
   ]
  },
  {
   "cell_type": "code",
   "execution_count": 124,
   "id": "123456",
   "metadata": {},
   "outputs": [
    {
     "data": {
      "text/plain": "RangeIndex(start=0, stop=35, step=1)"
     },
     "execution_count": 124,
     "metadata": {},
     "output_type": "execute_result"
    }
   ],
   "source": [
    "\n",
    "# Your code here\n",
    "df_class.index"
   ]
  },
  {
   "cell_type": "code",
   "execution_count": 125,
   "outputs": [],
   "source": [
    "df_class.set_index('MATRIC_NO', drop=False, inplace=True)"
   ],
   "metadata": {
    "collapsed": false
   }
  },
  {
   "cell_type": "code",
   "execution_count": 126,
   "outputs": [
    {
     "data": {
      "text/plain": "           MATRIC_NO             Name Major Gender  Test 1   Test 2\nMATRIC_NO                                                          \nA3028967J  A3028967J   Braiden Henson   PHY      M  20.205  '18.96'\nA1282849W  A1282849W     Gustavo Vang   CHM      F  13.470  '17.44'\nA5408925A  A5408925A  Ronin Christian   PHY      M  18.366  '15.56'\nA6973859L  A6973859L    Owen Anderson    LS      F  18.366  '16.36'\nA5410124H  A5410124H       Kyla Young   PHY      M  15.306      NaN",
      "text/html": "<div>\n<style scoped>\n    .dataframe tbody tr th:only-of-type {\n        vertical-align: middle;\n    }\n\n    .dataframe tbody tr th {\n        vertical-align: top;\n    }\n\n    .dataframe thead th {\n        text-align: right;\n    }\n</style>\n<table border=\"1\" class=\"dataframe\">\n  <thead>\n    <tr style=\"text-align: right;\">\n      <th></th>\n      <th>MATRIC_NO</th>\n      <th>Name</th>\n      <th>Major</th>\n      <th>Gender</th>\n      <th>Test 1</th>\n      <th>Test 2</th>\n    </tr>\n    <tr>\n      <th>MATRIC_NO</th>\n      <th></th>\n      <th></th>\n      <th></th>\n      <th></th>\n      <th></th>\n      <th></th>\n    </tr>\n  </thead>\n  <tbody>\n    <tr>\n      <th>A3028967J</th>\n      <td>A3028967J</td>\n      <td>Braiden Henson</td>\n      <td>PHY</td>\n      <td>M</td>\n      <td>20.205</td>\n      <td>'18.96'</td>\n    </tr>\n    <tr>\n      <th>A1282849W</th>\n      <td>A1282849W</td>\n      <td>Gustavo Vang</td>\n      <td>CHM</td>\n      <td>F</td>\n      <td>13.470</td>\n      <td>'17.44'</td>\n    </tr>\n    <tr>\n      <th>A5408925A</th>\n      <td>A5408925A</td>\n      <td>Ronin Christian</td>\n      <td>PHY</td>\n      <td>M</td>\n      <td>18.366</td>\n      <td>'15.56'</td>\n    </tr>\n    <tr>\n      <th>A6973859L</th>\n      <td>A6973859L</td>\n      <td>Owen Anderson</td>\n      <td>LS</td>\n      <td>F</td>\n      <td>18.366</td>\n      <td>'16.36'</td>\n    </tr>\n    <tr>\n      <th>A5410124H</th>\n      <td>A5410124H</td>\n      <td>Kyla Young</td>\n      <td>PHY</td>\n      <td>M</td>\n      <td>15.306</td>\n      <td>NaN</td>\n    </tr>\n  </tbody>\n</table>\n</div>"
     },
     "execution_count": 126,
     "metadata": {},
     "output_type": "execute_result"
    }
   ],
   "source": [
    "df_class.head()"
   ],
   "metadata": {
    "collapsed": false
   }
  },
  {
   "attachments": {},
   "cell_type": "markdown",
   "id": "123456",
   "metadata": {},
   "source": [
    "### 3.5 Applying changes"
   ]
  },
  {
   "cell_type": "code",
   "execution_count": 127,
   "id": "123456",
   "metadata": {},
   "outputs": [
    {
     "data": {
      "text/plain": "array(['PHY', 'CHM', 'LS', 'CBIO'], dtype=object)"
     },
     "execution_count": 127,
     "metadata": {},
     "output_type": "execute_result"
    }
   ],
   "source": [
    "\n",
    "# Your code here\n",
    "df_class['Major'].unique()"
   ]
  },
  {
   "cell_type": "code",
   "execution_count": 128,
   "outputs": [
    {
     "data": {
      "text/plain": "array(['M', 'F', 'NB'], dtype=object)"
     },
     "execution_count": 128,
     "metadata": {},
     "output_type": "execute_result"
    }
   ],
   "source": [
    "df_class['Gender'].unique()"
   ],
   "metadata": {
    "collapsed": false
   }
  },
  {
   "cell_type": "code",
   "execution_count": 129,
   "outputs": [],
   "source": [
    "replace_info = {\n",
    "    'PHY': 'Physics',\n",
    "    'CHM': 'Chemistry',\n",
    "    'LS': 'Life Sciences',\n",
    "    'CBIO': 'Comp. Biology',\n",
    "    'F': 'Female',\n",
    "    'M': 'Male',\n",
    "    'NB': 'Non-binary'\n",
    "}\n",
    "\n",
    "df_class.replace(to_replace=replace_info, inplace=True)"
   ],
   "metadata": {
    "collapsed": false
   }
  },
  {
   "cell_type": "code",
   "execution_count": 130,
   "outputs": [
    {
     "data": {
      "text/plain": "MATRIC_NO\nA3028967J     18.96\nA1282849W     17.44\nA5408925A     15.56\nA6973859L     16.36\nA5410124H       NaN\nA9568373Q    14.088\nA6824244G     16.72\nA9194090U      16.4\nA4828364M     13.68\nA4607700C      9.04\nA7067766E     16.88\nA5569996J      17.0\nA3202548I     16.68\nA6131593U    14.128\nA7653832E     15.72\nA9462811I     14.68\nA1218599T    17.648\nA7210476B     14.68\nA1512479K      15.0\nA7986368Y    16.016\nA2727061A       NaN\nA2999472W    17.648\nA7116486E     14.36\nA6931452S     16.88\nA9649096H     14.36\nA1643380L     18.08\nA6787293E     14.36\nA5975988J     15.92\nA3699958T       NaN\nA1956366U      11.0\nA1468689D      16.8\nA3217320C     17.76\nA6867791C     10.28\nA4080490P     15.04\nA7667457P    13.816\nName: Test 2, dtype: object"
     },
     "execution_count": 130,
     "metadata": {},
     "output_type": "execute_result"
    }
   ],
   "source": [
    "def clean(text):\n",
    "    try:\n",
    "        return text.replace(\"'\", \"\")\n",
    "    except AttributeError:\n",
    "        # This will handle the NaN of the missing data\n",
    "        return text\n",
    "\n",
    "df_class[\"Test 2\"].apply(clean)"
   ],
   "metadata": {
    "collapsed": false
   }
  },
  {
   "attachments": {},
   "cell_type": "markdown",
   "id": "123456",
   "metadata": {},
   "source": [
    "### 3.6 Changing Column Type"
   ]
  },
  {
   "cell_type": "code",
   "execution_count": 131,
   "id": "123456",
   "metadata": {},
   "outputs": [
    {
     "name": "stdout",
     "output_type": "stream",
     "text": [
      "<class 'pandas.core.frame.DataFrame'>\n",
      "Index: 35 entries, A3028967J to A7667457P\n",
      "Data columns (total 6 columns):\n",
      " #   Column     Non-Null Count  Dtype  \n",
      "---  ------     --------------  -----  \n",
      " 0   MATRIC_NO  35 non-null     object \n",
      " 1   Name       35 non-null     object \n",
      " 2   Major      35 non-null     object \n",
      " 3   Gender     35 non-null     object \n",
      " 4   Test 1     33 non-null     float64\n",
      " 5   Test 2     32 non-null     object \n",
      "dtypes: float64(1), object(5)\n",
      "memory usage: 3.0+ KB\n"
     ]
    }
   ],
   "source": [
    "\n",
    "# Your code here\n",
    "df_class.info()"
   ]
  },
  {
   "cell_type": "code",
   "execution_count": 132,
   "outputs": [],
   "source": [
    "# str is a vectorised string operation for pandas series\n",
    "# Remove the quotes from the dataframe\n",
    "df_class[\"Test 2\"] = df_class[\"Test 2\"].str.replace(\"'\", \"\")"
   ],
   "metadata": {
    "collapsed": false
   }
  },
  {
   "cell_type": "code",
   "execution_count": 133,
   "outputs": [],
   "source": [
    "new_type_info = {'Major': 'category',\n",
    "                 'Gender': 'category',\n",
    "                 'Test 2': 'float'}\n",
    "\n",
    "# atype does NOT have an inplace option`\n",
    "df_class = df_class.astype(new_type_info)"
   ],
   "metadata": {
    "collapsed": false
   }
  },
  {
   "cell_type": "code",
   "execution_count": 134,
   "outputs": [
    {
     "name": "stdout",
     "output_type": "stream",
     "text": [
      "<class 'pandas.core.frame.DataFrame'>\n",
      "Index: 35 entries, A3028967J to A7667457P\n",
      "Data columns (total 6 columns):\n",
      " #   Column     Non-Null Count  Dtype   \n",
      "---  ------     --------------  -----   \n",
      " 0   MATRIC_NO  35 non-null     object  \n",
      " 1   Name       35 non-null     object  \n",
      " 2   Major      35 non-null     category\n",
      " 3   Gender     35 non-null     category\n",
      " 4   Test 1     33 non-null     float64 \n",
      " 5   Test 2     32 non-null     float64 \n",
      "dtypes: category(2), float64(2), object(2)\n",
      "memory usage: 2.8+ KB\n"
     ]
    }
   ],
   "source": [
    "df_class.info()"
   ],
   "metadata": {
    "collapsed": false
   }
  },
  {
   "attachments": {},
   "cell_type": "markdown",
   "id": "123456",
   "metadata": {},
   "source": [
    "### 3.7 Adding a new column"
   ]
  },
  {
   "cell_type": "code",
   "execution_count": 135,
   "id": "123456",
   "metadata": {},
   "outputs": [],
   "source": [
    "\n",
    "# Your code here\n",
    "df_class[\"Total\"] = df_class[\"Test 1\"] + df_class[\"Test 2\"]"
   ]
  },
  {
   "attachments": {},
   "cell_type": "markdown",
   "id": "123456",
   "metadata": {},
   "source": [
    "### 3.8 Saving to file"
   ]
  },
  {
   "cell_type": "code",
   "execution_count": 136,
   "id": "123456",
   "metadata": {},
   "outputs": [],
   "source": [
    "\n",
    "# Your code here\n",
    "df_class.to_excel('finalised_scores.xlsx', index=False)"
   ]
  },
  {
   "attachments": {},
   "cell_type": "markdown",
   "id": "123456",
   "metadata": {},
   "source": [
    "### 3.9 The recipe so far"
   ]
  },
  {
   "cell_type": "code",
   "execution_count": 137,
   "id": "123456",
   "metadata": {},
   "outputs": [],
   "source": [
    "\n",
    "# Your code here\n"
   ]
  },
  {
   "attachments": {},
   "cell_type": "markdown",
   "id": "123456",
   "metadata": {},
   "source": [
    "## 4 Asking questions"
   ]
  },
  {
   "attachments": {},
   "cell_type": "markdown",
   "id": "123456",
   "metadata": {},
   "source": [
    "### 4.1 Locating data"
   ]
  },
  {
   "cell_type": "code",
   "execution_count": 138,
   "id": "123456",
   "metadata": {},
   "outputs": [
    {
     "data": {
      "text/plain": "                   Major  Gender\nMATRIC_NO                       \nA7067766E  Life Sciences  Female\nA5569996J  Life Sciences    Male\nA3202548I        Physics    Male",
      "text/html": "<div>\n<style scoped>\n    .dataframe tbody tr th:only-of-type {\n        vertical-align: middle;\n    }\n\n    .dataframe tbody tr th {\n        vertical-align: top;\n    }\n\n    .dataframe thead th {\n        text-align: right;\n    }\n</style>\n<table border=\"1\" class=\"dataframe\">\n  <thead>\n    <tr style=\"text-align: right;\">\n      <th></th>\n      <th>Major</th>\n      <th>Gender</th>\n    </tr>\n    <tr>\n      <th>MATRIC_NO</th>\n      <th></th>\n      <th></th>\n    </tr>\n  </thead>\n  <tbody>\n    <tr>\n      <th>A7067766E</th>\n      <td>Life Sciences</td>\n      <td>Female</td>\n    </tr>\n    <tr>\n      <th>A5569996J</th>\n      <td>Life Sciences</td>\n      <td>Male</td>\n    </tr>\n    <tr>\n      <th>A3202548I</th>\n      <td>Physics</td>\n      <td>Male</td>\n    </tr>\n  </tbody>\n</table>\n</div>"
     },
     "execution_count": 138,
     "metadata": {},
     "output_type": "execute_result"
    }
   ],
   "source": [
    "\n",
    "# iloc: Using indexes\n",
    "df_class.iloc[10:13, 2:4]"
   ]
  },
  {
   "cell_type": "code",
   "execution_count": 139,
   "outputs": [
    {
     "data": {
      "text/plain": "                   Major  Gender\nMATRIC_NO                       \nA7067766E  Life Sciences  Female\nA5569996J  Life Sciences    Male\nA3202548I        Physics    Male",
      "text/html": "<div>\n<style scoped>\n    .dataframe tbody tr th:only-of-type {\n        vertical-align: middle;\n    }\n\n    .dataframe tbody tr th {\n        vertical-align: top;\n    }\n\n    .dataframe thead th {\n        text-align: right;\n    }\n</style>\n<table border=\"1\" class=\"dataframe\">\n  <thead>\n    <tr style=\"text-align: right;\">\n      <th></th>\n      <th>Major</th>\n      <th>Gender</th>\n    </tr>\n    <tr>\n      <th>MATRIC_NO</th>\n      <th></th>\n      <th></th>\n    </tr>\n  </thead>\n  <tbody>\n    <tr>\n      <th>A7067766E</th>\n      <td>Life Sciences</td>\n      <td>Female</td>\n    </tr>\n    <tr>\n      <th>A5569996J</th>\n      <td>Life Sciences</td>\n      <td>Male</td>\n    </tr>\n    <tr>\n      <th>A3202548I</th>\n      <td>Physics</td>\n      <td>Male</td>\n    </tr>\n  </tbody>\n</table>\n</div>"
     },
     "execution_count": 139,
     "metadata": {},
     "output_type": "execute_result"
    }
   ],
   "source": [
    "# loc: Using labels\n",
    "df_class.loc[['A7067766E', 'A5569996J', 'A3202548I'], ['Major', 'Gender']]"
   ],
   "metadata": {
    "collapsed": false
   }
  },
  {
   "attachments": {},
   "cell_type": "markdown",
   "id": "123456",
   "metadata": {},
   "source": [
    "### 4.2 Asking questions with masks"
   ]
  },
  {
   "cell_type": "code",
   "execution_count": 140,
   "id": "123456",
   "metadata": {},
   "outputs": [
    {
     "data": {
      "text/plain": "MATRIC_NO\nA3028967J    False\nA1282849W     True\nA5408925A    False\nA6973859L    False\nA5410124H    False\nA9568373Q    False\nA6824244G    False\nA9194090U    False\nA4828364M    False\nA4607700C    False\nA7067766E    False\nA5569996J    False\nA3202548I    False\nA6131593U    False\nA7653832E     True\nA9462811I    False\nA1218599T     True\nA7210476B    False\nA1512479K     True\nA7986368Y     True\nA2727061A    False\nA2999472W     True\nA7116486E    False\nA6931452S    False\nA9649096H    False\nA1643380L    False\nA6787293E    False\nA5975988J    False\nA3699958T     True\nA1956366U    False\nA1468689D     True\nA3217320C    False\nA6867791C    False\nA4080490P    False\nA7667457P    False\nName: Major, dtype: bool"
     },
     "execution_count": 140,
     "metadata": {},
     "output_type": "execute_result"
    }
   ],
   "source": [
    "\n",
    "# Your code here\n",
    "# Selects the column\n",
    "df_class[\"Major\"] == \"Chemistry\""
   ]
  },
  {
   "cell_type": "code",
   "execution_count": 141,
   "outputs": [
    {
     "data": {
      "text/plain": "MATRIC_NO\nA3028967J    False\nA1282849W     True\nA5408925A    False\nA6973859L    False\nA5410124H    False\nA9568373Q    False\nA6824244G    False\nA9194090U    False\nA4828364M    False\nA4607700C    False\nA7067766E    False\nA5569996J    False\nA3202548I    False\nA6131593U    False\nA7653832E     True\nA9462811I    False\nA1218599T     True\nA7210476B    False\nA1512479K     True\nA7986368Y     True\nA2727061A    False\nA2999472W     True\nA7116486E    False\nA6931452S    False\nA9649096H    False\nA1643380L    False\nA6787293E    False\nA5975988J    False\nA3699958T     True\nA1956366U    False\nA1468689D     True\nA3217320C    False\nA6867791C    False\nA4080490P    False\nA7667457P    False\nName: Major, dtype: bool"
     },
     "execution_count": 141,
     "metadata": {},
     "output_type": "execute_result"
    }
   ],
   "source": [
    "df_class.loc[:, 'Major'] == \"Chemistry\""
   ],
   "metadata": {
    "collapsed": false
   }
  },
  {
   "cell_type": "code",
   "execution_count": 142,
   "outputs": [
    {
     "data": {
      "text/plain": "           MATRIC_NO               Name      Major  Gender  Test 1  Test 2  \\\nMATRIC_NO                                                                    \nA1282849W  A1282849W       Gustavo Vang  Chemistry  Female  13.470  17.440   \nA7653832E  A7653832E       Quentin Kemp  Chemistry  Female     NaN  15.720   \nA1218599T  A1218599T    Camden Williams  Chemistry  Female  22.653  17.648   \nA1512479K  A1512479K   Solomon Fletcher  Chemistry  Female  18.981  15.000   \nA7986368Y  A7986368Y  Riley Christensen  Chemistry  Female  15.306  16.016   \nA2999472W  A2999472W     Skylar Hensley  Chemistry    Male  23.877  17.648   \nA3699958T  A3699958T        Norah Miles  Chemistry    Male     NaN     NaN   \nA1468689D  A1468689D     Isabela Stokes  Chemistry    Male  18.366  16.800   \n\n            Total  \nMATRIC_NO          \nA1282849W  30.910  \nA7653832E     NaN  \nA1218599T  40.301  \nA1512479K  33.981  \nA7986368Y  31.322  \nA2999472W  41.525  \nA3699958T     NaN  \nA1468689D  35.166  ",
      "text/html": "<div>\n<style scoped>\n    .dataframe tbody tr th:only-of-type {\n        vertical-align: middle;\n    }\n\n    .dataframe tbody tr th {\n        vertical-align: top;\n    }\n\n    .dataframe thead th {\n        text-align: right;\n    }\n</style>\n<table border=\"1\" class=\"dataframe\">\n  <thead>\n    <tr style=\"text-align: right;\">\n      <th></th>\n      <th>MATRIC_NO</th>\n      <th>Name</th>\n      <th>Major</th>\n      <th>Gender</th>\n      <th>Test 1</th>\n      <th>Test 2</th>\n      <th>Total</th>\n    </tr>\n    <tr>\n      <th>MATRIC_NO</th>\n      <th></th>\n      <th></th>\n      <th></th>\n      <th></th>\n      <th></th>\n      <th></th>\n      <th></th>\n    </tr>\n  </thead>\n  <tbody>\n    <tr>\n      <th>A1282849W</th>\n      <td>A1282849W</td>\n      <td>Gustavo Vang</td>\n      <td>Chemistry</td>\n      <td>Female</td>\n      <td>13.470</td>\n      <td>17.440</td>\n      <td>30.910</td>\n    </tr>\n    <tr>\n      <th>A7653832E</th>\n      <td>A7653832E</td>\n      <td>Quentin Kemp</td>\n      <td>Chemistry</td>\n      <td>Female</td>\n      <td>NaN</td>\n      <td>15.720</td>\n      <td>NaN</td>\n    </tr>\n    <tr>\n      <th>A1218599T</th>\n      <td>A1218599T</td>\n      <td>Camden Williams</td>\n      <td>Chemistry</td>\n      <td>Female</td>\n      <td>22.653</td>\n      <td>17.648</td>\n      <td>40.301</td>\n    </tr>\n    <tr>\n      <th>A1512479K</th>\n      <td>A1512479K</td>\n      <td>Solomon Fletcher</td>\n      <td>Chemistry</td>\n      <td>Female</td>\n      <td>18.981</td>\n      <td>15.000</td>\n      <td>33.981</td>\n    </tr>\n    <tr>\n      <th>A7986368Y</th>\n      <td>A7986368Y</td>\n      <td>Riley Christensen</td>\n      <td>Chemistry</td>\n      <td>Female</td>\n      <td>15.306</td>\n      <td>16.016</td>\n      <td>31.322</td>\n    </tr>\n    <tr>\n      <th>A2999472W</th>\n      <td>A2999472W</td>\n      <td>Skylar Hensley</td>\n      <td>Chemistry</td>\n      <td>Male</td>\n      <td>23.877</td>\n      <td>17.648</td>\n      <td>41.525</td>\n    </tr>\n    <tr>\n      <th>A3699958T</th>\n      <td>A3699958T</td>\n      <td>Norah Miles</td>\n      <td>Chemistry</td>\n      <td>Male</td>\n      <td>NaN</td>\n      <td>NaN</td>\n      <td>NaN</td>\n    </tr>\n    <tr>\n      <th>A1468689D</th>\n      <td>A1468689D</td>\n      <td>Isabela Stokes</td>\n      <td>Chemistry</td>\n      <td>Male</td>\n      <td>18.366</td>\n      <td>16.800</td>\n      <td>35.166</td>\n    </tr>\n  </tbody>\n</table>\n</div>"
     },
     "execution_count": 142,
     "metadata": {},
     "output_type": "execute_result"
    }
   ],
   "source": [
    "df_class.loc[df_class['Major'] == 'Chemistry']"
   ],
   "metadata": {
    "collapsed": false
   }
  },
  {
   "cell_type": "code",
   "execution_count": 143,
   "outputs": [
    {
     "data": {
      "text/plain": "           MATRIC_NO                Name          Major      Gender  Test 1  \\\nMATRIC_NO                                                                     \nA3028967J  A3028967J      Braiden Henson        Physics        Male  20.205   \nA1282849W  A1282849W        Gustavo Vang      Chemistry      Female  13.470   \nA5408925A  A5408925A     Ronin Christian        Physics        Male  18.366   \nA5410124H  A5410124H          Kyla Young        Physics        Male  15.306   \nA9568373Q  A9568373Q        Wyatt Oliver        Physics        Male  12.246   \nA3202548I  A3202548I         Jaxon Chung        Physics        Male  14.082   \nA7653832E  A7653832E        Quentin Kemp      Chemistry      Female     NaN   \nA9462811I  A9462811I            Leo Mayo        Physics      Female  20.817   \nA1218599T  A1218599T     Camden Williams      Chemistry      Female  22.653   \nA7210476B  A7210476B      Sidney Wiggins        Physics  Non-binary  19.593   \nA1512479K  A1512479K    Solomon Fletcher      Chemistry      Female  18.981   \nA7986368Y  A7986368Y   Riley Christensen      Chemistry      Female  15.306   \nA2727061A  A2727061A        Malik Becker        Physics        Male  12.858   \nA2999472W  A2999472W      Skylar Hensley      Chemistry        Male  23.877   \nA1643380L  A1643380L    Carolina Mcmahon        Physics        Male  12.858   \nA6787293E  A6787293E        Elian Potter        Physics        Male  23.265   \nA5975988J  A5975988J         Litzy White        Physics  Non-binary  20.817   \nA3699958T  A3699958T         Norah Miles      Chemistry        Male     NaN   \nA1468689D  A1468689D      Isabela Stokes      Chemistry        Male  18.366   \nA3217320C  A3217320C  Kathleen Rodriguez        Physics        Male  22.653   \nA6867791C  A6867791C         Katie Ayers  Comp. Biology      Female  16.530   \n\n           Test 2   Total  \nMATRIC_NO                  \nA3028967J  18.960  39.165  \nA1282849W  17.440  30.910  \nA5408925A  15.560  33.926  \nA5410124H     NaN     NaN  \nA9568373Q  14.088  26.334  \nA3202548I  16.680  30.762  \nA7653832E  15.720     NaN  \nA9462811I  14.680  35.497  \nA1218599T  17.648  40.301  \nA7210476B  14.680  34.273  \nA1512479K  15.000  33.981  \nA7986368Y  16.016  31.322  \nA2727061A     NaN     NaN  \nA2999472W  17.648  41.525  \nA1643380L  18.080  30.938  \nA6787293E  14.360  37.625  \nA5975988J  15.920  36.737  \nA3699958T     NaN     NaN  \nA1468689D  16.800  35.166  \nA3217320C  17.760  40.413  \nA6867791C  10.280  26.810  ",
      "text/html": "<div>\n<style scoped>\n    .dataframe tbody tr th:only-of-type {\n        vertical-align: middle;\n    }\n\n    .dataframe tbody tr th {\n        vertical-align: top;\n    }\n\n    .dataframe thead th {\n        text-align: right;\n    }\n</style>\n<table border=\"1\" class=\"dataframe\">\n  <thead>\n    <tr style=\"text-align: right;\">\n      <th></th>\n      <th>MATRIC_NO</th>\n      <th>Name</th>\n      <th>Major</th>\n      <th>Gender</th>\n      <th>Test 1</th>\n      <th>Test 2</th>\n      <th>Total</th>\n    </tr>\n    <tr>\n      <th>MATRIC_NO</th>\n      <th></th>\n      <th></th>\n      <th></th>\n      <th></th>\n      <th></th>\n      <th></th>\n      <th></th>\n    </tr>\n  </thead>\n  <tbody>\n    <tr>\n      <th>A3028967J</th>\n      <td>A3028967J</td>\n      <td>Braiden Henson</td>\n      <td>Physics</td>\n      <td>Male</td>\n      <td>20.205</td>\n      <td>18.960</td>\n      <td>39.165</td>\n    </tr>\n    <tr>\n      <th>A1282849W</th>\n      <td>A1282849W</td>\n      <td>Gustavo Vang</td>\n      <td>Chemistry</td>\n      <td>Female</td>\n      <td>13.470</td>\n      <td>17.440</td>\n      <td>30.910</td>\n    </tr>\n    <tr>\n      <th>A5408925A</th>\n      <td>A5408925A</td>\n      <td>Ronin Christian</td>\n      <td>Physics</td>\n      <td>Male</td>\n      <td>18.366</td>\n      <td>15.560</td>\n      <td>33.926</td>\n    </tr>\n    <tr>\n      <th>A5410124H</th>\n      <td>A5410124H</td>\n      <td>Kyla Young</td>\n      <td>Physics</td>\n      <td>Male</td>\n      <td>15.306</td>\n      <td>NaN</td>\n      <td>NaN</td>\n    </tr>\n    <tr>\n      <th>A9568373Q</th>\n      <td>A9568373Q</td>\n      <td>Wyatt Oliver</td>\n      <td>Physics</td>\n      <td>Male</td>\n      <td>12.246</td>\n      <td>14.088</td>\n      <td>26.334</td>\n    </tr>\n    <tr>\n      <th>A3202548I</th>\n      <td>A3202548I</td>\n      <td>Jaxon Chung</td>\n      <td>Physics</td>\n      <td>Male</td>\n      <td>14.082</td>\n      <td>16.680</td>\n      <td>30.762</td>\n    </tr>\n    <tr>\n      <th>A7653832E</th>\n      <td>A7653832E</td>\n      <td>Quentin Kemp</td>\n      <td>Chemistry</td>\n      <td>Female</td>\n      <td>NaN</td>\n      <td>15.720</td>\n      <td>NaN</td>\n    </tr>\n    <tr>\n      <th>A9462811I</th>\n      <td>A9462811I</td>\n      <td>Leo Mayo</td>\n      <td>Physics</td>\n      <td>Female</td>\n      <td>20.817</td>\n      <td>14.680</td>\n      <td>35.497</td>\n    </tr>\n    <tr>\n      <th>A1218599T</th>\n      <td>A1218599T</td>\n      <td>Camden Williams</td>\n      <td>Chemistry</td>\n      <td>Female</td>\n      <td>22.653</td>\n      <td>17.648</td>\n      <td>40.301</td>\n    </tr>\n    <tr>\n      <th>A7210476B</th>\n      <td>A7210476B</td>\n      <td>Sidney Wiggins</td>\n      <td>Physics</td>\n      <td>Non-binary</td>\n      <td>19.593</td>\n      <td>14.680</td>\n      <td>34.273</td>\n    </tr>\n    <tr>\n      <th>A1512479K</th>\n      <td>A1512479K</td>\n      <td>Solomon Fletcher</td>\n      <td>Chemistry</td>\n      <td>Female</td>\n      <td>18.981</td>\n      <td>15.000</td>\n      <td>33.981</td>\n    </tr>\n    <tr>\n      <th>A7986368Y</th>\n      <td>A7986368Y</td>\n      <td>Riley Christensen</td>\n      <td>Chemistry</td>\n      <td>Female</td>\n      <td>15.306</td>\n      <td>16.016</td>\n      <td>31.322</td>\n    </tr>\n    <tr>\n      <th>A2727061A</th>\n      <td>A2727061A</td>\n      <td>Malik Becker</td>\n      <td>Physics</td>\n      <td>Male</td>\n      <td>12.858</td>\n      <td>NaN</td>\n      <td>NaN</td>\n    </tr>\n    <tr>\n      <th>A2999472W</th>\n      <td>A2999472W</td>\n      <td>Skylar Hensley</td>\n      <td>Chemistry</td>\n      <td>Male</td>\n      <td>23.877</td>\n      <td>17.648</td>\n      <td>41.525</td>\n    </tr>\n    <tr>\n      <th>A1643380L</th>\n      <td>A1643380L</td>\n      <td>Carolina Mcmahon</td>\n      <td>Physics</td>\n      <td>Male</td>\n      <td>12.858</td>\n      <td>18.080</td>\n      <td>30.938</td>\n    </tr>\n    <tr>\n      <th>A6787293E</th>\n      <td>A6787293E</td>\n      <td>Elian Potter</td>\n      <td>Physics</td>\n      <td>Male</td>\n      <td>23.265</td>\n      <td>14.360</td>\n      <td>37.625</td>\n    </tr>\n    <tr>\n      <th>A5975988J</th>\n      <td>A5975988J</td>\n      <td>Litzy White</td>\n      <td>Physics</td>\n      <td>Non-binary</td>\n      <td>20.817</td>\n      <td>15.920</td>\n      <td>36.737</td>\n    </tr>\n    <tr>\n      <th>A3699958T</th>\n      <td>A3699958T</td>\n      <td>Norah Miles</td>\n      <td>Chemistry</td>\n      <td>Male</td>\n      <td>NaN</td>\n      <td>NaN</td>\n      <td>NaN</td>\n    </tr>\n    <tr>\n      <th>A1468689D</th>\n      <td>A1468689D</td>\n      <td>Isabela Stokes</td>\n      <td>Chemistry</td>\n      <td>Male</td>\n      <td>18.366</td>\n      <td>16.800</td>\n      <td>35.166</td>\n    </tr>\n    <tr>\n      <th>A3217320C</th>\n      <td>A3217320C</td>\n      <td>Kathleen Rodriguez</td>\n      <td>Physics</td>\n      <td>Male</td>\n      <td>22.653</td>\n      <td>17.760</td>\n      <td>40.413</td>\n    </tr>\n    <tr>\n      <th>A6867791C</th>\n      <td>A6867791C</td>\n      <td>Katie Ayers</td>\n      <td>Comp. Biology</td>\n      <td>Female</td>\n      <td>16.530</td>\n      <td>10.280</td>\n      <td>26.810</td>\n    </tr>\n  </tbody>\n</table>\n</div>"
     },
     "execution_count": 143,
     "metadata": {},
     "output_type": "execute_result"
    }
   ],
   "source": [
    "# Using the invert bitwise operator to invert the boolean series\n",
    "df_class.loc[~(df_class['Major'] == 'Life Sciences')]"
   ],
   "metadata": {
    "collapsed": false
   }
  },
  {
   "cell_type": "code",
   "execution_count": 144,
   "outputs": [
    {
     "data": {
      "text/plain": "                        Name      Major  Gender\nMATRIC_NO                                      \nA1282849W       Gustavo Vang  Chemistry  Female\nA7653832E       Quentin Kemp  Chemistry  Female\nA1218599T    Camden Williams  Chemistry  Female\nA1512479K   Solomon Fletcher  Chemistry  Female\nA7986368Y  Riley Christensen  Chemistry  Female",
      "text/html": "<div>\n<style scoped>\n    .dataframe tbody tr th:only-of-type {\n        vertical-align: middle;\n    }\n\n    .dataframe tbody tr th {\n        vertical-align: top;\n    }\n\n    .dataframe thead th {\n        text-align: right;\n    }\n</style>\n<table border=\"1\" class=\"dataframe\">\n  <thead>\n    <tr style=\"text-align: right;\">\n      <th></th>\n      <th>Name</th>\n      <th>Major</th>\n      <th>Gender</th>\n    </tr>\n    <tr>\n      <th>MATRIC_NO</th>\n      <th></th>\n      <th></th>\n      <th></th>\n    </tr>\n  </thead>\n  <tbody>\n    <tr>\n      <th>A1282849W</th>\n      <td>Gustavo Vang</td>\n      <td>Chemistry</td>\n      <td>Female</td>\n    </tr>\n    <tr>\n      <th>A7653832E</th>\n      <td>Quentin Kemp</td>\n      <td>Chemistry</td>\n      <td>Female</td>\n    </tr>\n    <tr>\n      <th>A1218599T</th>\n      <td>Camden Williams</td>\n      <td>Chemistry</td>\n      <td>Female</td>\n    </tr>\n    <tr>\n      <th>A1512479K</th>\n      <td>Solomon Fletcher</td>\n      <td>Chemistry</td>\n      <td>Female</td>\n    </tr>\n    <tr>\n      <th>A7986368Y</th>\n      <td>Riley Christensen</td>\n      <td>Chemistry</td>\n      <td>Female</td>\n    </tr>\n  </tbody>\n</table>\n</div>"
     },
     "execution_count": 144,
     "metadata": {},
     "output_type": "execute_result"
    }
   ],
   "source": [
    "# Create mask\n",
    "mask = (df_class[\"Major\"] == \"Chemistry\") & (df_class[\"Gender\"] == 'Female')\n",
    "\n",
    "# Using mask\n",
    "# Uses the mask to select the rows, only returns the selected columns\n",
    "df_class.loc[mask, [\"Name\", \"Major\", \"Gender\"]]"
   ],
   "metadata": {
    "collapsed": false
   }
  },
  {
   "cell_type": "code",
   "execution_count": 145,
   "outputs": [
    {
     "data": {
      "text/plain": "                       Name      Major  Test 1\nMATRIC_NO                                     \nA1282849W      Gustavo Vang  Chemistry  13.470\nA9568373Q      Wyatt Oliver    Physics  12.246\nA3202548I       Jaxon Chung    Physics  14.082\nA2727061A      Malik Becker    Physics  12.858\nA1643380L  Carolina Mcmahon    Physics  12.858",
      "text/html": "<div>\n<style scoped>\n    .dataframe tbody tr th:only-of-type {\n        vertical-align: middle;\n    }\n\n    .dataframe tbody tr th {\n        vertical-align: top;\n    }\n\n    .dataframe thead th {\n        text-align: right;\n    }\n</style>\n<table border=\"1\" class=\"dataframe\">\n  <thead>\n    <tr style=\"text-align: right;\">\n      <th></th>\n      <th>Name</th>\n      <th>Major</th>\n      <th>Test 1</th>\n    </tr>\n    <tr>\n      <th>MATRIC_NO</th>\n      <th></th>\n      <th></th>\n      <th></th>\n    </tr>\n  </thead>\n  <tbody>\n    <tr>\n      <th>A1282849W</th>\n      <td>Gustavo Vang</td>\n      <td>Chemistry</td>\n      <td>13.470</td>\n    </tr>\n    <tr>\n      <th>A9568373Q</th>\n      <td>Wyatt Oliver</td>\n      <td>Physics</td>\n      <td>12.246</td>\n    </tr>\n    <tr>\n      <th>A3202548I</th>\n      <td>Jaxon Chung</td>\n      <td>Physics</td>\n      <td>14.082</td>\n    </tr>\n    <tr>\n      <th>A2727061A</th>\n      <td>Malik Becker</td>\n      <td>Physics</td>\n      <td>12.858</td>\n    </tr>\n    <tr>\n      <th>A1643380L</th>\n      <td>Carolina Mcmahon</td>\n      <td>Physics</td>\n      <td>12.858</td>\n    </tr>\n  </tbody>\n</table>\n</div>"
     },
     "execution_count": 145,
     "metadata": {},
     "output_type": "execute_result"
    }
   ],
   "source": [
    "mask = df_class[\"Test 1\"] < 15\n",
    "df_class.loc[mask, [\"Name\", \"Major\", \"Test 1\"]]"
   ],
   "metadata": {
    "collapsed": false
   }
  },
  {
   "attachments": {},
   "cell_type": "markdown",
   "id": "123456",
   "metadata": {},
   "source": [
    "### 4.3 The magic of groupby()"
   ]
  },
  {
   "cell_type": "code",
   "execution_count": 146,
   "id": "123456",
   "metadata": {},
   "outputs": [
    {
     "name": "stderr",
     "output_type": "stream",
     "text": [
      "/tmp/ipykernel_32974/4179530093.py:2: FutureWarning: The default value of numeric_only in DataFrameGroupBy.mean is deprecated. In a future version, numeric_only will default to False. Either specify numeric_only or select only columns which should be valid for the function.\n",
      "  df_class.groupby(by=['Major']).mean()\n"
     ]
    },
    {
     "data": {
      "text/plain": "                Test 1     Test 2      Total\nMajor                                       \nChemistry      18.7755  16.610286  35.534167\nComp. Biology  16.5300  10.280000  26.810000\nLife Sciences  19.2420  14.690286  33.932286\nPhysics        17.7555  16.076800  34.567000",
      "text/html": "<div>\n<style scoped>\n    .dataframe tbody tr th:only-of-type {\n        vertical-align: middle;\n    }\n\n    .dataframe tbody tr th {\n        vertical-align: top;\n    }\n\n    .dataframe thead th {\n        text-align: right;\n    }\n</style>\n<table border=\"1\" class=\"dataframe\">\n  <thead>\n    <tr style=\"text-align: right;\">\n      <th></th>\n      <th>Test 1</th>\n      <th>Test 2</th>\n      <th>Total</th>\n    </tr>\n    <tr>\n      <th>Major</th>\n      <th></th>\n      <th></th>\n      <th></th>\n    </tr>\n  </thead>\n  <tbody>\n    <tr>\n      <th>Chemistry</th>\n      <td>18.7755</td>\n      <td>16.610286</td>\n      <td>35.534167</td>\n    </tr>\n    <tr>\n      <th>Comp. Biology</th>\n      <td>16.5300</td>\n      <td>10.280000</td>\n      <td>26.810000</td>\n    </tr>\n    <tr>\n      <th>Life Sciences</th>\n      <td>19.2420</td>\n      <td>14.690286</td>\n      <td>33.932286</td>\n    </tr>\n    <tr>\n      <th>Physics</th>\n      <td>17.7555</td>\n      <td>16.076800</td>\n      <td>34.567000</td>\n    </tr>\n  </tbody>\n</table>\n</div>"
     },
     "execution_count": 146,
     "metadata": {},
     "output_type": "execute_result"
    }
   ],
   "source": [
    "\n",
    "# Your code here\n",
    "df_class.groupby(by=['Major']).mean()"
   ]
  },
  {
   "cell_type": "code",
   "execution_count": 147,
   "outputs": [
    {
     "name": "stderr",
     "output_type": "stream",
     "text": [
      "/tmp/ipykernel_32974/3067224352.py:1: FutureWarning: The default value of numeric_only in DataFrameGroupBy.mean is deprecated. In a future version, numeric_only will default to False. Either specify numeric_only or select only columns which should be valid for the function.\n",
      "  df_class.groupby(by=['Major', 'Gender']).mean()\n"
     ]
    },
    {
     "data": {
      "text/plain": "                             Test 1     Test 2      Total\nMajor         Gender                                     \nChemistry     Female      17.602500  16.364800  34.128500\n              Male        21.121500  17.224000  38.345500\n              Non-binary        NaN        NaN        NaN\nComp. Biology Female      16.530000  10.280000  26.810000\n              Male              NaN        NaN        NaN\n              Non-binary        NaN        NaN        NaN\nLife Sciences Female      19.285875  14.801000  34.086875\n              Male        20.357250  15.644000  36.001250\n              Non-binary  16.836000  12.340000  29.176000\nPhysics       Female      20.817000  14.680000  35.497000\n              Male        16.871000  16.498286  34.166143\n              Non-binary  20.205000  15.300000  35.505000",
      "text/html": "<div>\n<style scoped>\n    .dataframe tbody tr th:only-of-type {\n        vertical-align: middle;\n    }\n\n    .dataframe tbody tr th {\n        vertical-align: top;\n    }\n\n    .dataframe thead th {\n        text-align: right;\n    }\n</style>\n<table border=\"1\" class=\"dataframe\">\n  <thead>\n    <tr style=\"text-align: right;\">\n      <th></th>\n      <th></th>\n      <th>Test 1</th>\n      <th>Test 2</th>\n      <th>Total</th>\n    </tr>\n    <tr>\n      <th>Major</th>\n      <th>Gender</th>\n      <th></th>\n      <th></th>\n      <th></th>\n    </tr>\n  </thead>\n  <tbody>\n    <tr>\n      <th rowspan=\"3\" valign=\"top\">Chemistry</th>\n      <th>Female</th>\n      <td>17.602500</td>\n      <td>16.364800</td>\n      <td>34.128500</td>\n    </tr>\n    <tr>\n      <th>Male</th>\n      <td>21.121500</td>\n      <td>17.224000</td>\n      <td>38.345500</td>\n    </tr>\n    <tr>\n      <th>Non-binary</th>\n      <td>NaN</td>\n      <td>NaN</td>\n      <td>NaN</td>\n    </tr>\n    <tr>\n      <th rowspan=\"3\" valign=\"top\">Comp. Biology</th>\n      <th>Female</th>\n      <td>16.530000</td>\n      <td>10.280000</td>\n      <td>26.810000</td>\n    </tr>\n    <tr>\n      <th>Male</th>\n      <td>NaN</td>\n      <td>NaN</td>\n      <td>NaN</td>\n    </tr>\n    <tr>\n      <th>Non-binary</th>\n      <td>NaN</td>\n      <td>NaN</td>\n      <td>NaN</td>\n    </tr>\n    <tr>\n      <th rowspan=\"3\" valign=\"top\">Life Sciences</th>\n      <th>Female</th>\n      <td>19.285875</td>\n      <td>14.801000</td>\n      <td>34.086875</td>\n    </tr>\n    <tr>\n      <th>Male</th>\n      <td>20.357250</td>\n      <td>15.644000</td>\n      <td>36.001250</td>\n    </tr>\n    <tr>\n      <th>Non-binary</th>\n      <td>16.836000</td>\n      <td>12.340000</td>\n      <td>29.176000</td>\n    </tr>\n    <tr>\n      <th rowspan=\"3\" valign=\"top\">Physics</th>\n      <th>Female</th>\n      <td>20.817000</td>\n      <td>14.680000</td>\n      <td>35.497000</td>\n    </tr>\n    <tr>\n      <th>Male</th>\n      <td>16.871000</td>\n      <td>16.498286</td>\n      <td>34.166143</td>\n    </tr>\n    <tr>\n      <th>Non-binary</th>\n      <td>20.205000</td>\n      <td>15.300000</td>\n      <td>35.505000</td>\n    </tr>\n  </tbody>\n</table>\n</div>"
     },
     "execution_count": 147,
     "metadata": {},
     "output_type": "execute_result"
    }
   ],
   "source": [
    "df_class.groupby(by=['Major', 'Gender']).mean()"
   ],
   "metadata": {
    "collapsed": false
   }
  },
  {
   "cell_type": "code",
   "execution_count": 148,
   "outputs": [
    {
     "name": "stderr",
     "output_type": "stream",
     "text": [
      "/tmp/ipykernel_32974/483437798.py:2: FutureWarning: The default value of numeric_only in DataFrameGroupBy.mean is deprecated. In a future version, numeric_only will default to False. Either specify numeric_only or select only columns which should be valid for the function.\n",
      "  df_class.groupby(by=['Major', 'Gender'], as_index=False).mean()\n"
     ]
    },
    {
     "data": {
      "text/plain": "            Major      Gender     Test 1     Test 2      Total\n0       Chemistry      Female  17.602500  16.364800  34.128500\n1       Chemistry        Male  21.121500  17.224000  38.345500\n2       Chemistry  Non-binary        NaN        NaN        NaN\n3   Comp. Biology      Female  16.530000  10.280000  26.810000\n4   Comp. Biology        Male        NaN        NaN        NaN\n5   Comp. Biology  Non-binary        NaN        NaN        NaN\n6   Life Sciences      Female  19.285875  14.801000  34.086875\n7   Life Sciences        Male  20.357250  15.644000  36.001250\n8   Life Sciences  Non-binary  16.836000  12.340000  29.176000\n9         Physics      Female  20.817000  14.680000  35.497000\n10        Physics        Male  16.871000  16.498286  34.166143\n11        Physics  Non-binary  20.205000  15.300000  35.505000",
      "text/html": "<div>\n<style scoped>\n    .dataframe tbody tr th:only-of-type {\n        vertical-align: middle;\n    }\n\n    .dataframe tbody tr th {\n        vertical-align: top;\n    }\n\n    .dataframe thead th {\n        text-align: right;\n    }\n</style>\n<table border=\"1\" class=\"dataframe\">\n  <thead>\n    <tr style=\"text-align: right;\">\n      <th></th>\n      <th>Major</th>\n      <th>Gender</th>\n      <th>Test 1</th>\n      <th>Test 2</th>\n      <th>Total</th>\n    </tr>\n  </thead>\n  <tbody>\n    <tr>\n      <th>0</th>\n      <td>Chemistry</td>\n      <td>Female</td>\n      <td>17.602500</td>\n      <td>16.364800</td>\n      <td>34.128500</td>\n    </tr>\n    <tr>\n      <th>1</th>\n      <td>Chemistry</td>\n      <td>Male</td>\n      <td>21.121500</td>\n      <td>17.224000</td>\n      <td>38.345500</td>\n    </tr>\n    <tr>\n      <th>2</th>\n      <td>Chemistry</td>\n      <td>Non-binary</td>\n      <td>NaN</td>\n      <td>NaN</td>\n      <td>NaN</td>\n    </tr>\n    <tr>\n      <th>3</th>\n      <td>Comp. Biology</td>\n      <td>Female</td>\n      <td>16.530000</td>\n      <td>10.280000</td>\n      <td>26.810000</td>\n    </tr>\n    <tr>\n      <th>4</th>\n      <td>Comp. Biology</td>\n      <td>Male</td>\n      <td>NaN</td>\n      <td>NaN</td>\n      <td>NaN</td>\n    </tr>\n    <tr>\n      <th>5</th>\n      <td>Comp. Biology</td>\n      <td>Non-binary</td>\n      <td>NaN</td>\n      <td>NaN</td>\n      <td>NaN</td>\n    </tr>\n    <tr>\n      <th>6</th>\n      <td>Life Sciences</td>\n      <td>Female</td>\n      <td>19.285875</td>\n      <td>14.801000</td>\n      <td>34.086875</td>\n    </tr>\n    <tr>\n      <th>7</th>\n      <td>Life Sciences</td>\n      <td>Male</td>\n      <td>20.357250</td>\n      <td>15.644000</td>\n      <td>36.001250</td>\n    </tr>\n    <tr>\n      <th>8</th>\n      <td>Life Sciences</td>\n      <td>Non-binary</td>\n      <td>16.836000</td>\n      <td>12.340000</td>\n      <td>29.176000</td>\n    </tr>\n    <tr>\n      <th>9</th>\n      <td>Physics</td>\n      <td>Female</td>\n      <td>20.817000</td>\n      <td>14.680000</td>\n      <td>35.497000</td>\n    </tr>\n    <tr>\n      <th>10</th>\n      <td>Physics</td>\n      <td>Male</td>\n      <td>16.871000</td>\n      <td>16.498286</td>\n      <td>34.166143</td>\n    </tr>\n    <tr>\n      <th>11</th>\n      <td>Physics</td>\n      <td>Non-binary</td>\n      <td>20.205000</td>\n      <td>15.300000</td>\n      <td>35.505000</td>\n    </tr>\n  </tbody>\n</table>\n</div>"
     },
     "execution_count": 148,
     "metadata": {},
     "output_type": "execute_result"
    }
   ],
   "source": [
    "# Don't create a new index based on the grouped categories\n",
    "df_class.groupby(by=['Major', 'Gender'], as_index=False).mean()"
   ],
   "metadata": {
    "collapsed": false
   }
  },
  {
   "cell_type": "code",
   "execution_count": 149,
   "outputs": [
    {
     "data": {
      "text/plain": "Major          Gender    \nChemistry      Female        17.602500\n               Male          21.121500\n               Non-binary          NaN\nComp. Biology  Female        16.530000\n               Male                NaN\n               Non-binary          NaN\nLife Sciences  Female        19.285875\n               Male          20.357250\n               Non-binary    16.836000\nPhysics        Female        20.817000\n               Male          16.871000\n               Non-binary    20.205000\nName: Test 1, dtype: float64"
     },
     "execution_count": 149,
     "metadata": {},
     "output_type": "execute_result"
    }
   ],
   "source": [
    "# Select a specific column from the returned dataframe\n",
    "df_class.groupby(by=[\"Major\", \"Gender\"])[\"Test 1\"].mean()"
   ],
   "metadata": {
    "collapsed": false
   }
  },
  {
   "cell_type": "code",
   "execution_count": 150,
   "outputs": [
    {
     "name": "stderr",
     "output_type": "stream",
     "text": [
      "/tmp/ipykernel_32974/1237069997.py:2: FutureWarning: ['MATRIC_NO', 'Name'] did not aggregate successfully. If any error is raised this will raise in a future version of pandas. Drop these columns/ops to avoid this warning.\n",
      "  df_class.groupby(by=['Major', 'Gender']).agg([np.mean, np.std]).round(2)\n"
     ]
    },
    {
     "data": {
      "text/plain": "                         Test 1       Test 2        Total      \n                           mean   std   mean   std   mean   std\nMajor         Gender                                           \nChemistry     Female      17.60  4.07  16.36  1.14  34.13  4.33\n              Male        21.12  3.90  17.22  0.60  38.35  4.50\n              Non-binary    NaN   NaN    NaN   NaN    NaN   NaN\nComp. Biology Female      16.53   NaN  10.28   NaN  26.81   NaN\n              Male          NaN   NaN    NaN   NaN    NaN   NaN\n              Non-binary    NaN   NaN    NaN   NaN    NaN   NaN\nLife Sciences Female      19.29  2.07  14.80  2.61  34.09  3.84\n              Male        20.36  4.37  15.64  1.49  36.00  4.95\n              Non-binary  16.84  2.16  12.34  1.90  29.18  0.27\nPhysics       Female      20.82   NaN  14.68   NaN  35.50   NaN\n              Male        16.87  4.35  16.50  1.89  34.17  5.15\n              Non-binary  20.20  0.87  15.30  0.88  35.50  1.74",
      "text/html": "<div>\n<style scoped>\n    .dataframe tbody tr th:only-of-type {\n        vertical-align: middle;\n    }\n\n    .dataframe tbody tr th {\n        vertical-align: top;\n    }\n\n    .dataframe thead tr th {\n        text-align: left;\n    }\n\n    .dataframe thead tr:last-of-type th {\n        text-align: right;\n    }\n</style>\n<table border=\"1\" class=\"dataframe\">\n  <thead>\n    <tr>\n      <th></th>\n      <th></th>\n      <th colspan=\"2\" halign=\"left\">Test 1</th>\n      <th colspan=\"2\" halign=\"left\">Test 2</th>\n      <th colspan=\"2\" halign=\"left\">Total</th>\n    </tr>\n    <tr>\n      <th></th>\n      <th></th>\n      <th>mean</th>\n      <th>std</th>\n      <th>mean</th>\n      <th>std</th>\n      <th>mean</th>\n      <th>std</th>\n    </tr>\n    <tr>\n      <th>Major</th>\n      <th>Gender</th>\n      <th></th>\n      <th></th>\n      <th></th>\n      <th></th>\n      <th></th>\n      <th></th>\n    </tr>\n  </thead>\n  <tbody>\n    <tr>\n      <th rowspan=\"3\" valign=\"top\">Chemistry</th>\n      <th>Female</th>\n      <td>17.60</td>\n      <td>4.07</td>\n      <td>16.36</td>\n      <td>1.14</td>\n      <td>34.13</td>\n      <td>4.33</td>\n    </tr>\n    <tr>\n      <th>Male</th>\n      <td>21.12</td>\n      <td>3.90</td>\n      <td>17.22</td>\n      <td>0.60</td>\n      <td>38.35</td>\n      <td>4.50</td>\n    </tr>\n    <tr>\n      <th>Non-binary</th>\n      <td>NaN</td>\n      <td>NaN</td>\n      <td>NaN</td>\n      <td>NaN</td>\n      <td>NaN</td>\n      <td>NaN</td>\n    </tr>\n    <tr>\n      <th rowspan=\"3\" valign=\"top\">Comp. Biology</th>\n      <th>Female</th>\n      <td>16.53</td>\n      <td>NaN</td>\n      <td>10.28</td>\n      <td>NaN</td>\n      <td>26.81</td>\n      <td>NaN</td>\n    </tr>\n    <tr>\n      <th>Male</th>\n      <td>NaN</td>\n      <td>NaN</td>\n      <td>NaN</td>\n      <td>NaN</td>\n      <td>NaN</td>\n      <td>NaN</td>\n    </tr>\n    <tr>\n      <th>Non-binary</th>\n      <td>NaN</td>\n      <td>NaN</td>\n      <td>NaN</td>\n      <td>NaN</td>\n      <td>NaN</td>\n      <td>NaN</td>\n    </tr>\n    <tr>\n      <th rowspan=\"3\" valign=\"top\">Life Sciences</th>\n      <th>Female</th>\n      <td>19.29</td>\n      <td>2.07</td>\n      <td>14.80</td>\n      <td>2.61</td>\n      <td>34.09</td>\n      <td>3.84</td>\n    </tr>\n    <tr>\n      <th>Male</th>\n      <td>20.36</td>\n      <td>4.37</td>\n      <td>15.64</td>\n      <td>1.49</td>\n      <td>36.00</td>\n      <td>4.95</td>\n    </tr>\n    <tr>\n      <th>Non-binary</th>\n      <td>16.84</td>\n      <td>2.16</td>\n      <td>12.34</td>\n      <td>1.90</td>\n      <td>29.18</td>\n      <td>0.27</td>\n    </tr>\n    <tr>\n      <th rowspan=\"3\" valign=\"top\">Physics</th>\n      <th>Female</th>\n      <td>20.82</td>\n      <td>NaN</td>\n      <td>14.68</td>\n      <td>NaN</td>\n      <td>35.50</td>\n      <td>NaN</td>\n    </tr>\n    <tr>\n      <th>Male</th>\n      <td>16.87</td>\n      <td>4.35</td>\n      <td>16.50</td>\n      <td>1.89</td>\n      <td>34.17</td>\n      <td>5.15</td>\n    </tr>\n    <tr>\n      <th>Non-binary</th>\n      <td>20.20</td>\n      <td>0.87</td>\n      <td>15.30</td>\n      <td>0.88</td>\n      <td>35.50</td>\n      <td>1.74</td>\n    </tr>\n  </tbody>\n</table>\n</div>"
     },
     "execution_count": 150,
     "metadata": {},
     "output_type": "execute_result"
    }
   ],
   "source": [
    "# Using agg to obtain information using mulitple functions instead of just one\n",
    "df_class.groupby(by=['Major', 'Gender']).agg([np.mean, np.std]).round(2)"
   ],
   "metadata": {
    "collapsed": false
   }
  },
  {
   "cell_type": "code",
   "execution_count": 151,
   "outputs": [
    {
     "name": "stderr",
     "output_type": "stream",
     "text": [
      "/tmp/ipykernel_32974/3697240410.py:2: FutureWarning: ['MATRIC_NO', 'Name', 'Major', 'Gender'] did not aggregate successfully. If any error is raised this will raise in a future version of pandas. Drop these columns/ops to avoid this warning.\n",
      "  df_class.agg([np.mean, np.std]).round(2)\n"
     ]
    },
    {
     "data": {
      "text/plain": "      Test 1  Test 2  Total\nmean   18.53   15.41  34.22\nstd     3.49    2.23   4.37",
      "text/html": "<div>\n<style scoped>\n    .dataframe tbody tr th:only-of-type {\n        vertical-align: middle;\n    }\n\n    .dataframe tbody tr th {\n        vertical-align: top;\n    }\n\n    .dataframe thead th {\n        text-align: right;\n    }\n</style>\n<table border=\"1\" class=\"dataframe\">\n  <thead>\n    <tr style=\"text-align: right;\">\n      <th></th>\n      <th>Test 1</th>\n      <th>Test 2</th>\n      <th>Total</th>\n    </tr>\n  </thead>\n  <tbody>\n    <tr>\n      <th>mean</th>\n      <td>18.53</td>\n      <td>15.41</td>\n      <td>34.22</td>\n    </tr>\n    <tr>\n      <th>std</th>\n      <td>3.49</td>\n      <td>2.23</td>\n      <td>4.37</td>\n    </tr>\n  </tbody>\n</table>\n</div>"
     },
     "execution_count": 151,
     "metadata": {},
     "output_type": "execute_result"
    }
   ],
   "source": [
    "# Agg works with any dataframe\n",
    "df_class.agg([np.mean, np.std]).round(2)"
   ],
   "metadata": {
    "collapsed": false
   }
  },
  {
   "cell_type": "code",
   "execution_count": 152,
   "outputs": [
    {
     "name": "stderr",
     "output_type": "stream",
     "text": [
      "/tmp/ipykernel_32974/1870287050.py:3: FutureWarning: The default value of numeric_only in DataFrameGroupBy.mean is deprecated. In a future version, numeric_only will default to False. Either specify numeric_only or select only columns which should be valid for the function.\n",
      "  df_class[mask].groupby(by=['Major']).mean()\n"
     ]
    },
    {
     "data": {
      "text/plain": "                  Test 1   Test 2      Total\nMajor                                       \nChemistry      17.602500  16.3648  34.128500\nComp. Biology  16.530000  10.2800  26.810000\nLife Sciences  19.285875  14.8010  34.086875\nPhysics        20.817000  14.6800  35.497000",
      "text/html": "<div>\n<style scoped>\n    .dataframe tbody tr th:only-of-type {\n        vertical-align: middle;\n    }\n\n    .dataframe tbody tr th {\n        vertical-align: top;\n    }\n\n    .dataframe thead th {\n        text-align: right;\n    }\n</style>\n<table border=\"1\" class=\"dataframe\">\n  <thead>\n    <tr style=\"text-align: right;\">\n      <th></th>\n      <th>Test 1</th>\n      <th>Test 2</th>\n      <th>Total</th>\n    </tr>\n    <tr>\n      <th>Major</th>\n      <th></th>\n      <th></th>\n      <th></th>\n    </tr>\n  </thead>\n  <tbody>\n    <tr>\n      <th>Chemistry</th>\n      <td>17.602500</td>\n      <td>16.3648</td>\n      <td>34.128500</td>\n    </tr>\n    <tr>\n      <th>Comp. Biology</th>\n      <td>16.530000</td>\n      <td>10.2800</td>\n      <td>26.810000</td>\n    </tr>\n    <tr>\n      <th>Life Sciences</th>\n      <td>19.285875</td>\n      <td>14.8010</td>\n      <td>34.086875</td>\n    </tr>\n    <tr>\n      <th>Physics</th>\n      <td>20.817000</td>\n      <td>14.6800</td>\n      <td>35.497000</td>\n    </tr>\n  </tbody>\n</table>\n</div>"
     },
     "execution_count": 152,
     "metadata": {},
     "output_type": "execute_result"
    }
   ],
   "source": [
    "# Filtering the dataframe for female first, then running groupby on the resultant dataframe\n",
    "mask = df_class['Gender'] == 'Female'\n",
    "df_class[mask].groupby(by=['Major']).mean()"
   ],
   "metadata": {
    "collapsed": false
   }
  },
  {
   "cell_type": "code",
   "execution_count": 153,
   "outputs": [
    {
     "name": "stderr",
     "output_type": "stream",
     "text": [
      "/tmp/ipykernel_32974/1410623001.py:1: FutureWarning: The default value of numeric_only in DataFrameGroupBy.mean is deprecated. In a future version, numeric_only will default to False. Either specify numeric_only or select only columns which should be valid for the function.\n",
      "  df_class.groupby(by=['Gender', 'Major']).mean()\n"
     ]
    },
    {
     "data": {
      "text/plain": "                             Test 1     Test 2      Total\nGender     Major                                         \nFemale     Chemistry      17.602500  16.364800  34.128500\n           Comp. Biology  16.530000  10.280000  26.810000\n           Life Sciences  19.285875  14.801000  34.086875\n           Physics        20.817000  14.680000  35.497000\nMale       Chemistry      21.121500  17.224000  38.345500\n           Comp. Biology        NaN        NaN        NaN\n           Life Sciences  20.357250  15.644000  36.001250\n           Physics        16.871000  16.498286  34.166143\nNon-binary Chemistry            NaN        NaN        NaN\n           Comp. Biology        NaN        NaN        NaN\n           Life Sciences  16.836000  12.340000  29.176000\n           Physics        20.205000  15.300000  35.505000",
      "text/html": "<div>\n<style scoped>\n    .dataframe tbody tr th:only-of-type {\n        vertical-align: middle;\n    }\n\n    .dataframe tbody tr th {\n        vertical-align: top;\n    }\n\n    .dataframe thead th {\n        text-align: right;\n    }\n</style>\n<table border=\"1\" class=\"dataframe\">\n  <thead>\n    <tr style=\"text-align: right;\">\n      <th></th>\n      <th></th>\n      <th>Test 1</th>\n      <th>Test 2</th>\n      <th>Total</th>\n    </tr>\n    <tr>\n      <th>Gender</th>\n      <th>Major</th>\n      <th></th>\n      <th></th>\n      <th></th>\n    </tr>\n  </thead>\n  <tbody>\n    <tr>\n      <th rowspan=\"4\" valign=\"top\">Female</th>\n      <th>Chemistry</th>\n      <td>17.602500</td>\n      <td>16.364800</td>\n      <td>34.128500</td>\n    </tr>\n    <tr>\n      <th>Comp. Biology</th>\n      <td>16.530000</td>\n      <td>10.280000</td>\n      <td>26.810000</td>\n    </tr>\n    <tr>\n      <th>Life Sciences</th>\n      <td>19.285875</td>\n      <td>14.801000</td>\n      <td>34.086875</td>\n    </tr>\n    <tr>\n      <th>Physics</th>\n      <td>20.817000</td>\n      <td>14.680000</td>\n      <td>35.497000</td>\n    </tr>\n    <tr>\n      <th rowspan=\"4\" valign=\"top\">Male</th>\n      <th>Chemistry</th>\n      <td>21.121500</td>\n      <td>17.224000</td>\n      <td>38.345500</td>\n    </tr>\n    <tr>\n      <th>Comp. Biology</th>\n      <td>NaN</td>\n      <td>NaN</td>\n      <td>NaN</td>\n    </tr>\n    <tr>\n      <th>Life Sciences</th>\n      <td>20.357250</td>\n      <td>15.644000</td>\n      <td>36.001250</td>\n    </tr>\n    <tr>\n      <th>Physics</th>\n      <td>16.871000</td>\n      <td>16.498286</td>\n      <td>34.166143</td>\n    </tr>\n    <tr>\n      <th rowspan=\"4\" valign=\"top\">Non-binary</th>\n      <th>Chemistry</th>\n      <td>NaN</td>\n      <td>NaN</td>\n      <td>NaN</td>\n    </tr>\n    <tr>\n      <th>Comp. Biology</th>\n      <td>NaN</td>\n      <td>NaN</td>\n      <td>NaN</td>\n    </tr>\n    <tr>\n      <th>Life Sciences</th>\n      <td>16.836000</td>\n      <td>12.340000</td>\n      <td>29.176000</td>\n    </tr>\n    <tr>\n      <th>Physics</th>\n      <td>20.205000</td>\n      <td>15.300000</td>\n      <td>35.505000</td>\n    </tr>\n  </tbody>\n</table>\n</div>"
     },
     "execution_count": 153,
     "metadata": {},
     "output_type": "execute_result"
    }
   ],
   "source": [
    "df_class.groupby(by=['Gender', 'Major']).mean()"
   ],
   "metadata": {
    "collapsed": false
   }
  },
  {
   "attachments": {},
   "cell_type": "markdown",
   "id": "123456",
   "metadata": {},
   "source": [
    "## Exercise 1 :  Another dummy class"
   ]
  },
  {
   "cell_type": "code",
   "execution_count": 154,
   "id": "123456",
   "metadata": {},
   "outputs": [
    {
     "ename": "ImportError",
     "evalue": "Missing optional dependency 'xlrd'. Install xlrd >= 1.0.0 for Excel support Use pip or conda to install xlrd.",
     "output_type": "error",
     "traceback": [
      "\u001B[0;31m---------------------------------------------------------------------------\u001B[0m",
      "\u001B[0;31mModuleNotFoundError\u001B[0m                       Traceback (most recent call last)",
      "File \u001B[0;32m~/.local/share/asdf/installs/python/3.11.1/lib/python3.11/site-packages/pandas/compat/_optional.py:141\u001B[0m, in \u001B[0;36mimport_optional_dependency\u001B[0;34m(name, extra, errors, min_version)\u001B[0m\n\u001B[1;32m    140\u001B[0m \u001B[38;5;28;01mtry\u001B[39;00m:\n\u001B[0;32m--> 141\u001B[0m     module \u001B[38;5;241m=\u001B[39m \u001B[43mimportlib\u001B[49m\u001B[38;5;241;43m.\u001B[39;49m\u001B[43mimport_module\u001B[49m\u001B[43m(\u001B[49m\u001B[43mname\u001B[49m\u001B[43m)\u001B[49m\n\u001B[1;32m    142\u001B[0m \u001B[38;5;28;01mexcept\u001B[39;00m \u001B[38;5;167;01mImportError\u001B[39;00m:\n",
      "File \u001B[0;32m~/.local/share/asdf/installs/python/3.11.1/lib/python3.11/importlib/__init__.py:126\u001B[0m, in \u001B[0;36mimport_module\u001B[0;34m(name, package)\u001B[0m\n\u001B[1;32m    125\u001B[0m         level \u001B[38;5;241m+\u001B[39m\u001B[38;5;241m=\u001B[39m \u001B[38;5;241m1\u001B[39m\n\u001B[0;32m--> 126\u001B[0m \u001B[38;5;28;01mreturn\u001B[39;00m \u001B[43m_bootstrap\u001B[49m\u001B[38;5;241;43m.\u001B[39;49m\u001B[43m_gcd_import\u001B[49m\u001B[43m(\u001B[49m\u001B[43mname\u001B[49m\u001B[43m[\u001B[49m\u001B[43mlevel\u001B[49m\u001B[43m:\u001B[49m\u001B[43m]\u001B[49m\u001B[43m,\u001B[49m\u001B[43m \u001B[49m\u001B[43mpackage\u001B[49m\u001B[43m,\u001B[49m\u001B[43m \u001B[49m\u001B[43mlevel\u001B[49m\u001B[43m)\u001B[49m\n",
      "File \u001B[0;32m<frozen importlib._bootstrap>:1206\u001B[0m, in \u001B[0;36m_gcd_import\u001B[0;34m(name, package, level)\u001B[0m\n",
      "File \u001B[0;32m<frozen importlib._bootstrap>:1178\u001B[0m, in \u001B[0;36m_find_and_load\u001B[0;34m(name, import_)\u001B[0m\n",
      "File \u001B[0;32m<frozen importlib._bootstrap>:1142\u001B[0m, in \u001B[0;36m_find_and_load_unlocked\u001B[0;34m(name, import_)\u001B[0m\n",
      "\u001B[0;31mModuleNotFoundError\u001B[0m: No module named 'xlrd'",
      "\nDuring handling of the above exception, another exception occurred:\n",
      "\u001B[0;31mImportError\u001B[0m                               Traceback (most recent call last)",
      "Cell \u001B[0;32mIn[154], line 1\u001B[0m\n\u001B[0;32m----> 1\u001B[0m dummy_class \u001B[38;5;241m=\u001B[39m \u001B[43mpd\u001B[49m\u001B[38;5;241;43m.\u001B[39;49m\u001B[43mread_excel\u001B[49m\u001B[43m(\u001B[49m\u001B[38;5;124;43m\"\u001B[39;49m\u001B[38;5;124;43manother-dummy-class.xlsx\u001B[39;49m\u001B[38;5;124;43m\"\u001B[39;49m\u001B[43m)\u001B[49m\n",
      "File \u001B[0;32m~/.local/share/asdf/installs/python/3.11.1/lib/python3.11/site-packages/pandas/util/_decorators.py:211\u001B[0m, in \u001B[0;36mdeprecate_kwarg.<locals>._deprecate_kwarg.<locals>.wrapper\u001B[0;34m(*args, **kwargs)\u001B[0m\n\u001B[1;32m    209\u001B[0m     \u001B[38;5;28;01melse\u001B[39;00m:\n\u001B[1;32m    210\u001B[0m         kwargs[new_arg_name] \u001B[38;5;241m=\u001B[39m new_arg_value\n\u001B[0;32m--> 211\u001B[0m \u001B[38;5;28;01mreturn\u001B[39;00m \u001B[43mfunc\u001B[49m\u001B[43m(\u001B[49m\u001B[38;5;241;43m*\u001B[39;49m\u001B[43margs\u001B[49m\u001B[43m,\u001B[49m\u001B[43m \u001B[49m\u001B[38;5;241;43m*\u001B[39;49m\u001B[38;5;241;43m*\u001B[39;49m\u001B[43mkwargs\u001B[49m\u001B[43m)\u001B[49m\n",
      "File \u001B[0;32m~/.local/share/asdf/installs/python/3.11.1/lib/python3.11/site-packages/pandas/util/_decorators.py:331\u001B[0m, in \u001B[0;36mdeprecate_nonkeyword_arguments.<locals>.decorate.<locals>.wrapper\u001B[0;34m(*args, **kwargs)\u001B[0m\n\u001B[1;32m    325\u001B[0m \u001B[38;5;28;01mif\u001B[39;00m \u001B[38;5;28mlen\u001B[39m(args) \u001B[38;5;241m>\u001B[39m num_allow_args:\n\u001B[1;32m    326\u001B[0m     warnings\u001B[38;5;241m.\u001B[39mwarn(\n\u001B[1;32m    327\u001B[0m         msg\u001B[38;5;241m.\u001B[39mformat(arguments\u001B[38;5;241m=\u001B[39m_format_argument_list(allow_args)),\n\u001B[1;32m    328\u001B[0m         \u001B[38;5;167;01mFutureWarning\u001B[39;00m,\n\u001B[1;32m    329\u001B[0m         stacklevel\u001B[38;5;241m=\u001B[39mfind_stack_level(),\n\u001B[1;32m    330\u001B[0m     )\n\u001B[0;32m--> 331\u001B[0m \u001B[38;5;28;01mreturn\u001B[39;00m \u001B[43mfunc\u001B[49m\u001B[43m(\u001B[49m\u001B[38;5;241;43m*\u001B[39;49m\u001B[43margs\u001B[49m\u001B[43m,\u001B[49m\u001B[43m \u001B[49m\u001B[38;5;241;43m*\u001B[39;49m\u001B[38;5;241;43m*\u001B[39;49m\u001B[43mkwargs\u001B[49m\u001B[43m)\u001B[49m\n",
      "File \u001B[0;32m~/.local/share/asdf/installs/python/3.11.1/lib/python3.11/site-packages/pandas/io/excel/_base.py:482\u001B[0m, in \u001B[0;36mread_excel\u001B[0;34m(io, sheet_name, header, names, index_col, usecols, squeeze, dtype, engine, converters, true_values, false_values, skiprows, nrows, na_values, keep_default_na, na_filter, verbose, parse_dates, date_parser, thousands, decimal, comment, skipfooter, convert_float, mangle_dupe_cols, storage_options)\u001B[0m\n\u001B[1;32m    480\u001B[0m \u001B[38;5;28;01mif\u001B[39;00m \u001B[38;5;129;01mnot\u001B[39;00m \u001B[38;5;28misinstance\u001B[39m(io, ExcelFile):\n\u001B[1;32m    481\u001B[0m     should_close \u001B[38;5;241m=\u001B[39m \u001B[38;5;28;01mTrue\u001B[39;00m\n\u001B[0;32m--> 482\u001B[0m     io \u001B[38;5;241m=\u001B[39m \u001B[43mExcelFile\u001B[49m\u001B[43m(\u001B[49m\u001B[43mio\u001B[49m\u001B[43m,\u001B[49m\u001B[43m \u001B[49m\u001B[43mstorage_options\u001B[49m\u001B[38;5;241;43m=\u001B[39;49m\u001B[43mstorage_options\u001B[49m\u001B[43m,\u001B[49m\u001B[43m \u001B[49m\u001B[43mengine\u001B[49m\u001B[38;5;241;43m=\u001B[39;49m\u001B[43mengine\u001B[49m\u001B[43m)\u001B[49m\n\u001B[1;32m    483\u001B[0m \u001B[38;5;28;01melif\u001B[39;00m engine \u001B[38;5;129;01mand\u001B[39;00m engine \u001B[38;5;241m!=\u001B[39m io\u001B[38;5;241m.\u001B[39mengine:\n\u001B[1;32m    484\u001B[0m     \u001B[38;5;28;01mraise\u001B[39;00m \u001B[38;5;167;01mValueError\u001B[39;00m(\n\u001B[1;32m    485\u001B[0m         \u001B[38;5;124m\"\u001B[39m\u001B[38;5;124mEngine should not be specified when passing \u001B[39m\u001B[38;5;124m\"\u001B[39m\n\u001B[1;32m    486\u001B[0m         \u001B[38;5;124m\"\u001B[39m\u001B[38;5;124man ExcelFile - ExcelFile already has the engine set\u001B[39m\u001B[38;5;124m\"\u001B[39m\n\u001B[1;32m    487\u001B[0m     )\n",
      "File \u001B[0;32m~/.local/share/asdf/installs/python/3.11.1/lib/python3.11/site-packages/pandas/io/excel/_base.py:1695\u001B[0m, in \u001B[0;36mExcelFile.__init__\u001B[0;34m(self, path_or_buffer, engine, storage_options)\u001B[0m\n\u001B[1;32m   1692\u001B[0m \u001B[38;5;28mself\u001B[39m\u001B[38;5;241m.\u001B[39mengine \u001B[38;5;241m=\u001B[39m engine\n\u001B[1;32m   1693\u001B[0m \u001B[38;5;28mself\u001B[39m\u001B[38;5;241m.\u001B[39mstorage_options \u001B[38;5;241m=\u001B[39m storage_options\n\u001B[0;32m-> 1695\u001B[0m \u001B[38;5;28mself\u001B[39m\u001B[38;5;241m.\u001B[39m_reader \u001B[38;5;241m=\u001B[39m \u001B[38;5;28;43mself\u001B[39;49m\u001B[38;5;241;43m.\u001B[39;49m\u001B[43m_engines\u001B[49m\u001B[43m[\u001B[49m\u001B[43mengine\u001B[49m\u001B[43m]\u001B[49m\u001B[43m(\u001B[49m\u001B[38;5;28;43mself\u001B[39;49m\u001B[38;5;241;43m.\u001B[39;49m\u001B[43m_io\u001B[49m\u001B[43m,\u001B[49m\u001B[43m \u001B[49m\u001B[43mstorage_options\u001B[49m\u001B[38;5;241;43m=\u001B[39;49m\u001B[43mstorage_options\u001B[49m\u001B[43m)\u001B[49m\n",
      "File \u001B[0;32m~/.local/share/asdf/installs/python/3.11.1/lib/python3.11/site-packages/pandas/io/excel/_xlrd.py:34\u001B[0m, in \u001B[0;36mXlrdReader.__init__\u001B[0;34m(self, filepath_or_buffer, storage_options)\u001B[0m\n\u001B[1;32m     24\u001B[0m \u001B[38;5;250m\u001B[39m\u001B[38;5;124;03m\"\"\"\u001B[39;00m\n\u001B[1;32m     25\u001B[0m \u001B[38;5;124;03mReader using xlrd engine.\u001B[39;00m\n\u001B[1;32m     26\u001B[0m \n\u001B[0;32m   (...)\u001B[0m\n\u001B[1;32m     31\u001B[0m \u001B[38;5;124;03m{storage_options}\u001B[39;00m\n\u001B[1;32m     32\u001B[0m \u001B[38;5;124;03m\"\"\"\u001B[39;00m\n\u001B[1;32m     33\u001B[0m err_msg \u001B[38;5;241m=\u001B[39m \u001B[38;5;124m\"\u001B[39m\u001B[38;5;124mInstall xlrd >= 1.0.0 for Excel support\u001B[39m\u001B[38;5;124m\"\u001B[39m\n\u001B[0;32m---> 34\u001B[0m \u001B[43mimport_optional_dependency\u001B[49m\u001B[43m(\u001B[49m\u001B[38;5;124;43m\"\u001B[39;49m\u001B[38;5;124;43mxlrd\u001B[39;49m\u001B[38;5;124;43m\"\u001B[39;49m\u001B[43m,\u001B[49m\u001B[43m \u001B[49m\u001B[43mextra\u001B[49m\u001B[38;5;241;43m=\u001B[39;49m\u001B[43merr_msg\u001B[49m\u001B[43m)\u001B[49m\n\u001B[1;32m     35\u001B[0m \u001B[38;5;28msuper\u001B[39m()\u001B[38;5;241m.\u001B[39m\u001B[38;5;21m__init__\u001B[39m(filepath_or_buffer, storage_options\u001B[38;5;241m=\u001B[39mstorage_options)\n",
      "File \u001B[0;32m~/.local/share/asdf/installs/python/3.11.1/lib/python3.11/site-packages/pandas/compat/_optional.py:144\u001B[0m, in \u001B[0;36mimport_optional_dependency\u001B[0;34m(name, extra, errors, min_version)\u001B[0m\n\u001B[1;32m    142\u001B[0m \u001B[38;5;28;01mexcept\u001B[39;00m \u001B[38;5;167;01mImportError\u001B[39;00m:\n\u001B[1;32m    143\u001B[0m     \u001B[38;5;28;01mif\u001B[39;00m errors \u001B[38;5;241m==\u001B[39m \u001B[38;5;124m\"\u001B[39m\u001B[38;5;124mraise\u001B[39m\u001B[38;5;124m\"\u001B[39m:\n\u001B[0;32m--> 144\u001B[0m         \u001B[38;5;28;01mraise\u001B[39;00m \u001B[38;5;167;01mImportError\u001B[39;00m(msg)\n\u001B[1;32m    145\u001B[0m     \u001B[38;5;28;01melse\u001B[39;00m:\n\u001B[1;32m    146\u001B[0m         \u001B[38;5;28;01mreturn\u001B[39;00m \u001B[38;5;28;01mNone\u001B[39;00m\n",
      "\u001B[0;31mImportError\u001B[0m: Missing optional dependency 'xlrd'. Install xlrd >= 1.0.0 for Excel support Use pip or conda to install xlrd."
     ]
    }
   ],
   "source": [
    "dummy_class = pd.read_excel(\"another-dummy-class.xlsx\")"
   ]
  },
  {
   "cell_type": "code",
   "execution_count": null,
   "outputs": [],
   "source": [
    "dummy_class.drop(columns=\"Unnamed: 0\", inplace=True)"
   ],
   "metadata": {
    "collapsed": false
   }
  },
  {
   "cell_type": "code",
   "execution_count": null,
   "outputs": [],
   "source": [
    "# Names of female physicists in class\n",
    "dummy_class[dummy_class[\"Gender\"] == \"Female\"][\"Name\"]"
   ],
   "metadata": {
    "collapsed": false
   }
  },
  {
   "cell_type": "code",
   "execution_count": null,
   "outputs": [],
   "source": [
    "major_stats = dummy_class.groupby(by=['Major', 'Gender'], as_index=False).size()\n",
    "major_stats"
   ],
   "metadata": {
    "collapsed": false
   }
  },
  {
   "cell_type": "code",
   "execution_count": null,
   "outputs": [],
   "source": [
    "major_stats_nogender = dummy_class.groupby(by=['Major'], as_index=False).size()\n",
    "major_stats_nogender.sort_values(by=['size'], ascending=False, inplace=True)\n",
    "major_stats_nogender"
   ],
   "metadata": {
    "collapsed": false
   }
  },
  {
   "cell_type": "code",
   "execution_count": null,
   "outputs": [],
   "source": [
    "# Plotting the figure\n",
    "fig, ax = plt.subplots()\n",
    "ax.bar(major_stats_nogender[\"Major\"], major_stats_nogender[\"size\"])\n",
    "ax.set_title(\"Number of students in each major\")"
   ],
   "metadata": {
    "collapsed": false
   }
  },
  {
   "cell_type": "code",
   "execution_count": null,
   "outputs": [],
   "source": [
    "# Using the hints\n",
    "major_stats_nogender_2 = dummy_class[\"Major\"].value_counts()\n",
    "major_stats_nogender_2 = major_stats_nogender_2.to_dict()\n",
    "fig2, ax2 = plt.subplots()\n",
    "ax2.bar(major_stats_nogender_2.keys(), major_stats_nogender_2.values())\n",
    "ax2.set_title(\"Number of students in each major\")"
   ],
   "metadata": {
    "collapsed": false
   }
  },
  {
   "cell_type": "code",
   "execution_count": null,
   "outputs": [],
   "source": [
    "# Using pandas built in plots\n",
    "dummy_class[\"Major\"].value_counts().plot(kind=\"bar\")"
   ],
   "metadata": {
    "collapsed": false
   }
  },
  {
   "cell_type": "code",
   "execution_count": null,
   "outputs": [],
   "source": [
    "# Using Seaborn\n",
    "fig2 = sns.displot(data=dummy_class, x=\"Major\")\n",
    "fig2.set(title=\"Number of students in each major\")"
   ],
   "metadata": {
    "collapsed": false
   }
  }
 ],
 "metadata": {
  "kernelspec": {
   "display_name": "Python 3",
   "language": "python",
   "name": "python3"
  },
  "language_info": {
   "codemirror_mode": {
    "name": "ipython",
    "version": 3
   },
   "file_extension": ".py",
   "mimetype": "text/x-python",
   "name": "python",
   "nbconvert_exporter": "python",
   "pygments_lexer": "ipython3",
   "version": "3.11.1 (main, Jan  8 2023, 23:57:48) [GCC 12.2.1 20221121 (Red Hat 12.2.1-4)]"
  },
  "toc": {
   "base_numbering": 1,
   "nav_menu": {},
   "number_sections": true,
   "sideBar": true,
   "skip_h1_title": false,
   "title_cell": "Table of Contents",
   "title_sidebar": "Contents",
   "toc_cell": false,
   "toc_position": {},
   "toc_section_display": true,
   "toc_window_display": false
  },
  "vscode": {
   "interpreter": {
    "hash": "ddb2d42615ac33cc9b63e230f006aec5fab78db5f62bccfa5516e9f0fc5e4dc4"
   }
  }
 },
 "nbformat": 4,
 "nbformat_minor": 5
}
