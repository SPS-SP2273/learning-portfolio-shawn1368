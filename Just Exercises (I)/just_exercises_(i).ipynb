{
 "cells": [
  {
   "cell_type": "markdown",
   "id": "123456",
   "metadata": {},
   "attachments": {},
   "source": [
    "<div style=\"text-align:left;font-size:2em\"><span style=\"font-weight:bolder;font-size:1.25em\">SP2273 | Learning Portfolio</span><br><br><span style=\"font-weight:bold;color:darkred\">Just Exercises (I)</span></div>"
   ]
  },
  {
   "cell_type": "code",
   "execution_count": 2,
   "outputs": [],
   "source": [
    "import numpy as np"
   ],
   "metadata": {
    "collapsed": false
   }
  },
  {
   "cell_type": "markdown",
   "id": "123456",
   "metadata": {},
   "attachments": {},
   "source": [
    "## Exercise 1 :  F-strings to the rescue"
   ]
  },
  {
   "cell_type": "code",
   "id": "123456",
   "metadata": {},
   "execution_count": 3,
   "outputs": [
    {
     "name": "stdout",
     "output_type": "stream",
     "text": [
      "00001\n",
      "00002\n",
      "00003\n",
      "00004\n",
      "00005\n",
      "00006\n",
      "00007\n",
      "00008\n",
      "00009\n",
      "00010\n"
     ]
    }
   ],
   "source": [
    "for i in range(1, 11):\n",
    "    print(f\"{i:0>5}\")"
   ]
  },
  {
   "cell_type": "code",
   "execution_count": 4,
   "outputs": [
    {
     "name": "stdout",
     "output_type": "stream",
     "text": [
      "001          +\n",
      "002         ++\n",
      "003        +++\n",
      "004       ++++\n",
      "005      +++++\n",
      "006     ++++++\n",
      "007    +++++++\n",
      "008   ++++++++\n",
      "009  +++++++++\n",
      "010 ++++++++++\n"
     ]
    }
   ],
   "source": [
    "# Your solution here\n",
    "for i in range(1, 11):\n",
    "    plus = \"+\" * i\n",
    "    print(f\"{i:0>3} {plus:>10}\")"
   ],
   "metadata": {
    "collapsed": false
   }
  },
  {
   "cell_type": "code",
   "execution_count": 5,
   "outputs": [
    {
     "name": "stdout",
     "output_type": "stream",
     "text": [
      "001 -+++++++++\n",
      "002 --++++++++\n",
      "003 ---+++++++\n",
      "004 ----++++++\n",
      "005 -----+++++\n",
      "006 ------++++\n",
      "007 -------+++\n",
      "008 --------++\n",
      "009 ---------+\n",
      "010 ----------\n"
     ]
    }
   ],
   "source": [
    "# Your solution here\n",
    "for i in range(1, 11):\n",
    "    minus = \"-\" * i\n",
    "    print(f\"{i:0>3} {minus:+<10}\")"
   ],
   "metadata": {
    "collapsed": false
   }
  },
  {
   "cell_type": "code",
   "execution_count": 6,
   "outputs": [
    {
     "data": {
      "text/plain": "['bruce_exploits.txt',\n 'bruce_enemies.txt',\n 'bruce_friends.txt',\n 'natasha_exploits.txt',\n 'natasha_enemies.txt',\n 'natasha_friends.txt',\n 'tony_exploits.txt',\n 'tony_enemies.txt',\n 'tony_friends.txt']"
     },
     "execution_count": 6,
     "metadata": {},
     "output_type": "execute_result"
    }
   ],
   "source": [
    "people = [\"bruce\", \"natasha\", \"tony\"]\n",
    "tasks = [\"exploits\", \"enemies\", \"friends\"]\n",
    "textfiles = [person + \"_\" + task + \".txt\" for person in people for task in tasks]\n",
    "textfiles"
   ],
   "metadata": {
    "collapsed": false
   }
  },
  {
   "cell_type": "code",
   "execution_count": 7,
   "outputs": [
    {
     "data": {
      "text/plain": "['data_sg_exp-01_trial-001.txt',\n 'data_sg_exp-01_trial-002.txt',\n 'data_sg_exp-01_trial-003.txt',\n 'data_sg_exp-01_trial-004.txt',\n 'data_sg_exp-01_trial-005.txt',\n 'data_sg_exp-01_trial-006.txt',\n 'data_sg_exp-01_trial-007.txt',\n 'data_sg_exp-01_trial-008.txt',\n 'data_sg_exp-01_trial-009.txt',\n 'data_sg_exp-01_trial-010.txt',\n 'data_sg_exp-01_trial-011.txt',\n 'data_sg_exp-01_trial-012.txt',\n 'data_sg_exp-01_trial-013.txt',\n 'data_sg_exp-01_trial-014.txt',\n 'data_sg_exp-01_trial-015.txt',\n 'data_sg_exp-01_trial-016.txt',\n 'data_sg_exp-01_trial-017.txt',\n 'data_sg_exp-01_trial-018.txt',\n 'data_sg_exp-01_trial-019.txt',\n 'data_sg_exp-01_trial-020.txt',\n 'data_sg_exp-01_trial-021.txt',\n 'data_sg_exp-01_trial-022.txt',\n 'data_sg_exp-01_trial-023.txt',\n 'data_sg_exp-01_trial-024.txt',\n 'data_sg_exp-01_trial-025.txt',\n 'data_sg_exp-01_trial-026.txt',\n 'data_sg_exp-01_trial-027.txt',\n 'data_sg_exp-01_trial-028.txt',\n 'data_sg_exp-01_trial-029.txt',\n 'data_sg_exp-01_trial-030.txt',\n 'data_sg_exp-01_trial-031.txt',\n 'data_sg_exp-01_trial-032.txt',\n 'data_sg_exp-01_trial-033.txt',\n 'data_sg_exp-01_trial-034.txt',\n 'data_sg_exp-01_trial-035.txt',\n 'data_sg_exp-01_trial-036.txt',\n 'data_sg_exp-01_trial-037.txt',\n 'data_sg_exp-01_trial-038.txt',\n 'data_sg_exp-01_trial-039.txt',\n 'data_sg_exp-01_trial-040.txt',\n 'data_sg_exp-01_trial-041.txt',\n 'data_sg_exp-01_trial-042.txt',\n 'data_sg_exp-01_trial-043.txt',\n 'data_sg_exp-01_trial-044.txt',\n 'data_sg_exp-01_trial-045.txt',\n 'data_sg_exp-01_trial-046.txt',\n 'data_sg_exp-01_trial-047.txt',\n 'data_sg_exp-01_trial-048.txt',\n 'data_sg_exp-01_trial-049.txt',\n 'data_sg_exp-01_trial-050.txt',\n 'data_sg_exp-02_trial-001.txt',\n 'data_sg_exp-02_trial-002.txt',\n 'data_sg_exp-02_trial-003.txt',\n 'data_sg_exp-02_trial-004.txt',\n 'data_sg_exp-02_trial-005.txt',\n 'data_sg_exp-02_trial-006.txt',\n 'data_sg_exp-02_trial-007.txt',\n 'data_sg_exp-02_trial-008.txt',\n 'data_sg_exp-02_trial-009.txt',\n 'data_sg_exp-02_trial-010.txt',\n 'data_sg_exp-02_trial-011.txt',\n 'data_sg_exp-02_trial-012.txt',\n 'data_sg_exp-02_trial-013.txt',\n 'data_sg_exp-02_trial-014.txt',\n 'data_sg_exp-02_trial-015.txt',\n 'data_sg_exp-02_trial-016.txt',\n 'data_sg_exp-02_trial-017.txt',\n 'data_sg_exp-02_trial-018.txt',\n 'data_sg_exp-02_trial-019.txt',\n 'data_sg_exp-02_trial-020.txt',\n 'data_sg_exp-02_trial-021.txt',\n 'data_sg_exp-02_trial-022.txt',\n 'data_sg_exp-02_trial-023.txt',\n 'data_sg_exp-02_trial-024.txt',\n 'data_sg_exp-02_trial-025.txt',\n 'data_sg_exp-02_trial-026.txt',\n 'data_sg_exp-02_trial-027.txt',\n 'data_sg_exp-02_trial-028.txt',\n 'data_sg_exp-02_trial-029.txt',\n 'data_sg_exp-02_trial-030.txt',\n 'data_sg_exp-02_trial-031.txt',\n 'data_sg_exp-02_trial-032.txt',\n 'data_sg_exp-02_trial-033.txt',\n 'data_sg_exp-02_trial-034.txt',\n 'data_sg_exp-02_trial-035.txt',\n 'data_sg_exp-02_trial-036.txt',\n 'data_sg_exp-02_trial-037.txt',\n 'data_sg_exp-02_trial-038.txt',\n 'data_sg_exp-02_trial-039.txt',\n 'data_sg_exp-02_trial-040.txt',\n 'data_sg_exp-02_trial-041.txt',\n 'data_sg_exp-02_trial-042.txt',\n 'data_sg_exp-02_trial-043.txt',\n 'data_sg_exp-02_trial-044.txt',\n 'data_sg_exp-02_trial-045.txt',\n 'data_sg_exp-02_trial-046.txt',\n 'data_sg_exp-02_trial-047.txt',\n 'data_sg_exp-02_trial-048.txt',\n 'data_sg_exp-02_trial-049.txt',\n 'data_sg_exp-02_trial-050.txt',\n 'data_sg_exp-03_trial-001.txt',\n 'data_sg_exp-03_trial-002.txt',\n 'data_sg_exp-03_trial-003.txt',\n 'data_sg_exp-03_trial-004.txt',\n 'data_sg_exp-03_trial-005.txt',\n 'data_sg_exp-03_trial-006.txt',\n 'data_sg_exp-03_trial-007.txt',\n 'data_sg_exp-03_trial-008.txt',\n 'data_sg_exp-03_trial-009.txt',\n 'data_sg_exp-03_trial-010.txt',\n 'data_sg_exp-03_trial-011.txt',\n 'data_sg_exp-03_trial-012.txt',\n 'data_sg_exp-03_trial-013.txt',\n 'data_sg_exp-03_trial-014.txt',\n 'data_sg_exp-03_trial-015.txt',\n 'data_sg_exp-03_trial-016.txt',\n 'data_sg_exp-03_trial-017.txt',\n 'data_sg_exp-03_trial-018.txt',\n 'data_sg_exp-03_trial-019.txt',\n 'data_sg_exp-03_trial-020.txt',\n 'data_sg_exp-03_trial-021.txt',\n 'data_sg_exp-03_trial-022.txt',\n 'data_sg_exp-03_trial-023.txt',\n 'data_sg_exp-03_trial-024.txt',\n 'data_sg_exp-03_trial-025.txt',\n 'data_sg_exp-03_trial-026.txt',\n 'data_sg_exp-03_trial-027.txt',\n 'data_sg_exp-03_trial-028.txt',\n 'data_sg_exp-03_trial-029.txt',\n 'data_sg_exp-03_trial-030.txt',\n 'data_sg_exp-03_trial-031.txt',\n 'data_sg_exp-03_trial-032.txt',\n 'data_sg_exp-03_trial-033.txt',\n 'data_sg_exp-03_trial-034.txt',\n 'data_sg_exp-03_trial-035.txt',\n 'data_sg_exp-03_trial-036.txt',\n 'data_sg_exp-03_trial-037.txt',\n 'data_sg_exp-03_trial-038.txt',\n 'data_sg_exp-03_trial-039.txt',\n 'data_sg_exp-03_trial-040.txt',\n 'data_sg_exp-03_trial-041.txt',\n 'data_sg_exp-03_trial-042.txt',\n 'data_sg_exp-03_trial-043.txt',\n 'data_sg_exp-03_trial-044.txt',\n 'data_sg_exp-03_trial-045.txt',\n 'data_sg_exp-03_trial-046.txt',\n 'data_sg_exp-03_trial-047.txt',\n 'data_sg_exp-03_trial-048.txt',\n 'data_sg_exp-03_trial-049.txt',\n 'data_sg_exp-03_trial-050.txt',\n 'data_gb_exp-01_trial-001.txt',\n 'data_gb_exp-01_trial-002.txt',\n 'data_gb_exp-01_trial-003.txt',\n 'data_gb_exp-01_trial-004.txt',\n 'data_gb_exp-01_trial-005.txt',\n 'data_gb_exp-01_trial-006.txt',\n 'data_gb_exp-01_trial-007.txt',\n 'data_gb_exp-01_trial-008.txt',\n 'data_gb_exp-01_trial-009.txt',\n 'data_gb_exp-01_trial-010.txt',\n 'data_gb_exp-01_trial-011.txt',\n 'data_gb_exp-01_trial-012.txt',\n 'data_gb_exp-01_trial-013.txt',\n 'data_gb_exp-01_trial-014.txt',\n 'data_gb_exp-01_trial-015.txt',\n 'data_gb_exp-01_trial-016.txt',\n 'data_gb_exp-01_trial-017.txt',\n 'data_gb_exp-01_trial-018.txt',\n 'data_gb_exp-01_trial-019.txt',\n 'data_gb_exp-01_trial-020.txt',\n 'data_gb_exp-01_trial-021.txt',\n 'data_gb_exp-01_trial-022.txt',\n 'data_gb_exp-01_trial-023.txt',\n 'data_gb_exp-01_trial-024.txt',\n 'data_gb_exp-01_trial-025.txt',\n 'data_gb_exp-01_trial-026.txt',\n 'data_gb_exp-01_trial-027.txt',\n 'data_gb_exp-01_trial-028.txt',\n 'data_gb_exp-01_trial-029.txt',\n 'data_gb_exp-01_trial-030.txt',\n 'data_gb_exp-01_trial-031.txt',\n 'data_gb_exp-01_trial-032.txt',\n 'data_gb_exp-01_trial-033.txt',\n 'data_gb_exp-01_trial-034.txt',\n 'data_gb_exp-01_trial-035.txt',\n 'data_gb_exp-01_trial-036.txt',\n 'data_gb_exp-01_trial-037.txt',\n 'data_gb_exp-01_trial-038.txt',\n 'data_gb_exp-01_trial-039.txt',\n 'data_gb_exp-01_trial-040.txt',\n 'data_gb_exp-01_trial-041.txt',\n 'data_gb_exp-01_trial-042.txt',\n 'data_gb_exp-01_trial-043.txt',\n 'data_gb_exp-01_trial-044.txt',\n 'data_gb_exp-01_trial-045.txt',\n 'data_gb_exp-01_trial-046.txt',\n 'data_gb_exp-01_trial-047.txt',\n 'data_gb_exp-01_trial-048.txt',\n 'data_gb_exp-01_trial-049.txt',\n 'data_gb_exp-01_trial-050.txt',\n 'data_gb_exp-02_trial-001.txt',\n 'data_gb_exp-02_trial-002.txt',\n 'data_gb_exp-02_trial-003.txt',\n 'data_gb_exp-02_trial-004.txt',\n 'data_gb_exp-02_trial-005.txt',\n 'data_gb_exp-02_trial-006.txt',\n 'data_gb_exp-02_trial-007.txt',\n 'data_gb_exp-02_trial-008.txt',\n 'data_gb_exp-02_trial-009.txt',\n 'data_gb_exp-02_trial-010.txt',\n 'data_gb_exp-02_trial-011.txt',\n 'data_gb_exp-02_trial-012.txt',\n 'data_gb_exp-02_trial-013.txt',\n 'data_gb_exp-02_trial-014.txt',\n 'data_gb_exp-02_trial-015.txt',\n 'data_gb_exp-02_trial-016.txt',\n 'data_gb_exp-02_trial-017.txt',\n 'data_gb_exp-02_trial-018.txt',\n 'data_gb_exp-02_trial-019.txt',\n 'data_gb_exp-02_trial-020.txt',\n 'data_gb_exp-02_trial-021.txt',\n 'data_gb_exp-02_trial-022.txt',\n 'data_gb_exp-02_trial-023.txt',\n 'data_gb_exp-02_trial-024.txt',\n 'data_gb_exp-02_trial-025.txt',\n 'data_gb_exp-02_trial-026.txt',\n 'data_gb_exp-02_trial-027.txt',\n 'data_gb_exp-02_trial-028.txt',\n 'data_gb_exp-02_trial-029.txt',\n 'data_gb_exp-02_trial-030.txt',\n 'data_gb_exp-02_trial-031.txt',\n 'data_gb_exp-02_trial-032.txt',\n 'data_gb_exp-02_trial-033.txt',\n 'data_gb_exp-02_trial-034.txt',\n 'data_gb_exp-02_trial-035.txt',\n 'data_gb_exp-02_trial-036.txt',\n 'data_gb_exp-02_trial-037.txt',\n 'data_gb_exp-02_trial-038.txt',\n 'data_gb_exp-02_trial-039.txt',\n 'data_gb_exp-02_trial-040.txt',\n 'data_gb_exp-02_trial-041.txt',\n 'data_gb_exp-02_trial-042.txt',\n 'data_gb_exp-02_trial-043.txt',\n 'data_gb_exp-02_trial-044.txt',\n 'data_gb_exp-02_trial-045.txt',\n 'data_gb_exp-02_trial-046.txt',\n 'data_gb_exp-02_trial-047.txt',\n 'data_gb_exp-02_trial-048.txt',\n 'data_gb_exp-02_trial-049.txt',\n 'data_gb_exp-02_trial-050.txt',\n 'data_gb_exp-03_trial-001.txt',\n 'data_gb_exp-03_trial-002.txt',\n 'data_gb_exp-03_trial-003.txt',\n 'data_gb_exp-03_trial-004.txt',\n 'data_gb_exp-03_trial-005.txt',\n 'data_gb_exp-03_trial-006.txt',\n 'data_gb_exp-03_trial-007.txt',\n 'data_gb_exp-03_trial-008.txt',\n 'data_gb_exp-03_trial-009.txt',\n 'data_gb_exp-03_trial-010.txt',\n 'data_gb_exp-03_trial-011.txt',\n 'data_gb_exp-03_trial-012.txt',\n 'data_gb_exp-03_trial-013.txt',\n 'data_gb_exp-03_trial-014.txt',\n 'data_gb_exp-03_trial-015.txt',\n 'data_gb_exp-03_trial-016.txt',\n 'data_gb_exp-03_trial-017.txt',\n 'data_gb_exp-03_trial-018.txt',\n 'data_gb_exp-03_trial-019.txt',\n 'data_gb_exp-03_trial-020.txt',\n 'data_gb_exp-03_trial-021.txt',\n 'data_gb_exp-03_trial-022.txt',\n 'data_gb_exp-03_trial-023.txt',\n 'data_gb_exp-03_trial-024.txt',\n 'data_gb_exp-03_trial-025.txt',\n 'data_gb_exp-03_trial-026.txt',\n 'data_gb_exp-03_trial-027.txt',\n 'data_gb_exp-03_trial-028.txt',\n 'data_gb_exp-03_trial-029.txt',\n 'data_gb_exp-03_trial-030.txt',\n 'data_gb_exp-03_trial-031.txt',\n 'data_gb_exp-03_trial-032.txt',\n 'data_gb_exp-03_trial-033.txt',\n 'data_gb_exp-03_trial-034.txt',\n 'data_gb_exp-03_trial-035.txt',\n 'data_gb_exp-03_trial-036.txt',\n 'data_gb_exp-03_trial-037.txt',\n 'data_gb_exp-03_trial-038.txt',\n 'data_gb_exp-03_trial-039.txt',\n 'data_gb_exp-03_trial-040.txt',\n 'data_gb_exp-03_trial-041.txt',\n 'data_gb_exp-03_trial-042.txt',\n 'data_gb_exp-03_trial-043.txt',\n 'data_gb_exp-03_trial-044.txt',\n 'data_gb_exp-03_trial-045.txt',\n 'data_gb_exp-03_trial-046.txt',\n 'data_gb_exp-03_trial-047.txt',\n 'data_gb_exp-03_trial-048.txt',\n 'data_gb_exp-03_trial-049.txt',\n 'data_gb_exp-03_trial-050.txt',\n 'data_us_exp-01_trial-001.txt',\n 'data_us_exp-01_trial-002.txt',\n 'data_us_exp-01_trial-003.txt',\n 'data_us_exp-01_trial-004.txt',\n 'data_us_exp-01_trial-005.txt',\n 'data_us_exp-01_trial-006.txt',\n 'data_us_exp-01_trial-007.txt',\n 'data_us_exp-01_trial-008.txt',\n 'data_us_exp-01_trial-009.txt',\n 'data_us_exp-01_trial-010.txt',\n 'data_us_exp-01_trial-011.txt',\n 'data_us_exp-01_trial-012.txt',\n 'data_us_exp-01_trial-013.txt',\n 'data_us_exp-01_trial-014.txt',\n 'data_us_exp-01_trial-015.txt',\n 'data_us_exp-01_trial-016.txt',\n 'data_us_exp-01_trial-017.txt',\n 'data_us_exp-01_trial-018.txt',\n 'data_us_exp-01_trial-019.txt',\n 'data_us_exp-01_trial-020.txt',\n 'data_us_exp-01_trial-021.txt',\n 'data_us_exp-01_trial-022.txt',\n 'data_us_exp-01_trial-023.txt',\n 'data_us_exp-01_trial-024.txt',\n 'data_us_exp-01_trial-025.txt',\n 'data_us_exp-01_trial-026.txt',\n 'data_us_exp-01_trial-027.txt',\n 'data_us_exp-01_trial-028.txt',\n 'data_us_exp-01_trial-029.txt',\n 'data_us_exp-01_trial-030.txt',\n 'data_us_exp-01_trial-031.txt',\n 'data_us_exp-01_trial-032.txt',\n 'data_us_exp-01_trial-033.txt',\n 'data_us_exp-01_trial-034.txt',\n 'data_us_exp-01_trial-035.txt',\n 'data_us_exp-01_trial-036.txt',\n 'data_us_exp-01_trial-037.txt',\n 'data_us_exp-01_trial-038.txt',\n 'data_us_exp-01_trial-039.txt',\n 'data_us_exp-01_trial-040.txt',\n 'data_us_exp-01_trial-041.txt',\n 'data_us_exp-01_trial-042.txt',\n 'data_us_exp-01_trial-043.txt',\n 'data_us_exp-01_trial-044.txt',\n 'data_us_exp-01_trial-045.txt',\n 'data_us_exp-01_trial-046.txt',\n 'data_us_exp-01_trial-047.txt',\n 'data_us_exp-01_trial-048.txt',\n 'data_us_exp-01_trial-049.txt',\n 'data_us_exp-01_trial-050.txt',\n 'data_us_exp-02_trial-001.txt',\n 'data_us_exp-02_trial-002.txt',\n 'data_us_exp-02_trial-003.txt',\n 'data_us_exp-02_trial-004.txt',\n 'data_us_exp-02_trial-005.txt',\n 'data_us_exp-02_trial-006.txt',\n 'data_us_exp-02_trial-007.txt',\n 'data_us_exp-02_trial-008.txt',\n 'data_us_exp-02_trial-009.txt',\n 'data_us_exp-02_trial-010.txt',\n 'data_us_exp-02_trial-011.txt',\n 'data_us_exp-02_trial-012.txt',\n 'data_us_exp-02_trial-013.txt',\n 'data_us_exp-02_trial-014.txt',\n 'data_us_exp-02_trial-015.txt',\n 'data_us_exp-02_trial-016.txt',\n 'data_us_exp-02_trial-017.txt',\n 'data_us_exp-02_trial-018.txt',\n 'data_us_exp-02_trial-019.txt',\n 'data_us_exp-02_trial-020.txt',\n 'data_us_exp-02_trial-021.txt',\n 'data_us_exp-02_trial-022.txt',\n 'data_us_exp-02_trial-023.txt',\n 'data_us_exp-02_trial-024.txt',\n 'data_us_exp-02_trial-025.txt',\n 'data_us_exp-02_trial-026.txt',\n 'data_us_exp-02_trial-027.txt',\n 'data_us_exp-02_trial-028.txt',\n 'data_us_exp-02_trial-029.txt',\n 'data_us_exp-02_trial-030.txt',\n 'data_us_exp-02_trial-031.txt',\n 'data_us_exp-02_trial-032.txt',\n 'data_us_exp-02_trial-033.txt',\n 'data_us_exp-02_trial-034.txt',\n 'data_us_exp-02_trial-035.txt',\n 'data_us_exp-02_trial-036.txt',\n 'data_us_exp-02_trial-037.txt',\n 'data_us_exp-02_trial-038.txt',\n 'data_us_exp-02_trial-039.txt',\n 'data_us_exp-02_trial-040.txt',\n 'data_us_exp-02_trial-041.txt',\n 'data_us_exp-02_trial-042.txt',\n 'data_us_exp-02_trial-043.txt',\n 'data_us_exp-02_trial-044.txt',\n 'data_us_exp-02_trial-045.txt',\n 'data_us_exp-02_trial-046.txt',\n 'data_us_exp-02_trial-047.txt',\n 'data_us_exp-02_trial-048.txt',\n 'data_us_exp-02_trial-049.txt',\n 'data_us_exp-02_trial-050.txt',\n 'data_us_exp-03_trial-001.txt',\n 'data_us_exp-03_trial-002.txt',\n 'data_us_exp-03_trial-003.txt',\n 'data_us_exp-03_trial-004.txt',\n 'data_us_exp-03_trial-005.txt',\n 'data_us_exp-03_trial-006.txt',\n 'data_us_exp-03_trial-007.txt',\n 'data_us_exp-03_trial-008.txt',\n 'data_us_exp-03_trial-009.txt',\n 'data_us_exp-03_trial-010.txt',\n 'data_us_exp-03_trial-011.txt',\n 'data_us_exp-03_trial-012.txt',\n 'data_us_exp-03_trial-013.txt',\n 'data_us_exp-03_trial-014.txt',\n 'data_us_exp-03_trial-015.txt',\n 'data_us_exp-03_trial-016.txt',\n 'data_us_exp-03_trial-017.txt',\n 'data_us_exp-03_trial-018.txt',\n 'data_us_exp-03_trial-019.txt',\n 'data_us_exp-03_trial-020.txt',\n 'data_us_exp-03_trial-021.txt',\n 'data_us_exp-03_trial-022.txt',\n 'data_us_exp-03_trial-023.txt',\n 'data_us_exp-03_trial-024.txt',\n 'data_us_exp-03_trial-025.txt',\n 'data_us_exp-03_trial-026.txt',\n 'data_us_exp-03_trial-027.txt',\n 'data_us_exp-03_trial-028.txt',\n 'data_us_exp-03_trial-029.txt',\n 'data_us_exp-03_trial-030.txt',\n 'data_us_exp-03_trial-031.txt',\n 'data_us_exp-03_trial-032.txt',\n 'data_us_exp-03_trial-033.txt',\n 'data_us_exp-03_trial-034.txt',\n 'data_us_exp-03_trial-035.txt',\n 'data_us_exp-03_trial-036.txt',\n 'data_us_exp-03_trial-037.txt',\n 'data_us_exp-03_trial-038.txt',\n 'data_us_exp-03_trial-039.txt',\n 'data_us_exp-03_trial-040.txt',\n 'data_us_exp-03_trial-041.txt',\n 'data_us_exp-03_trial-042.txt',\n 'data_us_exp-03_trial-043.txt',\n 'data_us_exp-03_trial-044.txt',\n 'data_us_exp-03_trial-045.txt',\n 'data_us_exp-03_trial-046.txt',\n 'data_us_exp-03_trial-047.txt',\n 'data_us_exp-03_trial-048.txt',\n 'data_us_exp-03_trial-049.txt',\n 'data_us_exp-03_trial-050.txt']"
     },
     "execution_count": 7,
     "metadata": {},
     "output_type": "execute_result"
    }
   ],
   "source": [
    "countries = [\"sg\", \"gb\", \"us\"]\n",
    "trial_count = 50\n",
    "experiment_count = 3\n",
    "exp_files = [\"data_\" + country + \"_exp-\" + f\"{exp_n:0>2}\" + \"_trial-\" + f\"{trial_n:0>3}\" + \".txt\"\n",
    "             for country in countries\n",
    "             for exp_n in range(1, experiment_count + 1)\n",
    "             for trial_n in range(1, trial_count + 1)]\n",
    "exp_files"
   ],
   "metadata": {
    "collapsed": false
   }
  },
  {
   "cell_type": "markdown",
   "id": "123456",
   "metadata": {},
   "attachments": {},
   "source": [
    "## Exercise 2 :  Tutti frutti"
   ]
  },
  {
   "cell_type": "code",
   "id": "123456",
   "metadata": {},
   "execution_count": 8,
   "outputs": [
    {
     "data": {
      "text/plain": "True"
     },
     "execution_count": 8,
     "metadata": {},
     "output_type": "execute_result"
    }
   ],
   "source": [
    "fruits = [\"apple\", \"banana\", \"pineapple\", \"jackfruit\",\n",
    "        \"peach\", \"durian\", \"watermelon\", \"mango\",\n",
    "        \"strawberry\", \"passionfruit\"]\n",
    "\n",
    "\"mango\" in fruits"
   ]
  },
  {
   "cell_type": "code",
   "execution_count": 9,
   "outputs": [
    {
     "name": "stdout",
     "output_type": "stream",
     "text": [
      "a e\n",
      "b a\n",
      "p e\n",
      "j t\n",
      "p h\n",
      "d n\n",
      "w n\n",
      "m o\n",
      "s y\n",
      "p t\n"
     ]
    }
   ],
   "source": [
    "for fruit in fruits:\n",
    "    print(fruit[0], fruit[-1])"
   ],
   "metadata": {
    "collapsed": false
   }
  },
  {
   "cell_type": "code",
   "execution_count": 10,
   "outputs": [
    {
     "name": "stdout",
     "output_type": "stream",
     "text": [
      "apple\n",
      "banana\n",
      "PINEAPPLE\n",
      "jackfruit\n",
      "PEACH\n",
      "durian\n",
      "watermelon\n",
      "mango\n",
      "strawberry\n",
      "PASSIONFRUIT\n"
     ]
    }
   ],
   "source": [
    "for fruit in fruits:\n",
    "    if fruit[0] == \"p\":\n",
    "        print(fruit.upper())\n",
    "    else:\n",
    "        print(fruit.lower())"
   ],
   "metadata": {
    "collapsed": false
   }
  },
  {
   "cell_type": "code",
   "execution_count": 11,
   "outputs": [
    {
     "name": "stdout",
     "output_type": "stream",
     "text": [
      "['apple', 'banana', 'pineapple', 'jackfruit', 'peach', 'durian', 'watermelon', 'mango', 'strawberry', 'passionfruit', 'dragon fruit', 'apricots', 'oranges']\n",
      "['dragon fruit', 'apricots', 'oranges', 'apple', 'banana', 'pineapple', 'jackfruit', 'peach', 'durian', 'watermelon', 'mango', 'strawberry', 'passionfruit']\n",
      "['apple', 'banana', 'pineapple', 'jackfruit', 'peach', 'dragon fruit', 'apricots', 'oranges', 'durian', 'watermelon', 'mango', 'strawberry', 'passionfruit']\n"
     ]
    }
   ],
   "source": [
    "extra_fruits = [\"dragon fruit\", \"apricots\", \"oranges\"]\n",
    "fruit_append = fruits + extra_fruits\n",
    "print(fruit_append)\n",
    "fruit_prepend = extra_fruits + fruits\n",
    "print(fruit_prepend)\n",
    "fruit_len = len(fruits) // 2\n",
    "fruit_middle = fruits[0:fruit_len] + extra_fruits + fruits[fruit_len:]\n",
    "print(fruit_middle)"
   ],
   "metadata": {
    "collapsed": false
   }
  },
  {
   "cell_type": "markdown",
   "id": "123456",
   "metadata": {},
   "attachments": {},
   "source": [
    "## Exercise 3 :  Ciao Fibonacci"
   ]
  },
  {
   "cell_type": "code",
   "id": "123456",
   "metadata": {},
   "execution_count": 12,
   "outputs": [
    {
     "name": "stdout",
     "output_type": "stream",
     "text": [
      "[0, 1, 1, 2, 3, 5, 8, 13, 21, 34, 55, 89, 144, 233, 377, 610]\n"
     ]
    }
   ],
   "source": [
    "fib=[0, 1]\n",
    "num_to_add = 13\n",
    "for i in range(2, num_to_add + 3):\n",
    "    fib.append(fib[i - 1] + fib[i - 2])\n",
    "print(fib)"
   ]
  },
  {
   "cell_type": "markdown",
   "id": "123456",
   "metadata": {},
   "attachments": {},
   "source": [
    "## Exercise 4 :  A function for Fibonacci"
   ]
  },
  {
   "cell_type": "code",
   "id": "123456",
   "metadata": {},
   "execution_count": 13,
   "outputs": [
    {
     "name": "stdout",
     "output_type": "stream",
     "text": [
      "[0, 1, 1, 2, 3, 5, 8, 13, 21, 34, 55, 89, 144, 233, 377]\n"
     ]
    }
   ],
   "source": [
    "def fibonacci(n):\n",
    "    fib_seq = [0, 1]\n",
    "    if n < 3:\n",
    "        return fib_seq[0:n + 1]\n",
    "\n",
    "    for i in range(2, n):\n",
    "        fib_seq.append(fib_seq[i - 1] + fib_seq[i - 2])\n",
    "\n",
    "    return fib_seq\n",
    "\n",
    "print(fibonacci(15))"
   ]
  },
  {
   "cell_type": "markdown",
   "id": "123456",
   "metadata": {},
   "attachments": {},
   "source": [
    "## Exercise 5 :  max_info() without NumPy"
   ]
  },
  {
   "cell_type": "code",
   "id": "123456",
   "metadata": {},
   "execution_count": 14,
   "outputs": [
    {
     "name": "stdout",
     "output_type": "stream",
     "text": [
      "(83, 2)\n"
     ]
    }
   ],
   "source": [
    "def max_info(numbers):\n",
    "    index = 0\n",
    "    max_no = numbers[0]\n",
    "    for i, number in enumerate(numbers):\n",
    "        if number > max_no:\n",
    "            max_no = number\n",
    "            index = i\n",
    "\n",
    "    return max_no, index\n",
    "\n",
    "numbers = [40, 27, 83, 44, 74, 51, 76, 77, 10, 49]\n",
    "print(max_info(numbers))"
   ]
  },
  {
   "cell_type": "markdown",
   "id": "123456",
   "metadata": {},
   "attachments": {},
   "source": [
    "## Exercise 6 :  Take count"
   ]
  },
  {
   "cell_type": "code",
   "id": "123456",
   "metadata": {},
   "execution_count": 26,
   "outputs": [
    {
     "name": "stdout",
     "output_type": "stream",
     "text": [
      "{'a_count': 247, 't_count': 254, 'c_count': 250, 'g_count': 249}\n",
      "{'A': 247, 'C': 250, 'G': 249, 'T': 254}\n",
      "['AGGC', 'AAGA', 'AGCT', 'AGAA', 'TTCT', 'GGCC', 'TGAG', 'TATC', 'TCAG', 'TACA', 'GGCG', 'CAGT', 'CGAA', 'TCTT', 'CCGG', 'AATC', 'ACAT', 'TGCT', 'CGCG', 'CTTA', 'AACC', 'CGCT', 'CTAA', 'ACCT', 'TTGA', 'GTAA', 'TTCG', 'ACGA', 'CATT', 'GGGT', 'TCCC', 'TCCG', 'ACGC', 'TGTC', 'TGAC', 'AACT', 'CTTT', 'AAGA', 'TCCT', 'TGGC', 'ACGA', 'TGTC', 'GATA', 'GACA', 'TTGT', 'CCCT', 'GATG', 'ACGC', 'CTCA', 'CAAG', 'GTAA', 'CCTG', 'GCTC', 'TAGT', 'AGGG', 'TGGT', 'CTTT', 'GCTG', 'CGGA', 'ACTT', 'ACCA', 'CCTG', 'GTGG', 'ATCC', 'AAGC', 'ACCA', 'GAGG', 'AGTT', 'CGAA', 'GAGG', 'CTGG', 'GGTA', 'CCCC', 'CTAT', 'TTAG', 'GAAG', 'GGCG', 'AGAC', 'TACG', 'GTCA', 'CAAA', 'TTCC', 'AAAT', 'GGCT', 'TCCC', 'TCGA', 'TTCA', 'TGAC', 'GCCA', 'GAAT', 'GCCT', 'GGCT', 'GTGC', 'CAAT', 'TTGT', 'CGCC', 'TTGC', 'GTCG', 'TTCT', 'GTCA', 'ATCT', 'TTAC', 'TCGT', 'GTCG', 'TGTT', 'GTGA', 'TAAA', 'TGAC', 'AAAC', 'CCTG', 'CACA', 'ACGT', 'AGGG', 'CTCA', 'CACA', 'AGGG', 'AATC', 'TAGA', 'GTAT', 'CCGA', 'TACA', 'GGGA', 'GCTT', 'TAGC', 'TTCC', 'GTCC', 'CTTA', 'TAGC', 'CTGC', 'CATA', 'TTCT', 'TGCG', 'GTAG', 'CACG', 'AGCC', 'TCAG', 'ATCT', 'TCTC', 'ACTC', 'CGGA', 'AATG', 'GGAG', 'CTTC', 'GACG', 'GTCA', 'AGGG', 'CTAA', 'GACG', 'TCTT', 'CGGG', 'AGAA', 'ATAC', 'CTAG', 'GCGA', 'TGAC', 'CCTG', 'AGTG', 'GTTT', 'TCCG', 'CGTA', 'TAAC', 'TCAT', 'CCTG', 'GTTG', 'CAAA', 'TGAT', 'TACC', 'GTTA', 'TAGC', 'CTGG', 'GGAT', 'ATGC', 'CTCA', 'ATTC', 'CGAA', 'CCCA', 'GGAG', 'CATC', 'ACTC', 'GAGC', 'AATA', 'GCGG', 'TAAA', 'GGAG', 'GCTA', 'TTAG', 'CAAA', 'ATTG', 'TCAC', 'GATA', 'AGCG', 'CCGT', 'TGTA', 'GTGA', 'AATT', 'AAGA', 'TACA', 'TACA', 'TCGT', 'TTAG', 'CACA', 'TCAC', 'TCTC', 'ACGG', 'CGTC', 'TAGA', 'AGCT', 'GATC', 'TTCA', 'TATG', 'CTGA', 'CTCA', 'GAAG', 'GCTC', 'GGAT', 'AATA', 'GAGG', 'ACGA', 'AGGT', 'AGTT', 'TACT', 'CATC', 'GCTG', 'CCCC', 'GACT', 'ATTA', 'CGTG', 'TGCA', 'TGAT', 'AAAG', 'TCTG', 'ACCC', 'TGAC', 'GTTC', 'CCAA', 'GCCG', 'AGGC', 'AGAG', 'GGGT', 'TTTA', 'CGCT', 'GAAT', 'GTCC', 'GCTC', 'TCTG', 'TCGG', 'ATGA', 'TTTC', 'GGAA', 'GCTG']\n"
     ]
    }
   ],
   "source": [
    "# Your solution here\n",
    "dna_sequence = \"AGGCAAGAAGCTAGAATTCTGGCCTGAGTATCTCAGTACAGGCGCAGTCGAATCTTCCGGAATCACATTGCTCGCGCTTAAACCCGCTCTAAACCTTTGAGTAATTCGACGACATTGGGTTCCCTCCGACGCTGTCTGACAACTCTTTAAGATCCTTGGCACGATGTCGATAGACATTGTCCCTGATGACGCCTCACAAGGTAACCTGGCTCTAGTAGGGTGGTCTTTGCTGCGGAACTTACCACCTGGTGGATCCAAGCACCAGAGGAGTTCGAAGAGGCTGGGGTACCCCCTATTTAGGAAGGGCGAGACTACGGTCACAAATTCCAAATGGCTTCCCTCGATTCATGACGCCAGAATGCCTGGCTGTGCCAATTTGTCGCCTTGCGTCGTTCTGTCAATCTTTACTCGTGTCGTGTTGTGATAAATGACAAACCCTGCACAACGTAGGGCTCACACAAGGGAATCTAGAGTATCCGATACAGGGAGCTTTAGCTTCCGTCCCTTATAGCCTGCCATATTCTTGCGGTAGCACGAGCCTCAGATCTTCTCACTCCGGAAATGGGAGCTTCGACGGTCAAGGGCTAAGACGTCTTCGGGAGAAATACCTAGGCGATGACCCTGAGTGGTTTTCCGCGTATAACTCATCCTGGTTGCAAATGATTACCGTTATAGCCTGGGGATATGCCTCAATTCCGAACCCAGGAGCATCACTCGAGCAATAGCGGTAAAGGAGGCTATTAGCAAAATTGTCACGATAAGCGCCGTTGTAGTGAAATTAAGATACATACATCGTTTAGCACATCACTCTCACGGCGTCTAGAAGCTGATCTTCATATGCTGACTCAGAAGGCTCGGATAATAGAGGACGAAGGTAGTTTACTCATCGCTGCCCCGACTATTACGTGTGCATGATAAAGTCTGACCCTGACGTTCCCAAGCCGAGGCAGAGGGGTTTTACGCTGAATGTCCGCTCTCTGTCGGATGATTTCGGAAGCTG\"\n",
    "\n",
    "dna_split = [*dna_sequence]\n",
    "\n",
    "t_count_comp = len([\"T\" for letter in dna_split if letter == \"T\"])\n",
    "\n",
    "letter_count = {\"a_count\":0, \"t_count\":0, \"c_count\":0, \"g_count\":0}\n",
    "\n",
    "for letter in dna_split:\n",
    "    match letter:\n",
    "        case \"A\":\n",
    "            letter_count[\"a_count\"] += 1\n",
    "        case \"T\":\n",
    "            letter_count[\"t_count\"] += 1\n",
    "        case \"C\":\n",
    "            letter_count[\"c_count\"] += 1\n",
    "        case \"G\":\n",
    "            letter_count[\"g_count\"] += 1\n",
    "\n",
    "print(letter_count)\n",
    "\n",
    "dna_letters, dna_letter_count = np.unique(dna_split, return_counts = True)\n",
    "np_letter_count = dict(zip(dna_letters, dna_letter_count))\n",
    "print(np_letter_count)\n",
    "\n",
    "dna_split_4 = []\n",
    "for i in range(4, len(dna_sequence) + 1, 4):\n",
    "    dna_split_4.append(dna_sequence[(i - 4):i])\n",
    "\n",
    "print(dna_split_4)"
   ]
  }
 ],
 "metadata": {
  "kernelspec": {
   "display_name": "Python 3",
   "language": "python",
   "name": "python3"
  },
  "language_info": {
   "codemirror_mode": {
    "name": "ipython",
    "version": 3
   },
   "file_extension": ".py",
   "mimetype": "text/x-python",
   "name": "python",
   "nbconvert_exporter": "python",
   "pygments_lexer": "ipython3",
   "version": "3.10.6 (main, Nov 14 2022, 16:10:14) [GCC 11.3.0]"
  },
  "toc": {
   "base_numbering": 1,
   "nav_menu": {},
   "number_sections": true,
   "sideBar": true,
   "skip_h1_title": false,
   "title_cell": "Table of Contents",
   "title_sidebar": "Contents",
   "toc_cell": false,
   "toc_position": {},
   "toc_section_display": true,
   "toc_window_display": false
  },
  "vscode": {
   "interpreter": {
    "hash": "31f2aee4e71d21fbe5cf8b01ff0e069b9275f58929596ceb00d14d90e3e16cd6"
   }
  }
 },
 "nbformat": 4,
 "nbformat_minor": 5
}
