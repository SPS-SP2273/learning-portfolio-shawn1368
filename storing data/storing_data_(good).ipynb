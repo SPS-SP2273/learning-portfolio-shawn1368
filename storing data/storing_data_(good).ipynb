{
 "cells": [
  {
   "attachments": {},
   "cell_type": "markdown",
   "id": "123456",
   "metadata": {},
   "source": [
    "<div style=\"text-align:left;font-size:2em\"><span style=\"font-weight:bolder;font-size:1.25em\">SP2273 | Learning Portfolio</span><br><br><span style=\"font-weight:bold;color:darkred\">Storing Data (Good)</span></div>"
   ]
  },
  {
   "cell_type": "code",
   "execution_count": 1,
   "id": "692f9c2e",
   "metadata": {},
   "outputs": [],
   "source": [
    "import numpy as np"
   ]
  },
  {
   "attachments": {},
   "cell_type": "markdown",
   "id": "123456",
   "metadata": {},
   "source": [
    "## 1 Subsetting: Indexing and Slicing"
   ]
  },
  {
   "attachments": {},
   "cell_type": "markdown",
   "id": "123456",
   "metadata": {},
   "source": [
    "### 1.1 Indexing & Slicing 1D (Lists & Arrays)"
   ]
  },
  {
   "cell_type": "code",
   "execution_count": 2,
   "id": "123456",
   "metadata": {},
   "outputs": [
    {
     "name": "stdout",
     "output_type": "stream",
     "text": [
      "0\n",
      "[1 2 3 4]\n",
      "[1 3 5 7]\n",
      "[]\n",
      "[14 13 12 11 10  9  8  7  6  5  4  3  2  1  0]\n"
     ]
    }
   ],
   "source": [
    "\n",
    "# Your code here\n",
    "arr_1d = np.arange(15)\n",
    "print(arr_1d[0])\n",
    "print(arr_1d[1:5])\n",
    "print(arr_1d[1:9:2])\n",
    "print(arr_1d[1:5:-1])\n",
    "print(arr_1d[::-1])"
   ]
  },
  {
   "attachments": {},
   "cell_type": "markdown",
   "id": "123456",
   "metadata": {},
   "source": [
    "### 1.2 Subsetting by masking (Arrays only)"
   ]
  },
  {
   "attachments": {},
   "cell_type": "markdown",
   "id": "b187d25f",
   "metadata": {},
   "source": [
    "Note that this is only one of two examples of \"advanced indexing\" in numpy: the other case is when you supply an array or list of integers as an index to numpy"
   ]
  },
  {
   "cell_type": "code",
   "execution_count": 3,
   "id": "123456",
   "metadata": {},
   "outputs": [
    {
     "name": "stdout",
     "output_type": "stream",
     "text": [
      "[4 5 6 7 8 9]\n",
      "[0 2 4 6 8]\n"
     ]
    }
   ],
   "source": [
    "\n",
    "# Your code here\n",
    "np_array = np.arange(10)\n",
    "print(np_array[np_array > 3])\n",
    "print(np_array[[True, False, True, False, True, False, True, False, True, False]])"
   ]
  },
  {
   "cell_type": "code",
   "execution_count": 4,
   "id": "d35f605a",
   "metadata": {},
   "outputs": [
    {
     "data": {
      "text/plain": "array([0, 1, 2, 3])"
     },
     "execution_count": 4,
     "metadata": {},
     "output_type": "execute_result"
    }
   ],
   "source": [
    "np_array[~(np_array > 3)]                         # '~' means 'NOT'"
   ]
  },
  {
   "cell_type": "code",
   "execution_count": 5,
   "id": "eb428898",
   "metadata": {},
   "outputs": [
    {
     "data": {
      "text/plain": "array([4, 5, 6, 7])"
     },
     "execution_count": 5,
     "metadata": {},
     "output_type": "execute_result"
    }
   ],
   "source": [
    "np_array[(np_array > 3) & (np_array < 8)]         # '&' means 'AND'"
   ]
  },
  {
   "cell_type": "code",
   "execution_count": 6,
   "id": "4386b1bd",
   "metadata": {},
   "outputs": [
    {
     "data": {
      "text/plain": "array([0, 1, 2, 9])"
     },
     "execution_count": 6,
     "metadata": {},
     "output_type": "execute_result"
    }
   ],
   "source": [
    "np_array[(np_array < 3) | (np_array > 8)]         # '|' means 'OR'"
   ]
  },
  {
   "cell_type": "code",
   "execution_count": 7,
   "outputs": [],
   "source": [
    "np_array_small_3d = np.arange(8).reshape(2, 2, 2)"
   ],
   "metadata": {
    "collapsed": false
   }
  },
  {
   "cell_type": "code",
   "execution_count": 19,
   "outputs": [
    {
     "data": {
      "text/plain": "array([[[0, 1],\n        [2, 3]]])"
     },
     "execution_count": 19,
     "metadata": {},
     "output_type": "execute_result"
    }
   ],
   "source": [
    "np_array_small_3d[np.array([True, False])] # Similar result to np_array_small_3d[0], but with an extra dimension"
   ],
   "metadata": {
    "collapsed": false
   }
  },
  {
   "cell_type": "code",
   "execution_count": 20,
   "outputs": [
    {
     "data": {
      "text/plain": "array([[0, 1],\n       [6, 7]])"
     },
     "execution_count": 20,
     "metadata": {},
     "output_type": "execute_result"
    }
   ],
   "source": [
    "np_array_small_3d[np.array([[True, False], [False, True]])] # Essentially returning an array containing np_array_small_3d[0, 0, :] and np_array_small_3d[1, 1, :]"
   ],
   "metadata": {
    "collapsed": false
   }
  },
  {
   "attachments": {},
   "cell_type": "markdown",
   "id": "123456",
   "metadata": {},
   "source": [
    "### 1.3 Indexing & Slicing 2D Lists"
   ]
  },
  {
   "cell_type": "code",
   "execution_count": 8,
   "id": "123456",
   "metadata": {},
   "outputs": [
    {
     "name": "stdout",
     "output_type": "stream",
     "text": [
      "B\n",
      "[[2, 'B'], [3, 'C'], [4, 'D'], [5, 'E']]\n",
      "[3, 'C']\n"
     ]
    }
   ],
   "source": [
    "\n",
    "# Your code here\n",
    "py_list_2d = [[1, \"A\"], [2, \"B\"], [3, \"C\"], [4, \"D\"],\n",
    "              [5, \"E\"], [6, \"F\"], [7, \"G\"], [8, \"H\"],\n",
    "              [9, \"I\"], [10, \"J\"]]\n",
    "print(py_list_2d[1][1])\n",
    "print(py_list_2d[1:5])\n",
    "print(py_list_2d[1:5][1]) # First grabs the slice 1:5, then selects the second element of that slice"
   ]
  },
  {
   "attachments": {},
   "cell_type": "markdown",
   "id": "123456",
   "metadata": {},
   "source": [
    "### 1.4 Indexing & Slicing 2D Arrays"
   ]
  },
  {
   "cell_type": "code",
   "execution_count": 9,
   "id": "123456",
   "metadata": {},
   "outputs": [
    {
     "name": "stdout",
     "output_type": "stream",
     "text": [
      "[['2' 'B']\n",
      " ['3' 'C']\n",
      " ['4' 'D']\n",
      " ['5' 'E']]\n",
      "['B' 'C' 'D' 'E']\n"
     ]
    }
   ],
   "source": [
    "\n",
    "# Your code here\n",
    "np_array_2d = np.array([[1, \"A\"], [2, \"B\"], [3, \"C\"], [4, \"D\"],\n",
    "                        [5, \"E\"], [6, \"F\"], [7, \"G\"], [8, \"H\"],\n",
    "                        [9, \"I\"], [10, \"J\"]])\n",
    "np_array_3d = np.arange(200).reshape(10, 10, 2)\n",
    "print(np_array_2d[1:5])\n",
    "print(np_array_2d[1:5, 1]) # Grabs all the items in the array that fit the indices"
   ]
  },
  {
   "cell_type": "markdown",
   "source": [
    "### Multidimensional NumPy Arrays"
   ],
   "metadata": {
    "collapsed": false
   }
  },
  {
   "cell_type": "code",
   "execution_count": 10,
   "outputs": [
    {
     "data": {
      "text/plain": "(5, 5, 4, 2)"
     },
     "execution_count": 10,
     "metadata": {},
     "output_type": "execute_result"
    }
   ],
   "source": [
    "np_array_4d = np.arange(200).reshape(5, 5, -1, 2) # using -1 in reshape will select an appropriate number that can fit in the remaining dimensions\n",
    "np_array_4d.shape"
   ],
   "metadata": {
    "collapsed": false
   }
  },
  {
   "cell_type": "code",
   "execution_count": 11,
   "outputs": [
    {
     "name": "stdout",
     "output_type": "stream",
     "text": [
      "51\n",
      "[[[  1   3   5   7]\n",
      "  [  9  11  13  15]\n",
      "  [ 17  19  21  23]\n",
      "  [ 25  27  29  31]\n",
      "  [ 33  35  37  39]]\n",
      "\n",
      " [[ 41  43  45  47]\n",
      "  [ 49  51  53  55]\n",
      "  [ 57  59  61  63]\n",
      "  [ 65  67  69  71]\n",
      "  [ 73  75  77  79]]\n",
      "\n",
      " [[ 81  83  85  87]\n",
      "  [ 89  91  93  95]\n",
      "  [ 97  99 101 103]\n",
      "  [105 107 109 111]\n",
      "  [113 115 117 119]]\n",
      "\n",
      " [[121 123 125 127]\n",
      "  [129 131 133 135]\n",
      "  [137 139 141 143]\n",
      "  [145 147 149 151]\n",
      "  [153 155 157 159]]\n",
      "\n",
      " [[161 163 165 167]\n",
      "  [169 171 173 175]\n",
      "  [177 179 181 183]\n",
      "  [185 187 189 191]\n",
      "  [193 195 197 199]]]\n",
      "[[ 4 12 20]\n",
      " [44 52 60]]\n",
      "[[ 0  2  4  6]\n",
      " [ 8 10 12 14]\n",
      " [16 18 20 22]\n",
      " [24 26 28 30]\n",
      " [32 34 36 38]]\n"
     ]
    }
   ],
   "source": [
    "print(np_array_4d[1, 1, 1, 1])\n",
    "print(np_array_4d[:, :, :, 1]) # This returns an array with the same dimensionality as the indices i.e. a 3 dimensional array\n",
    "print(np_array_4d[0:2, 0:3, 2, 0]) # This returns a 2d array\n",
    "print(np_array_4d[0, ..., 0]) # ... will skip over everything that can be skipped over, treating the skipped indices as :"
   ],
   "metadata": {
    "collapsed": false
   }
  },
  {
   "cell_type": "code",
   "execution_count": 12,
   "outputs": [
    {
     "name": "stdout",
     "output_type": "stream",
     "text": [
      "[[[[ 40  41]\n",
      "   [ 42  43]\n",
      "   [ 44  45]\n",
      "   [ 46  47]]\n",
      "\n",
      "  [[ 48  49]\n",
      "   [ 50  51]\n",
      "   [ 52  53]\n",
      "   [ 54  55]]\n",
      "\n",
      "  [[ 56  57]\n",
      "   [ 58  59]\n",
      "   [ 60  61]\n",
      "   [ 62  63]]\n",
      "\n",
      "  [[ 64  65]\n",
      "   [ 66  67]\n",
      "   [ 68  69]\n",
      "   [ 70  71]]\n",
      "\n",
      "  [[ 72  73]\n",
      "   [ 74  75]\n",
      "   [ 76  77]\n",
      "   [ 78  79]]]\n",
      "\n",
      "\n",
      " [[[  0   1]\n",
      "   [  2   3]\n",
      "   [  4   5]\n",
      "   [  6   7]]\n",
      "\n",
      "  [[  8   9]\n",
      "   [ 10  11]\n",
      "   [ 12  13]\n",
      "   [ 14  15]]\n",
      "\n",
      "  [[ 16  17]\n",
      "   [ 18  19]\n",
      "   [ 20  21]\n",
      "   [ 22  23]]\n",
      "\n",
      "  [[ 24  25]\n",
      "   [ 26  27]\n",
      "   [ 28  29]\n",
      "   [ 30  31]]\n",
      "\n",
      "  [[ 32  33]\n",
      "   [ 34  35]\n",
      "   [ 36  37]\n",
      "   [ 38  39]]]\n",
      "\n",
      "\n",
      " [[[160 161]\n",
      "   [162 163]\n",
      "   [164 165]\n",
      "   [166 167]]\n",
      "\n",
      "  [[168 169]\n",
      "   [170 171]\n",
      "   [172 173]\n",
      "   [174 175]]\n",
      "\n",
      "  [[176 177]\n",
      "   [178 179]\n",
      "   [180 181]\n",
      "   [182 183]]\n",
      "\n",
      "  [[184 185]\n",
      "   [186 187]\n",
      "   [188 189]\n",
      "   [190 191]]\n",
      "\n",
      "  [[192 193]\n",
      "   [194 195]\n",
      "   [196 197]\n",
      "   [198 199]]]\n",
      "\n",
      "\n",
      " [[[ 80  81]\n",
      "   [ 82  83]\n",
      "   [ 84  85]\n",
      "   [ 86  87]]\n",
      "\n",
      "  [[ 88  89]\n",
      "   [ 90  91]\n",
      "   [ 92  93]\n",
      "   [ 94  95]]\n",
      "\n",
      "  [[ 96  97]\n",
      "   [ 98  99]\n",
      "   [100 101]\n",
      "   [102 103]]\n",
      "\n",
      "  [[104 105]\n",
      "   [106 107]\n",
      "   [108 109]\n",
      "   [110 111]]\n",
      "\n",
      "  [[112 113]\n",
      "   [114 115]\n",
      "   [116 117]\n",
      "   [118 119]]]]\n",
      "[[['2' 'B']\n",
      "  ['1' 'A']]\n",
      "\n",
      " [['1' 'A']\n",
      "  ['2' 'B']]]\n",
      "[['B' '1']\n",
      " ['1' 'B']]\n"
     ]
    }
   ],
   "source": [
    "# Advanced indexing with multidimensional arrays\n",
    "# The rules essentially work as such: The rules for advanced indexing are applied first, then the basic indexing rules are applied\n",
    "\n",
    "# The numbers in the array provided are replaced with the results of the index np_array_4d[x, ...]\n",
    "# i.e. the result of this operation is a broadcasted index operation\n",
    "# i.e. 2: [np_array_4d[1, ...], np_array_4d[0, ...], np_array_4d[4, ...], np_array_4d[2, ...]\n",
    "print(np_array_4d[[1, 0, 4, 2]])\n",
    "\n",
    "# The final array depends on the shape of the initial array\n",
    "print(np_array_2d[np.array([[1, 0], [0, 1]])])\n",
    "\n",
    "# If multiple arrays are provided, they are first broadcast across each other, then the same broadcasted index operation as before happens, but as np_array_4d[x, y, z, a, ...]\n",
    "# The result of the operation below is [[np_array_2d[1, 1], np_array_2d[0, 0]], [np_array_2d[0, 0], np_array_2d[0, 1]]\n",
    "print(np_array_2d[np.array([[1, 0], [0, 1]]), np.array([[1, 0], [0, 1]])])"
   ],
   "metadata": {
    "collapsed": false
   }
  },
  {
   "attachments": {},
   "cell_type": "markdown",
   "id": "123456",
   "metadata": {},
   "source": [
    "### 1.5 Growing lists"
   ]
  },
  {
   "cell_type": "code",
   "execution_count": 13,
   "id": "123456",
   "metadata": {},
   "outputs": [
    {
     "data": {
      "text/plain": "[1, 1, 1, 1, 1, 1, 1, 1, 1, 1]"
     },
     "execution_count": 13,
     "metadata": {},
     "output_type": "execute_result"
    }
   ],
   "source": [
    "\n",
    "# Your code here\n",
    "x=[1]*10\n",
    "x "
   ]
  },
  {
   "cell_type": "code",
   "execution_count": 14,
   "id": "ac73f700",
   "metadata": {},
   "outputs": [
    {
     "data": {
      "text/plain": "[1, 2, 3, 4]"
     },
     "execution_count": 14,
     "metadata": {},
     "output_type": "execute_result"
    }
   ],
   "source": [
    "x=[1]\n",
    "x+= [2, 3, 4]\n",
    "x"
   ]
  },
  {
   "cell_type": "code",
   "execution_count": 15,
   "id": "5973ea46",
   "metadata": {},
   "outputs": [
    {
     "data": {
      "text/plain": "[1, 2, 3, 4, 5, 6]"
     },
     "execution_count": 15,
     "metadata": {},
     "output_type": "execute_result"
    }
   ],
   "source": [
    "x = [1, 2, 3, 4, 5]\n",
    "x.append(6)\n",
    "x"
   ]
  },
  {
   "attachments": {},
   "cell_type": "markdown",
   "id": "123456",
   "metadata": {},
   "source": [
    "## 2 Some loose ends"
   ]
  },
  {
   "attachments": {},
   "cell_type": "markdown",
   "id": "123456",
   "metadata": {},
   "source": [
    "### 2.1 Tuples"
   ]
  },
  {
   "cell_type": "code",
   "execution_count": 23,
   "id": "123456",
   "metadata": {},
   "outputs": [
    {
     "name": "stdout",
     "output_type": "stream",
     "text": [
      "1\n"
     ]
    }
   ],
   "source": [
    "\n",
    "# Your code here\n",
    "a=(1, 2, 3)     # Define tuple\n",
    "print(a[0])    # Access data"
   ]
  },
  {
   "cell_type": "code",
   "execution_count": 24,
   "outputs": [
    {
     "ename": "TypeError",
     "evalue": "'tuple' object does not support item assignment",
     "output_type": "error",
     "traceback": [
      "\u001B[0;31m---------------------------------------------------------------------------\u001B[0m",
      "\u001B[0;31mTypeError\u001B[0m                                 Traceback (most recent call last)",
      "Cell \u001B[0;32mIn[24], line 2\u001B[0m\n\u001B[1;32m      1\u001B[0m \u001B[38;5;66;03m# The following will NOT work\u001B[39;00m\n\u001B[0;32m----> 2\u001B[0m \u001B[43ma\u001B[49m\u001B[43m[\u001B[49m\u001B[38;5;241;43m0\u001B[39;49m\u001B[43m]\u001B[49m\u001B[38;5;241m=\u001B[39m\u001B[38;5;241m-\u001B[39m\u001B[38;5;241m1\u001B[39m\n\u001B[1;32m      3\u001B[0m a[\u001B[38;5;241m0\u001B[39m] \u001B[38;5;241m+\u001B[39m\u001B[38;5;241m=\u001B[39m [\u001B[38;5;241m10\u001B[39m]\n",
      "\u001B[0;31mTypeError\u001B[0m: 'tuple' object does not support item assignment"
     ]
    }
   ],
   "source": [
    "# The following will NOT work\n",
    "a[0]=-1\n",
    "a[0] += [10]"
   ],
   "metadata": {
    "collapsed": false
   }
  },
  {
   "attachments": {},
   "cell_type": "markdown",
   "id": "123456",
   "metadata": {},
   "source": [
    "### 2.2 Be VERY careful when copying"
   ]
  },
  {
   "cell_type": "code",
   "execution_count": 25,
   "id": "123456",
   "metadata": {},
   "outputs": [],
   "source": [
    "\n",
    "# Your code here\n",
    "x=[1, 2, 3]\n",
    "y=x           # DON'T do this!\n",
    "z=x           # DON'T do this!\n",
    "# The above simply assign y and z to the same object as x, which means that y and z are equivalent to x as shown below"
   ]
  },
  {
   "cell_type": "code",
   "execution_count": 26,
   "outputs": [
    {
     "data": {
      "text/plain": "True"
     },
     "execution_count": 26,
     "metadata": {},
     "output_type": "execute_result"
    }
   ],
   "source": [
    "y is x"
   ],
   "metadata": {
    "collapsed": false
   }
  },
  {
   "cell_type": "code",
   "execution_count": 27,
   "outputs": [
    {
     "data": {
      "text/plain": "True"
     },
     "execution_count": 27,
     "metadata": {},
     "output_type": "execute_result"
    }
   ],
   "source": [
    "z is x"
   ],
   "metadata": {
    "collapsed": false
   }
  },
  {
   "cell_type": "code",
   "execution_count": 29,
   "outputs": [],
   "source": [
    "x=[1, 2, 3]\n",
    "y=x.copy()\n",
    "z=x.copy()\n",
    "# this only creates a new object, but reuses the same data entries as the original array\n",
    "# this is fine for immutable numbers, but not for mutable data values"
   ],
   "metadata": {
    "collapsed": false
   }
  },
  {
   "cell_type": "code",
   "execution_count": 30,
   "outputs": [
    {
     "data": {
      "text/plain": "False"
     },
     "execution_count": 30,
     "metadata": {},
     "output_type": "execute_result"
    }
   ],
   "source": [
    "y is x"
   ],
   "metadata": {
    "collapsed": false
   }
  },
  {
   "cell_type": "code",
   "execution_count": 31,
   "outputs": [
    {
     "data": {
      "text/plain": "False"
     },
     "execution_count": 31,
     "metadata": {},
     "output_type": "execute_result"
    }
   ],
   "source": [
    "z is x"
   ],
   "metadata": {
    "collapsed": false
   }
  },
  {
   "attachments": {},
   "cell_type": "markdown",
   "id": "123456",
   "metadata": {},
   "source": [
    "## Exercise 1 :  Total recall?"
   ]
  },
  {
   "cell_type": "markdown",
   "source": [
    "| **Term**   | **Brief Description**                                                                                                                                                                                                                                                      |\n",
    "|------------|----------------------------------------------------------------------------------------------------------------------------------------------------------------------------------------------------------------------------------------------------------------------------|\n",
    "| Subsetting | Subsetting is obtaining a subset list or array from a parent list or array.                                                                                                                                                                                                |\n",
    "| Indexing   | Indexing is an operation that allows you to retrieve the value at a certain index of a list or numpy array.                                                                                                                                                                |\n",
    "| Slicing    | Slicing is an operation that allows you to obtain a \"slice\" or subset of a list or numpy array.                                                                                                                                                                            |\n",
    "| Masking    | Masking allows you to obtain values from a numpy array by providing another numpy array of the same size consisting of the boolean values `True` and `False`. The masking operation only returns values whose corresponding masking array index contains the value `True`. |"
   ],
   "metadata": {
    "collapsed": false
   }
  },
  {
   "attachments": {},
   "cell_type": "markdown",
   "id": "123456",
   "metadata": {},
   "source": [
    "## Exercise 2 :  Show me the ‘odd’ letters"
   ]
  },
  {
   "cell_type": "code",
   "execution_count": 18,
   "id": "123456",
   "metadata": {},
   "outputs": [
    {
     "name": "stdout",
     "output_type": "stream",
     "text": [
      "['A' 'C' 'E' 'G' 'I']\n"
     ]
    }
   ],
   "source": [
    "np_array_2d = np.array([[1, \"A\"], [3, \"C\"], [2, \"B\"], [4, \"D\"],\n",
    "                        [5, \"E\"], [7, \"G\"], [6, \"F\"], [8, \"H\"],\n",
    "                        [10, \"J\"], [9, \"I\"]])\n",
    "\n",
    "numbers = np_array_2d[:, 0].astype('int')\n",
    "odd_letters = np_array_2d[:, 1][numbers % 2 == 1]\n",
    "print(odd_letters)\n"
   ]
  }
 ],
 "metadata": {
  "kernelspec": {
   "display_name": "Python 3",
   "language": "python",
   "name": "python3"
  },
  "language_info": {
   "codemirror_mode": {
    "name": "ipython",
    "version": 3
   },
   "file_extension": ".py",
   "mimetype": "text/x-python",
   "name": "python",
   "nbconvert_exporter": "python",
   "pygments_lexer": "ipython3",
   "version": "3.11.1"
  },
  "toc": {
   "base_numbering": 1,
   "nav_menu": {},
   "number_sections": true,
   "sideBar": true,
   "skip_h1_title": false,
   "title_cell": "Table of Contents",
   "title_sidebar": "Contents",
   "toc_cell": false,
   "toc_position": {},
   "toc_section_display": true,
   "toc_window_display": false
  },
  "vscode": {
   "interpreter": {
    "hash": "ddb2d42615ac33cc9b63e230f006aec5fab78db5f62bccfa5516e9f0fc5e4dc4"
   }
  }
 },
 "nbformat": 4,
 "nbformat_minor": 5
}
