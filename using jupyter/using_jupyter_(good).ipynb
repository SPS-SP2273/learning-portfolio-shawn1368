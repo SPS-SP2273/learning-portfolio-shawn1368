{
 "cells": [
  {
   "cell_type": "markdown",
   "id": "123456",
   "metadata": {},
   "source": [
    "<div style=\"text-align:left;font-size:2em\"><span style=\"font-weight:bolder;font-size:1.25em\">SP2273 | Learning Portfolio</span><br><br><span style=\"font-weight:bold;color:darkred\">Using Jupyter (Good)</span></div>"
   ]
  },
  {
   "cell_type": "markdown",
   "id": "49972a10",
   "metadata": {},
   "source": [
    "## 1 Some tips and tricks"
   ]
  },
  {
   "cell_type": "markdown",
   "id": "0a9e8a30",
   "metadata": {},
   "source": [
    "### 1.1 Keyboard Shortcuts"
   ]
  },
  {
   "cell_type": "code",
   "execution_count": 1,
   "id": "080d00d4",
   "metadata": {},
   "outputs": [
    {
     "name": "stdout",
     "output_type": "stream",
     "text": [
      "Hello World\n",
      "'using_jupyter_(good).ipynb'  'using_jupyter_(need).ipynb'\r\n"
     ]
    }
   ],
   "source": [
    "# Your code here\n",
    "print(\"Hello World\")\n",
    "!ls"
   ]
  },
  {
   "cell_type": "markdown",
   "id": "5a6d9086",
   "metadata": {},
   "source": [
    "### 1.2 Shell commands"
   ]
  },
  {
   "cell_type": "code",
   "execution_count": 2,
   "id": "26d3b05e",
   "metadata": {},
   "outputs": [
    {
     "name": "stdout",
     "output_type": "stream",
     "text": [
      "/windows_drives/CDrive/Users/huaen/Insync/huaen.lim@gmail.com/OneDrive/Documents V2/General Documents/5. University Documents/Y1S2/SP2273/learning-portfolio-shawn1368/using jupyter\r\n"
     ]
    }
   ],
   "source": [
    "# Your code here\n",
    "!pwd"
   ]
  },
  {
   "cell_type": "markdown",
   "id": "c218e6b6",
   "metadata": {},
   "source": [
    "## 2 Jupyter Extensions"
   ]
  },
  {
   "cell_type": "markdown",
   "id": "75018dcd",
   "metadata": {},
   "source": [
    "### 2.1 Installing the extensions"
   ]
  },
  {
   "cell_type": "markdown",
   "id": "010999e5",
   "metadata": {},
   "source": [
    "Using the command `conda install -c conda-forge jupyter_contrib_nbextensions` or `pip install jupyter_contrib_nbextensions`, along with `jupyter contrib nbextension install --user`"
   ]
  },
  {
   "cell_type": "markdown",
   "id": "2b804a2f",
   "metadata": {},
   "source": [
    "### 2.2 Enabling the extensions"
   ]
  },
  {
   "cell_type": "markdown",
   "id": "1a763113",
   "metadata": {},
   "source": [
    "Enable the extensions either from the command line (`jupyter nbextension enable <extension path>`) or from the jupyter notebook interface"
   ]
  },
  {
   "cell_type": "markdown",
   "id": "490f3618",
   "metadata": {},
   "source": [
    "## 3 Shell Magic"
   ]
  },
  {
   "cell_type": "code",
   "execution_count": 1,
   "id": "4733a5a3",
   "metadata": {
    "ExecuteTime": {
     "end_time": "2023-01-12T08:14:35.213393Z",
     "start_time": "2023-01-12T08:14:35.090016Z"
    }
   },
   "outputs": [
    {
     "name": "stdout",
     "output_type": "stream",
     "text": [
      "'using_jupyter_(good).ipynb'  'using_jupyter_(need).ipynb'\r\n"
     ]
    }
   ],
   "source": [
    "!ls"
   ]
  },
  {
   "cell_type": "code",
   "execution_count": 2,
   "id": "0b22709f",
   "metadata": {
    "ExecuteTime": {
     "end_time": "2023-01-12T08:16:01.648025Z",
     "start_time": "2023-01-12T08:16:01.527474Z"
    }
   },
   "outputs": [
    {
     "name": "stdout",
     "output_type": "stream",
     "text": [
      "/windows_drives/CDrive/Users/huaen/Insync/huaen.lim@gmail.com/OneDrive/Documents V2/General Documents/5. University Documents/Y1S2/SP2273/learning-portfolio-shawn1368/using jupyter\r\n"
     ]
    }
   ],
   "source": [
    "!pwd"
   ]
  },
  {
   "cell_type": "markdown",
   "id": "eaee33b5",
   "metadata": {},
   "source": [
    "## 4 The Kernel"
   ]
  },
  {
   "cell_type": "markdown",
   "id": "abd5303f",
   "metadata": {},
   "source": [
    "The kernel essentially forms the backend for jupyter notebooks and runs all the code and stuff in a jupyter notebook  \n",
    "You can select different kernels or reset the kernel if it's acting up"
   ]
  },
  {
   "cell_type": "markdown",
   "id": "30da8e3b",
   "metadata": {},
   "source": [
    "## Exercise 1 :  A new shortcut"
   ]
  },
  {
   "cell_type": "markdown",
   "id": "98fdb399",
   "metadata": {},
   "source": [
    "Couldn't set up the `Esc + 9 + 9` shortcut properly, so set up the shortcut as `9, 9` instead"
   ]
  }
 ],
 "metadata": {
  "kernelspec": {
   "display_name": "Python 3 (ipykernel)",
   "language": "python",
   "name": "python3"
  },
  "language_info": {
   "codemirror_mode": {
    "name": "ipython",
    "version": 3
   },
   "file_extension": ".py",
   "mimetype": "text/x-python",
   "name": "python",
   "nbconvert_exporter": "python",
   "pygments_lexer": "ipython3",
   "version": "3.11.1"
  },
  "toc": {
   "base_numbering": 1,
   "nav_menu": {
    "height": "227px",
    "width": "260px"
   },
   "number_sections": true,
   "sideBar": true,
   "skip_h1_title": false,
   "title_cell": "Table of Contents",
   "title_sidebar": "Contents",
   "toc_cell": false,
   "toc_position": {},
   "toc_section_display": true,
   "toc_window_display": true
  },
  "varInspector": {
   "cols": {
    "lenName": 16,
    "lenType": 16,
    "lenVar": 40
   },
   "kernels_config": {
    "python": {
     "delete_cmd_postfix": "",
     "delete_cmd_prefix": "del ",
     "library": "var_list.py",
     "varRefreshCmd": "print(var_dic_list())"
    },
    "r": {
     "delete_cmd_postfix": ") ",
     "delete_cmd_prefix": "rm(",
     "library": "var_list.r",
     "varRefreshCmd": "cat(var_dic_list()) "
    }
   },
   "types_to_exclude": [
    "module",
    "function",
    "builtin_function_or_method",
    "instance",
    "_Feature"
   ],
   "window_display": false
  },
  "vscode": {
   "interpreter": {
    "hash": "31f2aee4e71d21fbe5cf8b01ff0e069b9275f58929596ceb00d14d90e3e16cd6"
   }
  }
 },
 "nbformat": 4,
 "nbformat_minor": 5
}
