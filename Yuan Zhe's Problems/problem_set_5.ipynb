{
 "cells": [
  {
   "cell_type": "markdown",
   "metadata": {
    "collapsed": false
   },
   "source": [
    "# Problem Set 5"
   ]
  },
  {
   "cell_type": "code",
   "execution_count": 10,
   "metadata": {
    "collapsed": false
   },
   "outputs": [
    {
     "data": {
      "text/plain": "<contextlib.ExitStack at 0x1306e3050>"
     },
     "execution_count": 10,
     "metadata": {},
     "output_type": "execute_result"
    }
   ],
   "source": [
    "# Standard Setup\n",
    "import numpy as np\n",
    "import matplotlib as mpl\n",
    "import matplotlib.pyplot as plt\n",
    "import pandas as pd\n",
    "import seaborn as sns\n",
    "import datetime\n",
    "plt.xkcd()"
   ]
  },
  {
   "cell_type": "code",
   "execution_count": 33,
   "metadata": {},
   "outputs": [
    {
     "data": {
      "text/plain": "         Date  Number of cans  Amount in SGD\n0  2022-02-11               2          21.40\n1  2022-02-12               1          12.84\n2  2022-02-13               2          21.40\n3  2022-02-14              10         128.40\n4  2022-02-15               2          21.40\n5  2022-02-16               2          25.68\n6  2022-02-17               2          21.40\n7  2022-02-18              10         128.40\n8  2022-02-19               2          21.40\n9  2022-02-20               2          25.68",
      "text/html": "<div>\n<style scoped>\n    .dataframe tbody tr th:only-of-type {\n        vertical-align: middle;\n    }\n\n    .dataframe tbody tr th {\n        vertical-align: top;\n    }\n\n    .dataframe thead th {\n        text-align: right;\n    }\n</style>\n<table border=\"1\" class=\"dataframe\">\n  <thead>\n    <tr style=\"text-align: right;\">\n      <th></th>\n      <th>Date</th>\n      <th>Number of cans</th>\n      <th>Amount in SGD</th>\n    </tr>\n  </thead>\n  <tbody>\n    <tr>\n      <th>0</th>\n      <td>2022-02-11</td>\n      <td>2</td>\n      <td>21.40</td>\n    </tr>\n    <tr>\n      <th>1</th>\n      <td>2022-02-12</td>\n      <td>1</td>\n      <td>12.84</td>\n    </tr>\n    <tr>\n      <th>2</th>\n      <td>2022-02-13</td>\n      <td>2</td>\n      <td>21.40</td>\n    </tr>\n    <tr>\n      <th>3</th>\n      <td>2022-02-14</td>\n      <td>10</td>\n      <td>128.40</td>\n    </tr>\n    <tr>\n      <th>4</th>\n      <td>2022-02-15</td>\n      <td>2</td>\n      <td>21.40</td>\n    </tr>\n    <tr>\n      <th>5</th>\n      <td>2022-02-16</td>\n      <td>2</td>\n      <td>25.68</td>\n    </tr>\n    <tr>\n      <th>6</th>\n      <td>2022-02-17</td>\n      <td>2</td>\n      <td>21.40</td>\n    </tr>\n    <tr>\n      <th>7</th>\n      <td>2022-02-18</td>\n      <td>10</td>\n      <td>128.40</td>\n    </tr>\n    <tr>\n      <th>8</th>\n      <td>2022-02-19</td>\n      <td>2</td>\n      <td>21.40</td>\n    </tr>\n    <tr>\n      <th>9</th>\n      <td>2022-02-20</td>\n      <td>2</td>\n      <td>25.68</td>\n    </tr>\n  </tbody>\n</table>\n</div>"
     },
     "execution_count": 33,
     "metadata": {},
     "output_type": "execute_result"
    }
   ],
   "source": [
    "# Initialise the dataframe\n",
    "df_drinks = pd.read_csv(\"drinking.csv\", header=1)\n",
    "df_drinks"
   ]
  },
  {
   "cell_type": "markdown",
   "metadata": {
    "collapsed": false
   },
   "source": [
    "## Problem Set 5.1"
   ]
  },
  {
   "cell_type": "code",
   "execution_count": 3,
   "metadata": {
    "collapsed": false
   },
   "outputs": [],
   "source": [
    "x = np.arange(1,11)\n",
    "y = x**2\n",
    "coordinates = list(zip(x, y))\n",
    "np.savetxt(\"quadratic.csv\", coordinates)"
   ]
  },
  {
   "cell_type": "markdown",
   "metadata": {
    "collapsed": false
   },
   "source": [
    "## Problem Set 5.2"
   ]
  },
  {
   "cell_type": "code",
   "execution_count": 4,
   "metadata": {
    "collapsed": false
   },
   "outputs": [
    {
     "data": {
      "text/plain": "Date               object\nNumber of cans      int64\nAmount in SGD     float64\ndtype: object"
     },
     "execution_count": 4,
     "metadata": {},
     "output_type": "execute_result"
    }
   ],
   "source": [
    "df_drinks.dtypes"
   ]
  },
  {
   "cell_type": "code",
   "execution_count": 34,
   "outputs": [],
   "source": [
    "df_drinks[\"Date\"] = df_drinks[\"Date\"].apply(lambda x: datetime.datetime.strptime(x, \"%Y-%m-%d\"))"
   ],
   "metadata": {
    "collapsed": false
   }
  },
  {
   "cell_type": "code",
   "execution_count": 35,
   "outputs": [
    {
     "data": {
      "text/plain": "Date              datetime64[ns]\nNumber of cans             int64\nAmount in SGD            float64\ndtype: object"
     },
     "execution_count": 35,
     "metadata": {},
     "output_type": "execute_result"
    }
   ],
   "source": [
    "df_drinks.dtypes"
   ],
   "metadata": {
    "collapsed": false
   }
  },
  {
   "cell_type": "markdown",
   "metadata": {
    "collapsed": false
   },
   "source": [
    "## Problem Set 5.3"
   ]
  },
  {
   "cell_type": "code",
   "execution_count": 37,
   "outputs": [],
   "source": [
    "df_drinks_2 = pd.read_csv(\"drinking2.csv\", header=1)\n",
    "df_drinks_2[\"Date\"] = df_drinks_2[\"Date\"].apply(lambda x: datetime.datetime.strptime(x, \"%Y-%m-%d\"))"
   ],
   "metadata": {
    "collapsed": false
   }
  },
  {
   "cell_type": "code",
   "execution_count": 42,
   "outputs": [
    {
     "data": {
      "text/plain": "        Date  Number of cans  Amount in SGD\n0 2022-02-11               2          21.40\n1 2022-02-12               1          12.84\n2 2022-02-13               2          21.40\n3 2022-02-14              10         128.40\n4 2022-02-15               2          21.40\n5 2022-02-16               2          25.68\n6 2022-02-17               2          21.40\n7 2022-02-18              10         128.40\n8 2022-02-19               2          21.40\n9 2022-02-20               2          25.68\n0 2022-02-21               2          21.40\n1 2022-02-22               2          25.68\n2 2022-02-23               2          25.68",
      "text/html": "<div>\n<style scoped>\n    .dataframe tbody tr th:only-of-type {\n        vertical-align: middle;\n    }\n\n    .dataframe tbody tr th {\n        vertical-align: top;\n    }\n\n    .dataframe thead th {\n        text-align: right;\n    }\n</style>\n<table border=\"1\" class=\"dataframe\">\n  <thead>\n    <tr style=\"text-align: right;\">\n      <th></th>\n      <th>Date</th>\n      <th>Number of cans</th>\n      <th>Amount in SGD</th>\n    </tr>\n  </thead>\n  <tbody>\n    <tr>\n      <th>0</th>\n      <td>2022-02-11</td>\n      <td>2</td>\n      <td>21.40</td>\n    </tr>\n    <tr>\n      <th>1</th>\n      <td>2022-02-12</td>\n      <td>1</td>\n      <td>12.84</td>\n    </tr>\n    <tr>\n      <th>2</th>\n      <td>2022-02-13</td>\n      <td>2</td>\n      <td>21.40</td>\n    </tr>\n    <tr>\n      <th>3</th>\n      <td>2022-02-14</td>\n      <td>10</td>\n      <td>128.40</td>\n    </tr>\n    <tr>\n      <th>4</th>\n      <td>2022-02-15</td>\n      <td>2</td>\n      <td>21.40</td>\n    </tr>\n    <tr>\n      <th>5</th>\n      <td>2022-02-16</td>\n      <td>2</td>\n      <td>25.68</td>\n    </tr>\n    <tr>\n      <th>6</th>\n      <td>2022-02-17</td>\n      <td>2</td>\n      <td>21.40</td>\n    </tr>\n    <tr>\n      <th>7</th>\n      <td>2022-02-18</td>\n      <td>10</td>\n      <td>128.40</td>\n    </tr>\n    <tr>\n      <th>8</th>\n      <td>2022-02-19</td>\n      <td>2</td>\n      <td>21.40</td>\n    </tr>\n    <tr>\n      <th>9</th>\n      <td>2022-02-20</td>\n      <td>2</td>\n      <td>25.68</td>\n    </tr>\n    <tr>\n      <th>0</th>\n      <td>2022-02-21</td>\n      <td>2</td>\n      <td>21.40</td>\n    </tr>\n    <tr>\n      <th>1</th>\n      <td>2022-02-22</td>\n      <td>2</td>\n      <td>25.68</td>\n    </tr>\n    <tr>\n      <th>2</th>\n      <td>2022-02-23</td>\n      <td>2</td>\n      <td>25.68</td>\n    </tr>\n  </tbody>\n</table>\n</div>"
     },
     "execution_count": 42,
     "metadata": {},
     "output_type": "execute_result"
    }
   ],
   "source": [
    "concat_df_drinks = pd.concat(objs=[df_drinks, df_drinks_2])\n",
    "concat_df_drinks"
   ],
   "metadata": {
    "collapsed": false
   }
  },
  {
   "cell_type": "markdown",
   "source": [
    "Pandas concat merges two dataframes together via their indices, either by the row or column indices. Pandas does not edit the indices of the dataframes when concatenating."
   ],
   "metadata": {
    "collapsed": false
   }
  },
  {
   "cell_type": "markdown",
   "metadata": {
    "collapsed": false
   },
   "source": [
    "## Problem Set 5.4"
   ]
  },
  {
   "cell_type": "code",
   "execution_count": 46,
   "metadata": {
    "collapsed": false
   },
   "outputs": [
    {
     "data": {
      "text/plain": "         Date     Brand\n0  2022-02-11     Tiger\n1  2022-02-12  Guinness\n2  2022-02-13  Heineken\n3  2022-02-14  Guinness\n4  2022-02-15     Tiger\n5  2022-02-16  Guinness\n6  2022-02-20  Heineken\n7  2022-02-17  Heineken\n8  2022-02-18     Tiger\n9  2022-02-19  Heineken\n10 2022-02-21  Guinness\n11 2022-02-22  Heineken\n12 2022-02-23     Tiger",
      "text/html": "<div>\n<style scoped>\n    .dataframe tbody tr th:only-of-type {\n        vertical-align: middle;\n    }\n\n    .dataframe tbody tr th {\n        vertical-align: top;\n    }\n\n    .dataframe thead th {\n        text-align: right;\n    }\n</style>\n<table border=\"1\" class=\"dataframe\">\n  <thead>\n    <tr style=\"text-align: right;\">\n      <th></th>\n      <th>Date</th>\n      <th>Brand</th>\n    </tr>\n  </thead>\n  <tbody>\n    <tr>\n      <th>0</th>\n      <td>2022-02-11</td>\n      <td>Tiger</td>\n    </tr>\n    <tr>\n      <th>1</th>\n      <td>2022-02-12</td>\n      <td>Guinness</td>\n    </tr>\n    <tr>\n      <th>2</th>\n      <td>2022-02-13</td>\n      <td>Heineken</td>\n    </tr>\n    <tr>\n      <th>3</th>\n      <td>2022-02-14</td>\n      <td>Guinness</td>\n    </tr>\n    <tr>\n      <th>4</th>\n      <td>2022-02-15</td>\n      <td>Tiger</td>\n    </tr>\n    <tr>\n      <th>5</th>\n      <td>2022-02-16</td>\n      <td>Guinness</td>\n    </tr>\n    <tr>\n      <th>6</th>\n      <td>2022-02-20</td>\n      <td>Heineken</td>\n    </tr>\n    <tr>\n      <th>7</th>\n      <td>2022-02-17</td>\n      <td>Heineken</td>\n    </tr>\n    <tr>\n      <th>8</th>\n      <td>2022-02-18</td>\n      <td>Tiger</td>\n    </tr>\n    <tr>\n      <th>9</th>\n      <td>2022-02-19</td>\n      <td>Heineken</td>\n    </tr>\n    <tr>\n      <th>10</th>\n      <td>2022-02-21</td>\n      <td>Guinness</td>\n    </tr>\n    <tr>\n      <th>11</th>\n      <td>2022-02-22</td>\n      <td>Heineken</td>\n    </tr>\n    <tr>\n      <th>12</th>\n      <td>2022-02-23</td>\n      <td>Tiger</td>\n    </tr>\n  </tbody>\n</table>\n</div>"
     },
     "execution_count": 46,
     "metadata": {},
     "output_type": "execute_result"
    }
   ],
   "source": [
    "df_brands = pd.read_csv(\"brand.csv\", header=1)\n",
    "df_brands[\"Date\"] = df_brands[\"Date\"].apply(lambda x: datetime.datetime.strptime(x, \"%Y-%m-%d\"))\n",
    "df_brands"
   ]
  },
  {
   "cell_type": "code",
   "execution_count": 47,
   "outputs": [
    {
     "data": {
      "text/plain": "         Date  Number of cans  Amount in SGD     Brand\n0  2022-02-11               2          21.40     Tiger\n1  2022-02-12               1          12.84  Guinness\n2  2022-02-13               2          21.40  Heineken\n3  2022-02-14              10         128.40  Guinness\n4  2022-02-15               2          21.40     Tiger\n5  2022-02-16               2          25.68  Guinness\n6  2022-02-17               2          21.40  Heineken\n7  2022-02-18              10         128.40     Tiger\n8  2022-02-19               2          21.40  Heineken\n9  2022-02-20               2          25.68  Heineken\n10 2022-02-21               2          21.40  Guinness\n11 2022-02-22               2          25.68  Heineken\n12 2022-02-23               2          25.68     Tiger",
      "text/html": "<div>\n<style scoped>\n    .dataframe tbody tr th:only-of-type {\n        vertical-align: middle;\n    }\n\n    .dataframe tbody tr th {\n        vertical-align: top;\n    }\n\n    .dataframe thead th {\n        text-align: right;\n    }\n</style>\n<table border=\"1\" class=\"dataframe\">\n  <thead>\n    <tr style=\"text-align: right;\">\n      <th></th>\n      <th>Date</th>\n      <th>Number of cans</th>\n      <th>Amount in SGD</th>\n      <th>Brand</th>\n    </tr>\n  </thead>\n  <tbody>\n    <tr>\n      <th>0</th>\n      <td>2022-02-11</td>\n      <td>2</td>\n      <td>21.40</td>\n      <td>Tiger</td>\n    </tr>\n    <tr>\n      <th>1</th>\n      <td>2022-02-12</td>\n      <td>1</td>\n      <td>12.84</td>\n      <td>Guinness</td>\n    </tr>\n    <tr>\n      <th>2</th>\n      <td>2022-02-13</td>\n      <td>2</td>\n      <td>21.40</td>\n      <td>Heineken</td>\n    </tr>\n    <tr>\n      <th>3</th>\n      <td>2022-02-14</td>\n      <td>10</td>\n      <td>128.40</td>\n      <td>Guinness</td>\n    </tr>\n    <tr>\n      <th>4</th>\n      <td>2022-02-15</td>\n      <td>2</td>\n      <td>21.40</td>\n      <td>Tiger</td>\n    </tr>\n    <tr>\n      <th>5</th>\n      <td>2022-02-16</td>\n      <td>2</td>\n      <td>25.68</td>\n      <td>Guinness</td>\n    </tr>\n    <tr>\n      <th>6</th>\n      <td>2022-02-17</td>\n      <td>2</td>\n      <td>21.40</td>\n      <td>Heineken</td>\n    </tr>\n    <tr>\n      <th>7</th>\n      <td>2022-02-18</td>\n      <td>10</td>\n      <td>128.40</td>\n      <td>Tiger</td>\n    </tr>\n    <tr>\n      <th>8</th>\n      <td>2022-02-19</td>\n      <td>2</td>\n      <td>21.40</td>\n      <td>Heineken</td>\n    </tr>\n    <tr>\n      <th>9</th>\n      <td>2022-02-20</td>\n      <td>2</td>\n      <td>25.68</td>\n      <td>Heineken</td>\n    </tr>\n    <tr>\n      <th>10</th>\n      <td>2022-02-21</td>\n      <td>2</td>\n      <td>21.40</td>\n      <td>Guinness</td>\n    </tr>\n    <tr>\n      <th>11</th>\n      <td>2022-02-22</td>\n      <td>2</td>\n      <td>25.68</td>\n      <td>Heineken</td>\n    </tr>\n    <tr>\n      <th>12</th>\n      <td>2022-02-23</td>\n      <td>2</td>\n      <td>25.68</td>\n      <td>Tiger</td>\n    </tr>\n  </tbody>\n</table>\n</div>"
     },
     "execution_count": 47,
     "metadata": {},
     "output_type": "execute_result"
    }
   ],
   "source": [
    "merge_df_drinks = concat_df_drinks.merge(df_brands, on=\"Date\")\n",
    "merge_df_drinks"
   ],
   "metadata": {
    "collapsed": false
   }
  },
  {
   "cell_type": "markdown",
   "source": [
    "Pandas concat merges the dataframes via the indices of a selected axis, while pandas merge merges the dataframes via a selected column's values, like a relational database."
   ],
   "metadata": {
    "collapsed": false
   }
  },
  {
   "cell_type": "markdown",
   "metadata": {
    "collapsed": false
   },
   "source": [
    "## Problem Set 5.5"
   ]
  },
  {
   "cell_type": "code",
   "execution_count": 48,
   "metadata": {
    "collapsed": false
   },
   "outputs": [],
   "source": [
    "df_drinks = merge_df_drinks"
   ]
  },
  {
   "cell_type": "code",
   "execution_count": 50,
   "outputs": [],
   "source": [
    "df_drinks[\"Amount in SGD\"] = df_drinks[\"Amount in SGD\"].agg(lambda x:x * 1.07)"
   ],
   "metadata": {
    "collapsed": false
   }
  },
  {
   "cell_type": "markdown",
   "metadata": {
    "collapsed": false
   },
   "source": [
    "## Problem Set 5.6"
   ]
  },
  {
   "cell_type": "code",
   "execution_count": 51,
   "metadata": {
    "collapsed": false
   },
   "outputs": [],
   "source": [
    "df_drinks[\"Price per can in SGD\"] = df_drinks[\"Amount in SGD\"] / df_drinks[\"Number of cans\"]"
   ]
  },
  {
   "cell_type": "markdown",
   "metadata": {
    "collapsed": false
   },
   "source": [
    "## Problem Set 5.7"
   ]
  },
  {
   "cell_type": "code",
   "execution_count": 54,
   "metadata": {
    "collapsed": false
   },
   "outputs": [],
   "source": [
    "df_drinks.drop(\"Amount in SGD\", axis=1, inplace=True)"
   ]
  },
  {
   "cell_type": "markdown",
   "metadata": {
    "collapsed": false
   },
   "source": [
    "## Problem Set 5.8"
   ]
  },
  {
   "cell_type": "code",
   "execution_count": 55,
   "metadata": {
    "collapsed": false
   },
   "outputs": [
    {
     "name": "stdout",
     "output_type": "stream",
     "text": [
      "Guinness  \n",
      "          Date  Number of cans     Brand  Price per can in SGD\n",
      "1  2022-02-12               1  Guinness               13.7388\n",
      "3  2022-02-14              10  Guinness               13.7388\n",
      "5  2022-02-16               2  Guinness               13.7388\n",
      "10 2022-02-21               2  Guinness               11.4490  \n",
      "\n",
      "Heineken  \n",
      "          Date  Number of cans     Brand  Price per can in SGD\n",
      "2  2022-02-13               2  Heineken               11.4490\n",
      "6  2022-02-17               2  Heineken               11.4490\n",
      "8  2022-02-19               2  Heineken               11.4490\n",
      "9  2022-02-20               2  Heineken               13.7388\n",
      "11 2022-02-22               2  Heineken               13.7388  \n",
      "\n",
      "Tiger  \n",
      "          Date  Number of cans  Brand  Price per can in SGD\n",
      "0  2022-02-11               2  Tiger               11.4490\n",
      "4  2022-02-15               2  Tiger               11.4490\n",
      "7  2022-02-18              10  Tiger               13.7388\n",
      "12 2022-02-23               2  Tiger               13.7388  \n",
      "\n"
     ]
    }
   ],
   "source": [
    "for i, j in df_drinks.groupby(by = 'Brand'):\n",
    "  print(f'{i}  \\n {j}  \\n')"
   ]
  },
  {
   "cell_type": "markdown",
   "source": [
    "Groupby essentially splits the remaining columns by the column fed to groupby. This allows functions to be performed on subsets of a dataset."
   ],
   "metadata": {
    "collapsed": false
   }
  },
  {
   "cell_type": "markdown",
   "metadata": {
    "collapsed": false
   },
   "source": [
    "## Problem Set 5.9"
   ]
  },
  {
   "cell_type": "code",
   "execution_count": 57,
   "metadata": {
    "collapsed": false
   },
   "outputs": [
    {
     "data": {
      "text/plain": "Brand\nGuinness    15\nHeineken    10\nTiger       16\nName: Number of cans, dtype: int64"
     },
     "execution_count": 57,
     "metadata": {},
     "output_type": "execute_result"
    }
   ],
   "source": [
    "df_drinks.groupby(by = 'Brand')[\"Number of cans\"].sum()"
   ]
  },
  {
   "cell_type": "markdown",
   "metadata": {
    "collapsed": false
   },
   "source": [
    "## Problem Set 5.10"
   ]
  },
  {
   "cell_type": "code",
   "execution_count": 64,
   "metadata": {
    "collapsed": false
   },
   "outputs": [
    {
     "data": {
      "text/plain": "Text(0.5, 1.0, 'Number of cans drank per day')"
     },
     "execution_count": 64,
     "metadata": {},
     "output_type": "execute_result"
    },
    {
     "data": {
      "text/plain": "<Figure size 640x480 with 1 Axes>",
      "image/png": "[encoded data removed]"
     },
     "metadata": {},
     "output_type": "display_data"
    }
   ],
   "source": [
    "fig, ax = plt.subplots()\n",
    "ax.plot(df_drinks[\"Date\"], df_drinks[\"Number of cans\"]) # TODO fix the axis here\n",
    "ax.set_xlabel(\"Date\")\n",
    "ax.set_ylabel(\"Number of cans\")\n",
    "ax.set_title(\"Number of cans drank per day\")"
   ]
  },
  {
   "cell_type": "markdown",
   "metadata": {
    "collapsed": false
   },
   "source": [
    "## Problem Set 5.11"
   ]
  },
  {
   "cell_type": "code",
   "execution_count": 76,
   "metadata": {
    "collapsed": false
   },
   "outputs": [],
   "source": [
    "t = np.arange(0, 10, 0.01)\n",
    "s = 0.5 * 9.81 * (t ** 2)\n",
    "\n",
    "with open('exercise511.txt', 'w') as f:\n",
    "  f.write(f'Lim Hua En, {datetime.datetime.today()}')\n",
    "\n",
    "np.savetxt('exercise511.txt', t)\n",
    "np.savetxt('exercise511.txt', s)"
   ]
  },
  {
   "cell_type": "markdown",
   "metadata": {
    "collapsed": false
   },
   "source": [
    "## Problem Set 5.12"
   ]
  },
  {
   "cell_type": "code",
   "execution_count": null,
   "metadata": {
    "collapsed": false
   },
   "outputs": [],
   "source": []
  },
  {
   "cell_type": "markdown",
   "metadata": {
    "collapsed": false
   },
   "source": [
    "## Problem Set 5.13"
   ]
  },
  {
   "cell_type": "code",
   "execution_count": 114,
   "metadata": {
    "collapsed": false
   },
   "outputs": [
    {
     "name": "stdout",
     "output_type": "stream",
     "text": [
      "    planet  distance   mass  gravity  diameter   year  average density\n",
      "7  Neptune     30.00   17.0     1.12      3.88  164.0         0.291041\n",
      "6   Uranus     19.20   15.0     0.89      4.01   84.0         0.232626\n",
      "4  Jupiter      5.20  318.0     2.36     11.20   11.9         0.226346\n",
      "5   Saturn      9.58   95.0     0.92      9.45   29.0         0.112571\n"
     ]
    }
   ],
   "source": [
    "# Import the dataset\n",
    "df_planets = pd.read_table('planet_data.txt', sep=\" \", header=1)\n",
    "\n",
    "# Find Earth's density and mass\n",
    "earth_data = df_planets.loc[df_planets[\"planet\"] == \"Earth\"]\n",
    "earth_density = earth_data[\"mass\"] / (1.333 * np.pi * (earth_data[\"diameter\"] / 2) ** 3)\n",
    "earth_density = earth_density.values[0]\n",
    "earth_mass = earth_data[\"mass\"].values[0]\n",
    "\n",
    "# Calculate the average density of all planets relative to that of Earth\n",
    "df_planets[\"average density\"] = (df_planets[\"mass\"] / (1.333 * np.pi * (df_planets[\"diameter\"] / 2) ** 3)) / earth_density\n",
    "\n",
    "# Filter the dataset to only include planets larger than Earth\n",
    "filtered_df_planets = df_planets.loc[df_planets[\"mass\"] > earth_mass]\n",
    "filtered_df_planets = filtered_df_planets.sort_values(by=\"average density\", ascending=False)\n",
    "print(filtered_df_planets)"
   ]
  },
  {
   "cell_type": "markdown",
   "metadata": {
    "collapsed": false
   },
   "source": [
    "## Problem Set 5.14"
   ]
  },
  {
   "cell_type": "code",
   "execution_count": null,
   "metadata": {
    "collapsed": false
   },
   "outputs": [],
   "source": []
  },
  {
   "cell_type": "markdown",
   "metadata": {
    "collapsed": false
   },
   "source": [
    "## Problem Set 5.15"
   ]
  },
  {
   "cell_type": "code",
   "execution_count": null,
   "metadata": {
    "collapsed": false
   },
   "outputs": [],
   "source": []
  }
 ],
 "metadata": {
  "kernelspec": {
   "display_name": "Python 3",
   "language": "python",
   "name": "python3"
  },
  "language_info": {
   "codemirror_mode": {
    "name": "ipython",
    "version": 3
   },
   "file_extension": ".py",
   "mimetype": "text/x-python",
   "name": "python",
   "nbconvert_exporter": "python",
   "pygments_lexer": "ipython3",
   "version": "3.11.1"
  },
  "vscode": {
   "interpreter": {
    "hash": "e41934ef35aa3d51f530a811487c6538b78e1f0bce7b6691116f7f0a2c9e850b"
   }
  }
 },
 "nbformat": 4,
 "nbformat_minor": 0
}
